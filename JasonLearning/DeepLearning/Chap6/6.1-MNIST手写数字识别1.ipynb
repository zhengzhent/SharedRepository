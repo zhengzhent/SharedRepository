{
 "cells": [
  {
   "cell_type": "markdown",
   "metadata": {},
   "source": [
    "# 基于单个神经元的手写数字识别\n",
    "\n",
    "吴明晖\n",
    "\n",
    "浙江大学城市学院\n",
    "\n",
    "2020.02"
   ]
  },
  {
   "cell_type": "markdown",
   "metadata": {
    "toc": true
   },
   "source": [
    "<h1>目录<span class=\"tocSkip\"></span></h1>\n",
    "<div class=\"toc\"><ul class=\"toc-item\"><li><span><a href=\"#本章内容介绍\" data-toc-modified-id=\"本章内容介绍-1\"><span class=\"toc-item-num\">1&nbsp;&nbsp;</span>本章内容介绍</a></span></li><li><span><a href=\"#Tensorflow实现基于单个神经元的手写数字识别\" data-toc-modified-id=\"Tensorflow实现基于单个神经元的手写数字识别-2\"><span class=\"toc-item-num\">2&nbsp;&nbsp;</span>Tensorflow实现基于单个神经元的手写数字识别</a></span><ul class=\"toc-item\"><li><span><a href=\"#神经元函数及优化方法\" data-toc-modified-id=\"神经元函数及优化方法-2.1\"><span class=\"toc-item-num\">2.1&nbsp;&nbsp;</span>神经元函数及优化方法</a></span><ul class=\"toc-item\"><li><span><a href=\"#单个神经元的网络模型\" data-toc-modified-id=\"单个神经元的网络模型-2.1.1\"><span class=\"toc-item-num\">2.1.1&nbsp;&nbsp;</span>单个神经元的网络模型</a></span></li><li><span><a href=\"#激活函数\" data-toc-modified-id=\"激活函数-2.1.2\"><span class=\"toc-item-num\">2.1.2&nbsp;&nbsp;</span>激活函数</a></span></li></ul></li><li><span><a href=\"#载入数据\" data-toc-modified-id=\"载入数据-2.2\"><span class=\"toc-item-num\">2.2&nbsp;&nbsp;</span>载入数据</a></span></li><li><span><a href=\"#构建模型\" data-toc-modified-id=\"构建模型-2.3\"><span class=\"toc-item-num\">2.3&nbsp;&nbsp;</span>构建模型</a></span></li><li><span><a href=\"#训练模型\" data-toc-modified-id=\"训练模型-2.4\"><span class=\"toc-item-num\">2.4&nbsp;&nbsp;</span>训练模型</a></span></li><li><span><a href=\"#评估模型\" data-toc-modified-id=\"评估模型-2.5\"><span class=\"toc-item-num\">2.5&nbsp;&nbsp;</span>评估模型</a></span></li><li><span><a href=\"#进行预测\" data-toc-modified-id=\"进行预测-2.6\"><span class=\"toc-item-num\">2.6&nbsp;&nbsp;</span>进行预测</a></span></li></ul></li><li><span><a href=\"#Tensorflow实现基于单隐层神经网络的手写数字识别\" data-toc-modified-id=\"Tensorflow实现基于单隐层神经网络的手写数字识别-3\"><span class=\"toc-item-num\">3&nbsp;&nbsp;</span>Tensorflow实现基于单隐层神经网络的手写数字识别</a></span></li><li><span><a href=\"#Tensorflow实现基于多隐层神经网络的手写数字识别\" data-toc-modified-id=\"Tensorflow实现基于多隐层神经网络的手写数字识别-4\"><span class=\"toc-item-num\">4&nbsp;&nbsp;</span>Tensorflow实现基于多隐层神经网络的手写数字识别</a></span></li></ul></div>"
   ]
  },
  {
   "cell_type": "markdown",
   "metadata": {},
   "source": [
    "# 本章内容介绍"
   ]
  },
  {
   "cell_type": "markdown",
   "metadata": {},
   "source": [
    "** 本章将介绍如何使用Tensorflow建立神经网络，训练、评估模型并使用训练好的模型识别手写数字MNIST。 ** <br> \n",
    "<br>\n",
    "** 关于MNIST数据集的介绍 **<br>\n",
    "详见：mnist_introduce.ipynb<br>\n",
    "<br>\n",
    "** 由简入繁，首先，构建由单个神经元组成的神经网络，然后尝试将模型加宽和加深，以提高分类准确率。 ** <br> \n",
    "** 参考范例程序： ** <br> \n",
    "- 单个神经元：mnist_single_neuron.ipynb <br> \n",
    "- 单隐层神经网络：mnist_h256.ipynb <br> \n",
    "- 多隐层神经网络：mnist_h256_h256.ipynb <br> \n"
   ]
  },
  {
   "cell_type": "markdown",
   "metadata": {},
   "source": [
    "# Tensorflow实现基于单个神经元的手写数字识别"
   ]
  },
  {
   "cell_type": "markdown",
   "metadata": {},
   "source": [
    "## 神经元函数及优化方法"
   ]
  },
  {
   "cell_type": "markdown",
   "metadata": {},
   "source": [
    "### 单个神经元的网络模型"
   ]
  },
  {
   "cell_type": "markdown",
   "metadata": {},
   "source": [
    "** 网络模型 **"
   ]
  },
  {
   "cell_type": "markdown",
   "metadata": {},
   "source": [
    "<center>\n",
    "<img src=\"neuron.jpg\" width=500 height=450 />\n",
    "图1. 单个神经元的网络模型\n",
    "</center>"
   ]
  },
  {
   "cell_type": "markdown",
   "metadata": {},
   "source": [
    "计算公式如下："
   ]
  },
  {
   "cell_type": "markdown",
   "metadata": {},
   "source": [
    "$${\\rm {output}}=f(z)=f(\\sum_{i=1}^n w_i \\times x_i + b)$$"
   ]
  },
  {
   "cell_type": "markdown",
   "metadata": {},
   "source": [
    "其中，$z$为输出结果，$x_i$为输入，$w_i$为相应的权重，$b$为偏置，$f$为激活函数。"
   ]
  },
  {
   "cell_type": "markdown",
   "metadata": {},
   "source": [
    "** 正向传播 **"
   ]
  },
  {
   "cell_type": "markdown",
   "metadata": {},
   "source": [
    "数据是从输入端流向输出端的，当赋予$w$和$b$合适的值并结合合适的激活函数时，可产生很好的拟合效果。"
   ]
  },
  {
   "cell_type": "markdown",
   "metadata": {},
   "source": [
    "** 反向传播 **"
   ]
  },
  {
   "cell_type": "markdown",
   "metadata": {},
   "source": [
    "- 反向传播的意义在于，告诉我们需要将w和b调整到多少。\n",
    "- 在刚开始没有得到合适的w和b时，正向传播所产生的结果与真实值之间存在误差，反向传播就是利用这个误差信号修正w和b的取值，从而获得一个与真实值更加接近的输出。\n",
    "- 在实际训练过程中，往往需要多次调整$w$和$b$，直至模型输出值与真实值小于某个阈值。"
   ]
  },
  {
   "cell_type": "markdown",
   "metadata": {},
   "source": [
    "### 激活函数"
   ]
  },
  {
   "cell_type": "markdown",
   "metadata": {},
   "source": [
    "运行时激活神经网络中部分神经元，将激活信息向后传入下一层神经网络。<br>\n",
    "激活函数的主要作用是，加入非线性因素，以解决线性模型表达能力不足的问题。<br>\n",
    "<br>\n",
    "** 常用激活函数 **<br>\n",
    "- （1）** Sigmoid **，在Tensorflow中对应函数为：tf.nn.sigmoid(x, name=None)\n",
    "- （2）** Tanh **，在Tensorflow中对应函数为：tf.nn.tanh(x, name=None)\n",
    "- （3）** Relu **，在Tensorflow中对应函数为：tf.nn.relu(x, name=None)\n"
   ]
  },
  {
   "cell_type": "markdown",
   "metadata": {},
   "source": [
    "## 载入数据"
   ]
  },
  {
   "cell_type": "code",
   "execution_count": 1,
   "metadata": {},
   "outputs": [
    {
     "name": "stdout",
     "output_type": "stream",
     "text": [
      "Tensorflow版本是： 2.0.0\n"
     ]
    }
   ],
   "source": [
    "import tensorflow as tf    # 导入Tensorflow\n",
    "import numpy as np     # 导入numpy\n",
    "import matplotlib.pyplot as plt # 导入matplotlib\n",
    "\n",
    "# 在Jupyter中，使用matplotlib显示图像需要设置为 inline 模式，否则不会在网页里显示图像\n",
    "%matplotlib inline\n",
    "\n",
    "print(\"Tensorflow版本是：\",tf.__version__) #显示当前TensorFlow版本"
   ]
  },
  {
   "cell_type": "markdown",
   "metadata": {},
   "source": [
    "提示\n",
    "mnist = tf.keras.datasets.mnist 将从网络上自动下载 MNIST 数据集并加载。如果运行时出现网络连接错误，可以从 https://storage.googleapis.com/tensorflow/tf-keras-datasets/mnist.npz 或 https://s3.amazonaws.com/img-datasets/mnist.npz 下载 MNIST 数据集 mnist.npz 文件，并放置于用户目录的 .keras/dataset 目录下（Windows 下用户目录为 C:\\Users\\用户名 ，Linux 下用户目录为 /home/用户名 ）。"
   ]
  },
  {
   "cell_type": "code",
   "execution_count": 2,
   "metadata": {},
   "outputs": [],
   "source": [
    "mnist = tf.keras.datasets.mnist\n",
    "(train_images, train_labels), (test_images, test_labels) = mnist.load_data()"
   ]
  },
  {
   "cell_type": "code",
   "execution_count": 3,
   "metadata": {},
   "outputs": [
    {
     "name": "stdout",
     "output_type": "stream",
     "text": [
      "Train image shape: (60000, 28, 28) Train label shape: (60000,)\n",
      "Test image shape: (10000, 28, 28) Test label shape: (10000,)\n"
     ]
    }
   ],
   "source": [
    "print(\"Train image shape:\",train_images.shape,\"Train label shape:\",train_labels.shape)\n",
    "print(\"Test image shape:\",test_images.shape,\"Test label shape:\",test_labels.shape)"
   ]
  },
  {
   "cell_type": "code",
   "execution_count": null,
   "metadata": {},
   "outputs": [],
   "source": [
    "def get_batch(train_data, train_label, batch_size):\n",
    "    # 从数据集中随机取出batch_size个元素并返回\n",
    "    index = np.random.randint(0, np.shape(train_data)[0], batch_size)\n",
    "    return train_data[index, :], train_label[index]"
   ]
  },
  {
   "cell_type": "code",
   "execution_count": null,
   "metadata": {},
   "outputs": [],
   "source": [
    "# get_batch(train_images, train_labels, 16)"
   ]
  },
  {
   "cell_type": "markdown",
   "metadata": {},
   "source": [
    "在 TensorFlow 中，图像数据集的一种典型表示是 [图像数目，长，宽，色彩通道数] 的四维张量。在上面的 DataLoader 类中， self.train_data 和 self.test_data 分别载入了 60,000 和 10,000 张大小为 28*28 的手写体数字图片。由于这里读入的是灰度图片，色彩通道数为 1（彩色 RGB 图像色彩通道数为 3），所以我们使用 np.expand_dims() 函数为图像数据手动在最后添加一维通道。"
   ]
  },
  {
   "cell_type": "code",
   "execution_count": null,
   "metadata": {},
   "outputs": [],
   "source": [
    "# train_images = np.expand_dims(train_images.astype(np.float32) / 255.0, axis=-1)      # [60000, 28, 28, 1]\n",
    "# test_images = np.expand_dims(test_images.astype(np.float32) / 255.0, axis=-1)      # [60000, 28, 28, 1]"
   ]
  },
  {
   "cell_type": "code",
   "execution_count": 4,
   "metadata": {},
   "outputs": [
    {
     "name": "stdout",
     "output_type": "stream",
     "text": [
      "image data: [[  0   0   0   0   0   0   0   0   0   0   0   0   0   0   0   0   0   0\n",
      "    0   0   0   0   0   0   0   0   0   0]\n",
      " [  0   0   0   0   0   0   0   0   0   0   0   0   0   0   0   0   0   0\n",
      "    0   0   0   0   0   0   0   0   0   0]\n",
      " [  0   0   0   0   0   0   0   0   0   0   0   0   0   0   0   0   0   0\n",
      "    0   0   0   0   0   0   0   0   0   0]\n",
      " [  0   0   0   0   0   0   0   0   0   0   0   0   0   0   0   0   0   0\n",
      "    0   0   0   0   0   0   0   0   0   0]\n",
      " [  0   0   0   0   0   0   0   0   0   0   0   0   0   0   0  51 159 253\n",
      "  159  50   0   0   0   0   0   0   0   0]\n",
      " [  0   0   0   0   0   0   0   0   0   0   0   0   0   0  48 238 252 252\n",
      "  252 237   0   0   0   0   0   0   0   0]\n",
      " [  0   0   0   0   0   0   0   0   0   0   0   0   0  54 227 253 252 239\n",
      "  233 252  57   6   0   0   0   0   0   0]\n",
      " [  0   0   0   0   0   0   0   0   0   0   0  10  60 224 252 253 252 202\n",
      "   84 252 253 122   0   0   0   0   0   0]\n",
      " [  0   0   0   0   0   0   0   0   0   0   0 163 252 252 252 253 252 252\n",
      "   96 189 253 167   0   0   0   0   0   0]\n",
      " [  0   0   0   0   0   0   0   0   0   0  51 238 253 253 190 114 253 228\n",
      "   47  79 255 168   0   0   0   0   0   0]\n",
      " [  0   0   0   0   0   0   0   0   0  48 238 252 252 179  12  75 121  21\n",
      "    0   0 253 243  50   0   0   0   0   0]\n",
      " [  0   0   0   0   0   0   0   0  38 165 253 233 208  84   0   0   0   0\n",
      "    0   0 253 252 165   0   0   0   0   0]\n",
      " [  0   0   0   0   0   0   0   7 178 252 240  71  19  28   0   0   0   0\n",
      "    0   0 253 252 195   0   0   0   0   0]\n",
      " [  0   0   0   0   0   0   0  57 252 252  63   0   0   0   0   0   0   0\n",
      "    0   0 253 252 195   0   0   0   0   0]\n",
      " [  0   0   0   0   0   0   0 198 253 190   0   0   0   0   0   0   0   0\n",
      "    0   0 255 253 196   0   0   0   0   0]\n",
      " [  0   0   0   0   0   0  76 246 252 112   0   0   0   0   0   0   0   0\n",
      "    0   0 253 252 148   0   0   0   0   0]\n",
      " [  0   0   0   0   0   0  85 252 230  25   0   0   0   0   0   0   0   0\n",
      "    7 135 253 186  12   0   0   0   0   0]\n",
      " [  0   0   0   0   0   0  85 252 223   0   0   0   0   0   0   0   0   7\n",
      "  131 252 225  71   0   0   0   0   0   0]\n",
      " [  0   0   0   0   0   0  85 252 145   0   0   0   0   0   0   0  48 165\n",
      "  252 173   0   0   0   0   0   0   0   0]\n",
      " [  0   0   0   0   0   0  86 253 225   0   0   0   0   0   0 114 238 253\n",
      "  162   0   0   0   0   0   0   0   0   0]\n",
      " [  0   0   0   0   0   0  85 252 249 146  48  29  85 178 225 253 223 167\n",
      "   56   0   0   0   0   0   0   0   0   0]\n",
      " [  0   0   0   0   0   0  85 252 252 252 229 215 252 252 252 196 130   0\n",
      "    0   0   0   0   0   0   0   0   0   0]\n",
      " [  0   0   0   0   0   0  28 199 252 252 253 252 252 233 145   0   0   0\n",
      "    0   0   0   0   0   0   0   0   0   0]\n",
      " [  0   0   0   0   0   0   0  25 128 252 253 252 141  37   0   0   0   0\n",
      "    0   0   0   0   0   0   0   0   0   0]\n",
      " [  0   0   0   0   0   0   0   0   0   0   0   0   0   0   0   0   0   0\n",
      "    0   0   0   0   0   0   0   0   0   0]\n",
      " [  0   0   0   0   0   0   0   0   0   0   0   0   0   0   0   0   0   0\n",
      "    0   0   0   0   0   0   0   0   0   0]\n",
      " [  0   0   0   0   0   0   0   0   0   0   0   0   0   0   0   0   0   0\n",
      "    0   0   0   0   0   0   0   0   0   0]\n",
      " [  0   0   0   0   0   0   0   0   0   0   0   0   0   0   0   0   0   0\n",
      "    0   0   0   0   0   0   0   0   0   0]]\n",
      "label data: 0\n"
     ]
    }
   ],
   "source": [
    "print(\"image data:\",train_images[1])\n",
    "print(\"label data:\",train_labels[1])"
   ]
  },
  {
   "cell_type": "code",
   "execution_count": null,
   "metadata": {},
   "outputs": [],
   "source": [
    "import matplotlib.pyplot as plt\n",
    "\n",
    "def plot_image(image):\n",
    "    plt.imshow(image.reshape(28,28),cmap = 'binary')\n",
    "    plt.show()"
   ]
  },
  {
   "cell_type": "code",
   "execution_count": null,
   "metadata": {},
   "outputs": [],
   "source": [
    "plot_image(train_images[1])"
   ]
  },
  {
   "cell_type": "markdown",
   "metadata": {},
   "source": [
    "### 进一步理解reshape()"
   ]
  },
  {
   "cell_type": "code",
   "execution_count": null,
   "metadata": {},
   "outputs": [],
   "source": [
    "import numpy as np\n",
    "int_array = np.array([i for i in range(64)])\n",
    "print(int_array)"
   ]
  },
  {
   "cell_type": "code",
   "execution_count": null,
   "metadata": {},
   "outputs": [],
   "source": [
    "int_array.reshape(8,8)"
   ]
  },
  {
   "cell_type": "code",
   "execution_count": null,
   "metadata": {},
   "outputs": [],
   "source": [
    "int_array.reshape(4,16)"
   ]
  },
  {
   "cell_type": "code",
   "execution_count": null,
   "metadata": {},
   "outputs": [],
   "source": [
    "plt.imshow(train_images[1].reshape(14,56), cmap = 'binary')\n",
    "plt.show()"
   ]
  },
  {
   "cell_type": "markdown",
   "metadata": {},
   "source": [
    "### 划分验证集"
   ]
  },
  {
   "cell_type": "code",
   "execution_count": 5,
   "metadata": {},
   "outputs": [],
   "source": [
    "toatal_num = len(train_images)\n",
    "valid_split = 0.2    # 验证集的比例占20%\n",
    "train_num = int(toatal_num*(1-valid_split))    #训练集的数目\n",
    "\n",
    "valid_images = train_images[train_num:]   # 后20%给验证集\n",
    "valid_labels = train_labels[train_num:]\n",
    "\n",
    "train_images = train_images[:train_num]    # 前部分给训练集\n",
    "train_labels = train_labels[:train_num]"
   ]
  },
  {
   "cell_type": "code",
   "execution_count": 6,
   "metadata": {},
   "outputs": [
    {
     "data": {
      "text/plain": [
       "(48000, 28, 28)"
      ]
     },
     "execution_count": 6,
     "metadata": {},
     "output_type": "execute_result"
    }
   ],
   "source": [
    "valid_images.shape\n",
    "train_images.shape"
   ]
  },
  {
   "cell_type": "code",
   "execution_count": 7,
   "metadata": {},
   "outputs": [
    {
     "data": {
      "text/plain": [
       "array([[[0, 0, 0, ..., 0, 0, 0],\n",
       "        [0, 0, 0, ..., 0, 0, 0],\n",
       "        [0, 0, 0, ..., 0, 0, 0],\n",
       "        ...,\n",
       "        [0, 0, 0, ..., 0, 0, 0],\n",
       "        [0, 0, 0, ..., 0, 0, 0],\n",
       "        [0, 0, 0, ..., 0, 0, 0]],\n",
       "\n",
       "       [[0, 0, 0, ..., 0, 0, 0],\n",
       "        [0, 0, 0, ..., 0, 0, 0],\n",
       "        [0, 0, 0, ..., 0, 0, 0],\n",
       "        ...,\n",
       "        [0, 0, 0, ..., 0, 0, 0],\n",
       "        [0, 0, 0, ..., 0, 0, 0],\n",
       "        [0, 0, 0, ..., 0, 0, 0]],\n",
       "\n",
       "       [[0, 0, 0, ..., 0, 0, 0],\n",
       "        [0, 0, 0, ..., 0, 0, 0],\n",
       "        [0, 0, 0, ..., 0, 0, 0],\n",
       "        ...,\n",
       "        [0, 0, 0, ..., 0, 0, 0],\n",
       "        [0, 0, 0, ..., 0, 0, 0],\n",
       "        [0, 0, 0, ..., 0, 0, 0]],\n",
       "\n",
       "       ...,\n",
       "\n",
       "       [[0, 0, 0, ..., 0, 0, 0],\n",
       "        [0, 0, 0, ..., 0, 0, 0],\n",
       "        [0, 0, 0, ..., 0, 0, 0],\n",
       "        ...,\n",
       "        [0, 0, 0, ..., 0, 0, 0],\n",
       "        [0, 0, 0, ..., 0, 0, 0],\n",
       "        [0, 0, 0, ..., 0, 0, 0]],\n",
       "\n",
       "       [[0, 0, 0, ..., 0, 0, 0],\n",
       "        [0, 0, 0, ..., 0, 0, 0],\n",
       "        [0, 0, 0, ..., 0, 0, 0],\n",
       "        ...,\n",
       "        [0, 0, 0, ..., 0, 0, 0],\n",
       "        [0, 0, 0, ..., 0, 0, 0],\n",
       "        [0, 0, 0, ..., 0, 0, 0]],\n",
       "\n",
       "       [[0, 0, 0, ..., 0, 0, 0],\n",
       "        [0, 0, 0, ..., 0, 0, 0],\n",
       "        [0, 0, 0, ..., 0, 0, 0],\n",
       "        ...,\n",
       "        [0, 0, 0, ..., 0, 0, 0],\n",
       "        [0, 0, 0, ..., 0, 0, 0],\n",
       "        [0, 0, 0, ..., 0, 0, 0]]], dtype=uint8)"
      ]
     },
     "execution_count": 7,
     "metadata": {},
     "output_type": "execute_result"
    }
   ],
   "source": [
    "valid_images"
   ]
  },
  {
   "cell_type": "code",
   "execution_count": 8,
   "metadata": {},
   "outputs": [],
   "source": [
    "train_images = train_images.reshape(-1,784)\n",
    "valid_images = valid_images.reshape(-1,784)\n",
    "test_images = test_images.reshape(-1,784)"
   ]
  },
  {
   "cell_type": "markdown",
   "metadata": {},
   "source": [
    "### 特征数据归一化"
   ]
  },
  {
   "cell_type": "code",
   "execution_count": 9,
   "metadata": {},
   "outputs": [],
   "source": [
    "train_images = tf.cast(train_images/255.0, tf.float32)\n",
    "valid_images = tf.cast(valid_images/255.0, tf.float32)\n",
    "test_images = tf.cast(test_images/255.0, tf.float32)"
   ]
  },
  {
   "cell_type": "markdown",
   "metadata": {},
   "source": [
    "### 独热编码"
   ]
  },
  {
   "cell_type": "code",
   "execution_count": 10,
   "metadata": {},
   "outputs": [
    {
     "data": {
      "text/plain": [
       "<tf.Tensor: id=10, shape=(2, 10), dtype=float32, numpy=\n",
       "array([[0., 0., 0., 1., 0., 0., 0., 0., 0., 0.],\n",
       "       [0., 0., 0., 0., 1., 0., 0., 0., 0., 0.]], dtype=float32)>"
      ]
     },
     "execution_count": 10,
     "metadata": {},
     "output_type": "execute_result"
    }
   ],
   "source": [
    "x=[3,4]\n",
    "\n",
    "tf.one_hot(x, depth=10)"
   ]
  },
  {
   "cell_type": "code",
   "execution_count": 11,
   "metadata": {},
   "outputs": [],
   "source": [
    "# 对标签数据进行独热编码\n",
    "train_labels = tf.one_hot(train_labels, depth=10)\n",
    "valid_labels = tf.one_hot(valid_labels, depth=10)\n",
    "test_labels = tf.one_hot(test_labels, depth=10)"
   ]
  },
  {
   "cell_type": "markdown",
   "metadata": {},
   "source": [
    "## 构建模型"
   ]
  },
  {
   "cell_type": "code",
   "execution_count": 12,
   "metadata": {},
   "outputs": [],
   "source": [
    "def model(x, w, b):\n",
    "    pred = tf.matmul(x, w) + b\n",
    "    return tf.nn.softmax(pred)"
   ]
  },
  {
   "cell_type": "markdown",
   "metadata": {},
   "source": [
    "### 创建变量"
   ]
  },
  {
   "cell_type": "code",
   "execution_count": 13,
   "metadata": {},
   "outputs": [],
   "source": [
    "# 定义变量\n",
    "W = tf.Variable(tf.random.normal([784, 10],mean=0.0, stddev=1.0, dtype=tf.float32))\n",
    "B = tf.Variable(tf.zeros([10]),dtype = tf.float32) "
   ]
  },
  {
   "cell_type": "markdown",
   "metadata": {},
   "source": [
    "### 定义交叉熵损失函数 "
   ]
  },
  {
   "cell_type": "code",
   "execution_count": 14,
   "metadata": {},
   "outputs": [],
   "source": [
    "# 定义交叉熵损失函数\n",
    "\n",
    "def loss(x, y, w, b):\n",
    "    pred = model(x, w, b) #  计算模型预测值和标签值的差异\n",
    "    loss_ = tf.keras.losses.categorical_crossentropy(y_true=y, y_pred=pred)\n",
    "    return tf.reduce_mean(loss_)  # 求均值，得出均方差."
   ]
  },
  {
   "cell_type": "markdown",
   "metadata": {},
   "source": [
    "在本案例中，以正态分布的随机数初始化权重$W$，以常数0初始化偏置$b$"
   ]
  },
  {
   "cell_type": "markdown",
   "metadata": {},
   "source": [
    "当我们处理多分类任务时，通常需要使用Softmax Regression模型。<br>\n",
    "Softmax Regression会对每一类别估算出一个概率。<br>\n",
    "** 工作原理： **将判定为某一类的特征相加，然后将这些特征转化为判定是这一类的概率。<br>"
   ]
  },
  {
   "cell_type": "code",
   "execution_count": 15,
   "metadata": {},
   "outputs": [],
   "source": [
    "# pred = tf.nn.softmax(forward) # Softmax分类"
   ]
  },
  {
   "cell_type": "markdown",
   "metadata": {},
   "source": [
    "## 训练模型"
   ]
  },
  {
   "cell_type": "markdown",
   "metadata": {},
   "source": [
    "### 设置训练参数"
   ]
  },
  {
   "cell_type": "code",
   "execution_count": 16,
   "metadata": {},
   "outputs": [],
   "source": [
    "training_epochs = 20 # 训练轮数\n",
    "batch_size = 50  # 单次训练样本数（批次大小）\n",
    "learning_rate= 0.001  # 学习率"
   ]
  },
  {
   "cell_type": "markdown",
   "metadata": {},
   "source": [
    "### 定义梯度计算函数"
   ]
  },
  {
   "cell_type": "code",
   "execution_count": 17,
   "metadata": {},
   "outputs": [],
   "source": [
    "# 计算样本数据[x,y]在参数[w,b]点上的梯度\n",
    "def grad(x, y, w, b):\n",
    "    with tf.GradientTape() as tape:\n",
    "        loss_ = loss(x, y, w, b)\n",
    "    return tape.gradient(loss_, [w, b])# 返回梯度向量"
   ]
  },
  {
   "cell_type": "markdown",
   "metadata": {},
   "source": [
    "### 选择优化器"
   ]
  },
  {
   "cell_type": "code",
   "execution_count": 18,
   "metadata": {},
   "outputs": [],
   "source": [
    "#梯度下降优化器\n",
    "\n",
    "optimizer = tf.keras.optimizers.Adam(learning_rate=learning_rate)"
   ]
  },
  {
   "cell_type": "markdown",
   "metadata": {},
   "source": [
    "### 定义准确率"
   ]
  },
  {
   "cell_type": "code",
   "execution_count": 19,
   "metadata": {},
   "outputs": [],
   "source": [
    "def accuracy(x, y, w, b):\n",
    "    pred = model(x, w, b) #  计算模型预测值和标签值的差异\n",
    "    # 检查预测类别tf.argmax(pred, 1)与实际类别tf.argmax(y, 1)的匹配情况\n",
    "    correct_prediction = tf.equal(tf.argmax(pred, 1), tf.argmax(y, 1))\n",
    "    # 准确率，将布尔值转化为浮点数，并计算平均值\n",
    "    return tf.reduce_mean(tf.cast(correct_prediction, tf.float32)) "
   ]
  },
  {
   "cell_type": "markdown",
   "metadata": {},
   "source": [
    "### 模型训练"
   ]
  },
  {
   "cell_type": "code",
   "execution_count": 20,
   "metadata": {},
   "outputs": [
    {
     "name": "stdout",
     "output_type": "stream",
     "text": [
      "epoch=  1 ,train_loss=1.8383,train_acc=0.6705,val_loss=1.7417,val_acc=0.6893\n",
      "epoch=  2 ,train_loss=1.0722,train_acc=0.7874,val_loss=1.0079,val_acc=0.7998\n",
      "epoch=  3 ,train_loss=0.8303,train_acc=0.8289,val_loss=0.7869,val_acc=0.8388\n",
      "epoch=  4 ,train_loss=0.7024,train_acc=0.8515,val_loss=0.6739,val_acc=0.8587\n",
      "epoch=  5 ,train_loss=0.6219,train_acc=0.8656,val_loss=0.6041,val_acc=0.8702\n",
      "epoch=  6 ,train_loss=0.5662,train_acc=0.8756,val_loss=0.5564,val_acc=0.8777\n",
      "epoch=  7 ,train_loss=0.5254,train_acc=0.8826,val_loss=0.5217,val_acc=0.8857\n",
      "epoch=  8 ,train_loss=0.4934,train_acc=0.8880,val_loss=0.4951,val_acc=0.8894\n",
      "epoch=  9 ,train_loss=0.4685,train_acc=0.8923,val_loss=0.4747,val_acc=0.8919\n",
      "epoch= 10 ,train_loss=0.4479,train_acc=0.8958,val_loss=0.4580,val_acc=0.8941\n",
      "epoch= 11 ,train_loss=0.4305,train_acc=0.8985,val_loss=0.4440,val_acc=0.8967\n",
      "epoch= 12 ,train_loss=0.4157,train_acc=0.9004,val_loss=0.4321,val_acc=0.8989\n",
      "epoch= 13 ,train_loss=0.4027,train_acc=0.9026,val_loss=0.4218,val_acc=0.9007\n",
      "epoch= 14 ,train_loss=0.3906,train_acc=0.9052,val_loss=0.4120,val_acc=0.9018\n",
      "epoch= 15 ,train_loss=0.3803,train_acc=0.9065,val_loss=0.4039,val_acc=0.9027\n",
      "epoch= 16 ,train_loss=0.3710,train_acc=0.9082,val_loss=0.3964,val_acc=0.9037\n",
      "epoch= 17 ,train_loss=0.3627,train_acc=0.9094,val_loss=0.3897,val_acc=0.9044\n",
      "epoch= 18 ,train_loss=0.3550,train_acc=0.9112,val_loss=0.3836,val_acc=0.9053\n",
      "epoch= 19 ,train_loss=0.3480,train_acc=0.9128,val_loss=0.3781,val_acc=0.9068\n",
      "epoch= 20 ,train_loss=0.3415,train_acc=0.9140,val_loss=0.3730,val_acc=0.9079\n"
     ]
    }
   ],
   "source": [
    "total_step= int(train_num/batch_size)  # 一轮训练有多少批次\n",
    "display_step = 1  # 显示粒度\n",
    "\n",
    "loss_list_train = [] # 用于保存训练集loss值的列表\n",
    "loss_list_valid = [] # 用于保存验证集loss值的列表\n",
    "acc_list_train = [] # 用于保存训练集loss值的列表\n",
    "acc_list_valid = [] # 用于保存验证集loss值的列表\n",
    "\n",
    "for epoch in range (training_epochs):\n",
    "    for step in range(total_step):\n",
    "        xs = train_images[step*batch_size:(step+1)*batch_size]\n",
    "        ys = train_labels[step*batch_size:(step+1)*batch_size]\n",
    "        xs = tf.reshape(xs,(-1,784))\n",
    "        grads = grad(xs, ys, W, B)# 计算梯度\n",
    "        optimizer.apply_gradients(zip(grads, [W,B])) # 优化器根据梯度自动调整变量w和b\n",
    "    \n",
    "    loss_train = loss(train_images, train_labels, W, B).numpy()   # 计算当前轮训练损失\n",
    "    loss_valid = loss(valid_images, valid_labels, W, B).numpy()   # 计算当前轮验证损失\n",
    "    acc_train = accuracy(train_images, train_labels, W, B).numpy() \n",
    "    acc_valid = accuracy(valid_images, valid_labels, W, B).numpy() \n",
    "    loss_list_train.append(loss_train)\n",
    "    loss_list_valid.append(loss_valid)\n",
    "    acc_list_train.append(acc_train)\n",
    "    acc_list_valid.append(acc_valid)\n",
    "    print(\"epoch={:3d} ,train_loss={:.4f},train_acc={:.4f},val_loss={:.4f},val_acc={:.4f}\".format(epoch+1, loss_train, acc_train,loss_valid, acc_valid))"
   ]
  },
  {
   "cell_type": "markdown",
   "metadata": {},
   "source": [
    "从上述打印结果可以看出损失值** Loss **是趋于更小的，同时，准确率** Accuracy **越来越高。<br>\n"
   ]
  },
  {
   "cell_type": "markdown",
   "metadata": {},
   "source": [
    "### 显示训练过程数据"
   ]
  },
  {
   "cell_type": "code",
   "execution_count": 21,
   "metadata": {},
   "outputs": [
    {
     "data": {
      "text/plain": [
       "<matplotlib.legend.Legend at 0x21a2d792e08>"
      ]
     },
     "execution_count": 21,
     "metadata": {},
     "output_type": "execute_result"
    },
    {
     "data": {
      "image/png": "[encoded data removed]",
      "text/plain": [
       "<Figure size 432x288 with 1 Axes>"
      ]
     },
     "metadata": {
      "needs_background": "light"
     },
     "output_type": "display_data"
    }
   ],
   "source": [
    "plt.xlabel(\"Epochs\")\n",
    "plt.ylabel(\"Loss\")\n",
    "plt.plot(loss_list_train,'blue',label=\"Train Loss\")\n",
    "plt.plot(loss_list_valid,'red',label=\"Valid Loss\")\n",
    "plt.legend(loc=1)# 通过参数loc指定图例位置"
   ]
  },
  {
   "cell_type": "code",
   "execution_count": 22,
   "metadata": {},
   "outputs": [
    {
     "data": {
      "text/plain": [
       "<matplotlib.legend.Legend at 0x21a2d874f08>"
      ]
     },
     "execution_count": 22,
     "metadata": {},
     "output_type": "execute_result"
    },
    {
     "data": {
      "image/png": "[encoded data removed]",
      "text/plain": [
       "<Figure size 432x288 with 1 Axes>"
      ]
     },
     "metadata": {
      "needs_background": "light"
     },
     "output_type": "display_data"
    }
   ],
   "source": [
    "plt.xlabel(\"Epochs\")\n",
    "plt.ylabel(\"Accuracy\")\n",
    "plt.plot(acc_list_train,'blue',label=\"Train Acc\")\n",
    "plt.plot(acc_list_valid,'red',label=\"Valid Acc\")\n",
    "plt.legend(loc=1)# 通过参数loc指定图例位置"
   ]
  },
  {
   "cell_type": "markdown",
   "metadata": {},
   "source": [
    "## 评估模型"
   ]
  },
  {
   "cell_type": "markdown",
   "metadata": {},
   "source": [
    "#### 完成训练后，在测试集上评估模型的准确率"
   ]
  },
  {
   "cell_type": "code",
   "execution_count": 23,
   "metadata": {},
   "outputs": [
    {
     "name": "stdout",
     "output_type": "stream",
     "text": [
      "Test accuracy: 0.9072\n"
     ]
    }
   ],
   "source": [
    "acc_test = accuracy(test_images, test_labels, W, B).numpy() \n",
    "print(\"Test accuracy:\",acc_test)"
   ]
  },
  {
   "cell_type": "markdown",
   "metadata": {},
   "source": [
    "## 进行预测"
   ]
  },
  {
   "cell_type": "markdown",
   "metadata": {},
   "source": [
    "#### 在建立模型并进行训练后，若认为准确率可以接受，则可以使用此模型进行预测"
   ]
  },
  {
   "cell_type": "code",
   "execution_count": 27,
   "metadata": {},
   "outputs": [],
   "source": [
    "# 定义预测函数\n",
    "def predit(x, y, w, b):\n",
    "    pred = model(x, w, b) #  计算模型预测值和标签值的差异\n",
    "    result = tf.argmax(pred, 1).numpy()\n",
    "    return result"
   ]
  },
  {
   "cell_type": "code",
   "execution_count": 28,
   "metadata": {},
   "outputs": [],
   "source": [
    "# 由于pred预测结果是one-hot编码格式，所以需要转换为0~9数字\n",
    "\n",
    "pred_result=predit(test_images, test_labels, W, B)"
   ]
  },
  {
   "cell_type": "code",
   "execution_count": 30,
   "metadata": {},
   "outputs": [
    {
     "data": {
      "text/plain": [
       "7"
      ]
     },
     "execution_count": 30,
     "metadata": {},
     "output_type": "execute_result"
    }
   ],
   "source": [
    "pred_result[0]"
   ]
  },
  {
   "cell_type": "markdown",
   "metadata": {},
   "source": [
    "#### 查看预测结果"
   ]
  },
  {
   "cell_type": "code",
   "execution_count": null,
   "metadata": {},
   "outputs": [],
   "source": []
  },
  {
   "cell_type": "markdown",
   "metadata": {},
   "source": [
    "#### 定义可视化函数"
   ]
  },
  {
   "cell_type": "code",
   "execution_count": null,
   "metadata": {},
   "outputs": [],
   "source": [
    "import matplotlib.pyplot as plt\n",
    "import numpy as np\n",
    "def plot_images_labels_prediction(images,      # 图像列表\n",
    "                                  labels,      # 标签列表\n",
    "                                  prediction,  # 预测值列表\n",
    "                                  index,       # 从第index个开始显示\n",
    "                                  num=10 ):    # 缺省一次显示 10 幅\n",
    "    fig = plt.gcf() # 获取当前图表，Get Current Figure\n",
    "    fig.set_size_inches(10, 12)  # 1英寸等于 2.54 cm\n",
    "    if num > 25: \n",
    "        num = 25            # 最多显示25个子图\n",
    "    for i in range(0, num):\n",
    "        ax = plt.subplot(5,5, i+1) # 获取当前要处理的子图\n",
    "        \n",
    "        ax.imshow(np.reshape(images[index],(28, 28)),  # 显示第index个图像\n",
    "                  cmap='binary')\n",
    "            \n",
    "        title = \"label=\" + str(np.argmax(labels[index]))  # 构建该图上要显示的title信息\n",
    "        if len(prediction)>0:\n",
    "            title += \",predict=\" + str(prediction[index]) \n",
    "            \n",
    "        ax.set_title(title,fontsize=10)   # 显示图上的title信息\n",
    "        ax.set_xticks([]);  # 不显示坐标轴\n",
    "        ax.set_yticks([])        \n",
    "        index += 1 \n",
    "    plt.show()"
   ]
  },
  {
   "cell_type": "code",
   "execution_count": null,
   "metadata": {},
   "outputs": [],
   "source": [
    "# plot_images_labels_prediction(mnist.test.images, mnist.test.labels,prediction_result,10,25)"
   ]
  },
  {
   "cell_type": "markdown",
   "metadata": {},
   "source": [
    "从上面结果可知，通过30次迭代所训练的由** 单个神经元 **构成的神经网络模型，在测试集上能够取得百分之八十以上的准确率。接下来，我们将尝试** 加宽 **和** 加深 **模型，看看能否得到更高的准确率。"
   ]
  },
  {
   "cell_type": "markdown",
   "metadata": {},
   "source": [
    "# Tensorflow实现基于单隐层神经网络的手写数字识别"
   ]
  },
  {
   "cell_type": "markdown",
   "metadata": {},
   "source": [
    "详见mnist_h256.ipynb "
   ]
  },
  {
   "cell_type": "markdown",
   "metadata": {},
   "source": [
    "# Tensorflow实现基于多隐层神经网络的手写数字识别"
   ]
  },
  {
   "cell_type": "markdown",
   "metadata": {
    "collapsed": true
   },
   "source": [
    "详见mnist_h256_h128.ipynb "
   ]
  },
  {
   "cell_type": "code",
   "execution_count": null,
   "metadata": {},
   "outputs": [],
   "source": [
    "# Tensorflow提供 带softmax的交叉熵函数\n",
    "\n",
    "loss_function = tf.reduce_mean(\n",
    "    tf.nn.softmax_cross_entropy_with_logits(labels=y, logits=forward))"
   ]
  },
  {
   "cell_type": "code",
   "execution_count": null,
   "metadata": {},
   "outputs": [],
   "source": []
  }
 ],
 "metadata": {
  "anaconda-cloud": {},
  "kernelspec": {
   "display_name": "Python 3",
   "language": "python",
   "name": "python3"
  },
  "language_info": {
   "codemirror_mode": {
    "name": "ipython",
    "version": 3
   },
   "file_extension": ".py",
   "mimetype": "text/x-python",
   "name": "python",
   "nbconvert_exporter": "python",
   "pygments_lexer": "ipython3",
   "version": "3.7.6"
  },
  "toc": {
   "base_numbering": 1,
   "nav_menu": {},
   "number_sections": true,
   "sideBar": true,
   "skip_h1_title": false,
   "title_cell": "目录",
   "title_sidebar": "Contents",
   "toc_cell": true,
   "toc_position": {},
   "toc_section_display": true,
   "toc_window_display": true
  }
 },
 "nbformat": 4,
 "nbformat_minor": 1
}
