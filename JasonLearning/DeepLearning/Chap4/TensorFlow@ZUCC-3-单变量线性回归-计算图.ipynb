{
 "cells": [
  {
   "cell_type": "markdown",
   "metadata": {},
   "source": [
    "# 单变量线性回归\n",
    "\n",
    "吴明晖\n",
    "\n",
    "浙江大学城市学院\n",
    "\n",
    "2018.10"
   ]
  },
  {
   "cell_type": "markdown",
   "metadata": {
    "toc": true
   },
   "source": [
    "<h1>目录<span class=\"tocSkip\"></span></h1>\n",
    "<div class=\"toc\"><ul class=\"toc-item\"><li><span><a href=\"#使用Tensorflow进行算法设计与训练的核心步骤\" data-toc-modified-id=\"使用Tensorflow进行算法设计与训练的核心步骤-1\"><span class=\"toc-item-num\">1&nbsp;&nbsp;</span>使用Tensorflow进行算法设计与训练的核心步骤</a></span></li><li><span><a href=\"#Tensorflow实现单变量线性回归\" data-toc-modified-id=\"Tensorflow实现单变量线性回归-2\"><span class=\"toc-item-num\">2&nbsp;&nbsp;</span>Tensorflow实现单变量线性回归</a></span><ul class=\"toc-item\"><li><span><a href=\"#生成数据\" data-toc-modified-id=\"生成数据-2.1\"><span class=\"toc-item-num\">2.1&nbsp;&nbsp;</span>生成数据</a></span></li><li><span><a href=\"#构建模型\" data-toc-modified-id=\"构建模型-2.2\"><span class=\"toc-item-num\">2.2&nbsp;&nbsp;</span>构建模型</a></span></li><li><span><a href=\"#训练模型\" data-toc-modified-id=\"训练模型-2.3\"><span class=\"toc-item-num\">2.3&nbsp;&nbsp;</span>训练模型</a></span></li><li><span><a href=\"#进行预测\" data-toc-modified-id=\"进行预测-2.4\"><span class=\"toc-item-num\">2.4&nbsp;&nbsp;</span>进行预测</a></span></li></ul></li><li><span><a href=\"#小结\" data-toc-modified-id=\"小结-3\"><span class=\"toc-item-num\">3&nbsp;&nbsp;</span>小结</a></span></li></ul></div>"
   ]
  },
  {
   "cell_type": "markdown",
   "metadata": {},
   "source": [
    "# 使用Tensorflow进行算法设计与训练的核心步骤\n",
    "\n",
    "- ** （1）生成数据 **\n",
    "- ** （2）构建模型 **\n",
    "- ** （3）训练模型 **\n",
    "- ** （4）进行预测 **\n",
    "\n",
    "上述步骤是我们使用Tensorflow进行算法设计与训练的核心步骤，贯穿于后面介绍的具体实战中。<br> 本章用一个简单的例子来讲解这几个步骤。"
   ]
  },
  {
   "cell_type": "markdown",
   "metadata": {},
   "source": [
    "\n",
    "\n",
    "# 有监督机器学习过程示意图\n",
    "\n",
    "<img src=\"机器学习过程示意图.png\">"
   ]
  },
  {
   "cell_type": "markdown",
   "metadata": {},
   "source": [
    "# Tensorflow实现单变量线性回归"
   ]
  },
  {
   "cell_type": "markdown",
   "metadata": {},
   "source": [
    "假设我们要学习的函数为线性函数$ y=2x+1 $"
   ]
  },
  {
   "cell_type": "markdown",
   "metadata": {},
   "source": [
    "## 生成数据"
   ]
  },
  {
   "cell_type": "code",
   "execution_count": 1,
   "metadata": {
    "collapsed": true
   },
   "outputs": [],
   "source": [
    "#在Jupyter中，使用matplotlib显示图像需要设置为 inline 模式，否则不会现实图像\n",
    "%matplotlib inline\n",
    "\n",
    "import matplotlib.pyplot as plt # 载入matplotlib\n",
    "import numpy as np # 载入numpy\n",
    "import tensorflow as tf # 载入Tensorflow\n",
    "\n",
    "np.random.seed(5)\n"
   ]
  },
  {
   "cell_type": "markdown",
   "metadata": {},
   "source": [
    "** 首先，生成输入数据。 ** <br> 我们需要构造满足这个函数的$x$和$y$同时加入一些不满足方程的噪声."
   ]
  },
  {
   "cell_type": "code",
   "execution_count": 2,
   "metadata": {
    "collapsed": false
   },
   "outputs": [],
   "source": [
    "#直接采用np生成等差数列的方法，生成100个点，每个点的取值在-1~1之间\n",
    "\n",
    "x_data = np.linspace(-1, 1, 100) \n",
    "\n",
    "# y = 2x +1 + 噪声， 其中，噪声的维度与x_data一致\n",
    "\n",
    "y_data = 2 * x_data + 1.0 + np.random.randn(*x_data.shape) * 0.4  "
   ]
  },
  {
   "cell_type": "markdown",
   "metadata": {},
   "source": [
    "** 利用matplotlib画图 **"
   ]
  },
  {
   "cell_type": "code",
   "execution_count": 3,
   "metadata": {
    "collapsed": false
   },
   "outputs": [
    {
     "data": {
      "text/plain": [
       "<matplotlib.collections.PathCollection at 0x24b26a42d30>"
      ]
     },
     "execution_count": 3,
     "metadata": {},
     "output_type": "execute_result"
    },
    {
     "data": {
      "image/png": "[encoded data removed]",
      "text/plain": [
       "<matplotlib.figure.Figure at 0x24b26626588>"
      ]
     },
     "metadata": {},
     "output_type": "display_data"
    }
   ],
   "source": [
    "#画出随机生成数据的散点图\n",
    "\n",
    "plt.scatter(x_data, y_data) "
   ]
  },
  {
   "cell_type": "code",
   "execution_count": 4,
   "metadata": {
    "collapsed": false
   },
   "outputs": [
    {
     "data": {
      "text/plain": [
       "[<matplotlib.lines.Line2D at 0x24b26f19d30>]"
      ]
     },
     "execution_count": 4,
     "metadata": {},
     "output_type": "execute_result"
    },
    {
     "data": {
      "image/png": "[encoded data removed]",
      "text/plain": [
       "<matplotlib.figure.Figure at 0x24b26a4deb8>"
      ]
     },
     "metadata": {},
     "output_type": "display_data"
    }
   ],
   "source": [
    "#画出随机生成数据的散点图\n",
    "plt.scatter(x_data, y_data) \n",
    "\n",
    "# 画出我们想要学习到的线性函数 y = 2x +1\n",
    "\n",
    "plt.plot (x_data, 1.0 + 2 * x_data, color = 'red',linewidth=3) "
   ]
  },
  {
   "cell_type": "markdown",
   "metadata": {},
   "source": [
    "## 构建模型"
   ]
  },
  {
   "cell_type": "markdown",
   "metadata": {},
   "source": [
    "** 定义$x$和$y$的占位符 **"
   ]
  },
  {
   "cell_type": "code",
   "execution_count": 5,
   "metadata": {
    "collapsed": true
   },
   "outputs": [],
   "source": [
    "# 定义训练数据的占位符，x是特征值，y是标签值\n",
    "\n",
    "x = tf.placeholder(\"float\", name = \"x\") \n",
    "y = tf.placeholder(\"float\", name = \"y\")"
   ]
  },
  {
   "cell_type": "markdown",
   "metadata": {},
   "source": [
    "** 构建回归模型 **"
   ]
  },
  {
   "cell_type": "code",
   "execution_count": 6,
   "metadata": {
    "collapsed": true
   },
   "outputs": [],
   "source": [
    "def model(x, w, b):\n",
    "    return tf.multiply(x, w) + b "
   ]
  },
  {
   "cell_type": "markdown",
   "metadata": {},
   "source": [
    "** 创建变量 **\n",
    "<br>\n",
    "- Tensorflow变量的声明函数是tf.Variable\n",
    "- tf.Variable的作用是保存和更新参数\n",
    "- 变量的初始值可以是随机数、常数，或是通过其他变量的初始值计算得到"
   ]
  },
  {
   "cell_type": "code",
   "execution_count": 7,
   "metadata": {
    "collapsed": true
   },
   "outputs": [],
   "source": [
    "# 构建线性函数的斜率，变量w\n",
    "w = tf.Variable(1.0, name=\"w0\")\n",
    "\n",
    "# 构建线性函数的截距，变量b\n",
    "b = tf.Variable(0.0, name=\"b0\")   "
   ]
  },
  {
   "cell_type": "code",
   "execution_count": 8,
   "metadata": {
    "collapsed": true
   },
   "outputs": [],
   "source": [
    "# pred是预测值，前向计算\n",
    "pred = model(x, w, b) "
   ]
  },
  {
   "cell_type": "markdown",
   "metadata": {},
   "source": [
    "## 训练模型"
   ]
  },
  {
   "cell_type": "markdown",
   "metadata": {},
   "source": [
    "** 设置训练参数 **"
   ]
  },
  {
   "cell_type": "code",
   "execution_count": 9,
   "metadata": {
    "collapsed": true
   },
   "outputs": [],
   "source": [
    "# 迭代次数（训练轮数）\n",
    "train_epochs = 10\n",
    "\n",
    "# 学习率\n",
    "learning_rate = 0.05 \n",
    "\n",
    "# 控制显示loss值的粒度\n",
    "display_step = 10"
   ]
  },
  {
   "cell_type": "markdown",
   "metadata": {},
   "source": [
    "** 关于学习率（learning_rate）的设置 **<br>\n",
    "- 学习率的作用：控制参数更新的幅度。\n",
    "- 如果学习率设置过大，可能导致参数在极值附近来回摇摆，无法保证收敛。\n",
    "- 如果学习率设置过小，虽然能保证收敛，但优化速度会大大降低，我们需要更多迭代次数才能达到较理想的优化效果。"
   ]
  },
  {
   "cell_type": "markdown",
   "metadata": {},
   "source": [
    "** 定义损失函数 **\n",
    "<br>\n",
    "- 损失函数用于描述预测值与真实值之间的误差，从而指导模型收敛方向\n",
    "- 常见损失函数：均方差（Mean Square Error, MSE）和交叉熵（cross-entropy）"
   ]
  },
  {
   "cell_type": "code",
   "execution_count": 10,
   "metadata": {
    "collapsed": false
   },
   "outputs": [],
   "source": [
    "# 采用均方差作为损失函数\n",
    "\n",
    "loss_function = tf.reduce_mean(tf.square(y-pred))  "
   ]
  },
  {
   "cell_type": "markdown",
   "metadata": {},
   "source": [
    "** 选择优化器 **"
   ]
  },
  {
   "cell_type": "code",
   "execution_count": 11,
   "metadata": {
    "collapsed": true
   },
   "outputs": [],
   "source": [
    "# 梯度下降优化器\n",
    "\n",
    "optimizer = tf.train.GradientDescentOptimizer(learning_rate).minimize(loss_function)"
   ]
  },
  {
   "cell_type": "markdown",
   "metadata": {},
   "source": [
    "** 声明会话 **"
   ]
  },
  {
   "cell_type": "code",
   "execution_count": 12,
   "metadata": {
    "collapsed": true
   },
   "outputs": [],
   "source": [
    "sess = tf.Session()"
   ]
  },
  {
   "cell_type": "markdown",
   "metadata": {},
   "source": [
    "** 变量初始化 **\n",
    "- 在真正执行计算之前，需将所有变量初始化\n",
    "- 通过** tf.global_variables_initializer **函数可实现对所有变量的初始化"
   ]
  },
  {
   "cell_type": "code",
   "execution_count": 13,
   "metadata": {
    "collapsed": true
   },
   "outputs": [],
   "source": [
    "init = tf.global_variables_initializer()\n",
    "\n",
    "sess.run(init)"
   ]
  },
  {
   "cell_type": "markdown",
   "metadata": {},
   "source": [
    "** 执行训练 **"
   ]
  },
  {
   "cell_type": "code",
   "execution_count": 14,
   "metadata": {
    "collapsed": false,
    "scrolled": false
   },
   "outputs": [
    {
     "name": "stdout",
     "output_type": "stream",
     "text": [
      "Train Epoch: 01 Step: 010 loss= 0.007021904\n",
      "Train Epoch: 01 Step: 020 loss= 0.186607897\n",
      "Train Epoch: 01 Step: 030 loss= 0.024833022\n",
      "Train Epoch: 01 Step: 040 loss= 0.620799541\n",
      "Train Epoch: 01 Step: 050 loss= 0.006301077\n",
      "Train Epoch: 01 Step: 060 loss= 0.023637433\n",
      "Train Epoch: 01 Step: 070 loss= 0.354419798\n",
      "Train Epoch: 01 Step: 080 loss= 0.027936857\n",
      "Train Epoch: 01 Step: 090 loss= 0.029015331\n",
      "Train Epoch: 01 Step: 100 loss= 0.106556907\n",
      "Train Epoch: 02 Step: 010 loss= 0.179423183\n",
      "Train Epoch: 02 Step: 020 loss= 0.067458346\n",
      "Train Epoch: 02 Step: 030 loss= 0.000281519\n",
      "Train Epoch: 02 Step: 040 loss= 0.344065875\n",
      "Train Epoch: 02 Step: 050 loss= 0.021391280\n",
      "Train Epoch: 02 Step: 060 loss= 0.006406436\n",
      "Train Epoch: 02 Step: 070 loss= 0.142010629\n",
      "Train Epoch: 02 Step: 080 loss= 0.000233675\n",
      "Train Epoch: 02 Step: 090 loss= 0.094913408\n",
      "Train Epoch: 02 Step: 100 loss= 0.052370854\n",
      "Train Epoch: 03 Step: 010 loss= 0.044097763\n",
      "Train Epoch: 03 Step: 020 loss= 0.082669340\n",
      "Train Epoch: 03 Step: 030 loss= 0.000454877\n",
      "Train Epoch: 03 Step: 040 loss= 0.327929199\n",
      "Train Epoch: 03 Step: 050 loss= 0.026971471\n",
      "Train Epoch: 03 Step: 060 loss= 0.009875795\n",
      "Train Epoch: 03 Step: 070 loss= 0.128553197\n",
      "Train Epoch: 03 Step: 080 loss= 0.000938686\n",
      "Train Epoch: 03 Step: 090 loss= 0.102202758\n",
      "Train Epoch: 03 Step: 100 loss= 0.048671149\n",
      "Train Epoch: 04 Step: 010 loss= 0.036854628\n",
      "Train Epoch: 04 Step: 020 loss= 0.084023297\n",
      "Train Epoch: 04 Step: 030 loss= 0.000471393\n",
      "Train Epoch: 04 Step: 040 loss= 0.326585472\n",
      "Train Epoch: 04 Step: 050 loss= 0.027471786\n",
      "Train Epoch: 04 Step: 060 loss= 0.010202700\n",
      "Train Epoch: 04 Step: 070 loss= 0.127448648\n",
      "Train Epoch: 04 Step: 080 loss= 0.001019721\n",
      "Train Epoch: 04 Step: 090 loss= 0.102829941\n",
      "Train Epoch: 04 Step: 100 loss= 0.048365295\n",
      "Train Epoch: 05 Step: 010 loss= 0.036273275\n",
      "Train Epoch: 05 Step: 020 loss= 0.084138028\n",
      "Train Epoch: 05 Step: 030 loss= 0.000472802\n",
      "Train Epoch: 05 Step: 040 loss= 0.326472342\n",
      "Train Epoch: 05 Step: 050 loss= 0.027514204\n",
      "Train Epoch: 05 Step: 060 loss= 0.010230534\n",
      "Train Epoch: 05 Step: 070 loss= 0.127355635\n",
      "Train Epoch: 05 Step: 080 loss= 0.001026707\n",
      "Train Epoch: 05 Step: 090 loss= 0.102882855\n",
      "Train Epoch: 05 Step: 100 loss= 0.048339501\n",
      "Train Epoch: 06 Step: 010 loss= 0.036224432\n",
      "Train Epoch: 06 Step: 020 loss= 0.084147744\n",
      "Train Epoch: 06 Step: 030 loss= 0.000472908\n",
      "Train Epoch: 06 Step: 040 loss= 0.326462865\n",
      "Train Epoch: 06 Step: 050 loss= 0.027517686\n",
      "Train Epoch: 06 Step: 060 loss= 0.010232801\n",
      "Train Epoch: 06 Step: 070 loss= 0.127347812\n",
      "Train Epoch: 06 Step: 080 loss= 0.001027287\n",
      "Train Epoch: 06 Step: 090 loss= 0.102887444\n",
      "Train Epoch: 06 Step: 100 loss= 0.048337404\n",
      "Train Epoch: 07 Step: 010 loss= 0.036220346\n",
      "Train Epoch: 07 Step: 020 loss= 0.084148541\n",
      "Train Epoch: 07 Step: 030 loss= 0.000472921\n",
      "Train Epoch: 07 Step: 040 loss= 0.326461911\n",
      "Train Epoch: 07 Step: 050 loss= 0.027518081\n",
      "Train Epoch: 07 Step: 060 loss= 0.010233018\n",
      "Train Epoch: 07 Step: 070 loss= 0.127347127\n",
      "Train Epoch: 07 Step: 080 loss= 0.001027349\n",
      "Train Epoch: 07 Step: 090 loss= 0.102887906\n",
      "Train Epoch: 07 Step: 100 loss= 0.048337195\n",
      "Train Epoch: 08 Step: 010 loss= 0.036220029\n",
      "Train Epoch: 08 Step: 020 loss= 0.084148541\n",
      "Train Epoch: 08 Step: 030 loss= 0.000472929\n",
      "Train Epoch: 08 Step: 040 loss= 0.326461911\n",
      "Train Epoch: 08 Step: 050 loss= 0.027518081\n",
      "Train Epoch: 08 Step: 060 loss= 0.010233042\n",
      "Train Epoch: 08 Step: 070 loss= 0.127347127\n",
      "Train Epoch: 08 Step: 080 loss= 0.001027349\n",
      "Train Epoch: 08 Step: 090 loss= 0.102888055\n",
      "Train Epoch: 08 Step: 100 loss= 0.048337195\n",
      "Train Epoch: 09 Step: 010 loss= 0.036219940\n",
      "Train Epoch: 09 Step: 020 loss= 0.084148541\n",
      "Train Epoch: 09 Step: 030 loss= 0.000472929\n",
      "Train Epoch: 09 Step: 040 loss= 0.326461911\n",
      "Train Epoch: 09 Step: 050 loss= 0.027518081\n",
      "Train Epoch: 09 Step: 060 loss= 0.010233042\n",
      "Train Epoch: 09 Step: 070 loss= 0.127347127\n",
      "Train Epoch: 09 Step: 080 loss= 0.001027349\n",
      "Train Epoch: 09 Step: 090 loss= 0.102888055\n",
      "Train Epoch: 09 Step: 100 loss= 0.048337195\n",
      "Train Epoch: 10 Step: 010 loss= 0.036219940\n",
      "Train Epoch: 10 Step: 020 loss= 0.084148541\n",
      "Train Epoch: 10 Step: 030 loss= 0.000472929\n",
      "Train Epoch: 10 Step: 040 loss= 0.326461911\n",
      "Train Epoch: 10 Step: 050 loss= 0.027518081\n",
      "Train Epoch: 10 Step: 060 loss= 0.010233042\n",
      "Train Epoch: 10 Step: 070 loss= 0.127347127\n",
      "Train Epoch: 10 Step: 080 loss= 0.001027349\n",
      "Train Epoch: 10 Step: 090 loss= 0.102888055\n",
      "Train Epoch: 10 Step: 100 loss= 0.048337195\n"
     ]
    },
    {
     "data": {
      "image/png": "[encoded data removed]",
      "text/plain": [
       "<matplotlib.figure.Figure at 0x24b26f7fef0>"
      ]
     },
     "metadata": {},
     "output_type": "display_data"
    }
   ],
   "source": [
    "# 开始训练，轮数为 epoch，采用SGD随机梯度下降优化方法\n",
    "\n",
    "for epoch in range(train_epochs):\n",
    "    step = 0\n",
    "    for xs,ys in zip(x_data, y_data):\n",
    "        _, loss=sess.run([optimizer,loss_function], feed_dict={x: xs, y: ys}) \n",
    "        \n",
    "        # 显示损失值 loss\n",
    "        # display_step：控制报告的粒度\n",
    "        # 例如，如果 display_step 设为 2 ，则将每训练2个样本输出一次损失值\n",
    "        # 与超参数不同，修改 display_step 不会更改模型所学习的规律\n",
    "        \n",
    "        step=step+1\n",
    "        if step % display_step == 0:\n",
    "            print(\"Train Epoch:\", '%02d' % (epoch+1), \"Step: %03d\" % (step),\"loss=\", \"{:.9f}\".format(loss))\n",
    "        \n",
    "    b0temp=b.eval(session=sess)\n",
    "    w0temp=w.eval(session=sess)\n",
    "    plt.plot (x_data, w0temp * x_data + b0temp  )# 画图\n",
    "\n"
   ]
  },
  {
   "cell_type": "markdown",
   "metadata": {},
   "source": [
    "从上图可以看出，由于本案例所拟合的模型较简单，训练3次之后已经接近收敛。<br> 对于复杂模型，需要更多次训练才能收敛。"
   ]
  },
  {
   "cell_type": "code",
   "execution_count": 15,
   "metadata": {
    "collapsed": true
   },
   "outputs": [],
   "source": [
    "# logdir改为自己机器上的合适路径\n",
    "logdir='D:/log'\n",
    "\n",
    "#生成一个写日志的writer，并将当前的TensorFlow计算图写入日志。\n",
    "\n",
    "writer = tf.summary.FileWriter(logdir,tf.get_default_graph())\n",
    "writer.close()"
   ]
  },
  {
   "cell_type": "markdown",
   "metadata": {},
   "source": [
    "## 计算图\n",
    "\n",
    "<img src= \"计算图.png\">"
   ]
  },
  {
   "cell_type": "markdown",
   "metadata": {},
   "source": [
    "** 打印结果 **"
   ]
  },
  {
   "cell_type": "code",
   "execution_count": 16,
   "metadata": {
    "collapsed": false
   },
   "outputs": [
    {
     "name": "stdout",
     "output_type": "stream",
     "text": [
      "w： 1.9823\n",
      "b： 1.04201\n"
     ]
    }
   ],
   "source": [
    "print (\"w：\", sess.run(w)) # w的值应该在2附近 \n",
    "print (\"b：\", sess.run(b)) # b的值应该在1附近 "
   ]
  },
  {
   "cell_type": "markdown",
   "metadata": {},
   "source": [
    "** 可视化 **"
   ]
  },
  {
   "cell_type": "code",
   "execution_count": 17,
   "metadata": {
    "collapsed": false
   },
   "outputs": [
    {
     "data": {
      "text/plain": [
       "<matplotlib.legend.Legend at 0x24b2821b4e0>"
      ]
     },
     "execution_count": 17,
     "metadata": {},
     "output_type": "execute_result"
    },
    {
     "data": {
      "image/png": "[encoded data removed]",
      "text/plain": [
       "<matplotlib.figure.Figure at 0x24b26f54e48>"
      ]
     },
     "metadata": {},
     "output_type": "display_data"
    }
   ],
   "source": [
    "plt.scatter(x_data,y_data,label='Original data')\n",
    "plt.plot (x_data, x_data * sess.run(w) + sess.run(b),\\\n",
    "          label='Fitted line',color='r', linewidth=3)\n",
    "plt.legend(loc=2)# 通过参数loc指定图例位置"
   ]
  },
  {
   "cell_type": "markdown",
   "metadata": {},
   "source": [
    "## 进行预测"
   ]
  },
  {
   "cell_type": "code",
   "execution_count": 18,
   "metadata": {
    "collapsed": false
   },
   "outputs": [
    {
     "name": "stdout",
     "output_type": "stream",
     "text": [
      "预测值：7.405184\n",
      "目标值：7.420000\n"
     ]
    }
   ],
   "source": [
    "x_test = 3.21\n",
    "\n",
    "predict = sess.run(pred, feed_dict={x: x_test})\n",
    "print(\"预测值：%f\" % predict)\n",
    "\n",
    "target = 2 * x_test + 1.0\n",
    "print(\"目标值：%f\" % target)"
   ]
  },
  {
   "cell_type": "code",
   "execution_count": 19,
   "metadata": {
    "collapsed": false
   },
   "outputs": [
    {
     "name": "stdout",
     "output_type": "stream",
     "text": [
      "预测值：7.405184\n"
     ]
    }
   ],
   "source": [
    "x_test = 3.21\n",
    "predict = sess.run(w) * x_test + sess.run(b)\n",
    "print(\"预测值：%f\" % predict)"
   ]
  },
  {
   "cell_type": "markdown",
   "metadata": {},
   "source": [
    "** 以上是利用Tensorflow训练一个线性模型并进行预测的完整过程。<br> 通过逐渐降低损失值loss来训练参数$w$和$b$拟合 $y = 2x + 1$中的系数2和1。 ** "
   ]
  },
  {
   "cell_type": "markdown",
   "metadata": {},
   "source": [
    "# 小结"
   ]
  },
  {
   "cell_type": "markdown",
   "metadata": {},
   "source": [
    "** 通过一个简单的例子介绍了利用Tensorflow实现机器学习的思路，重点讲解了下述步骤： ** <br>\n",
    "** - （1）生成人工数据集及其可视化 ** <br>\n",
    "** - （2）构建线性模型 **<br>\n",
    "** - （3）定义损失函数 **<br>\n",
    "** - （4）最小化损失函数 **<br>\n",
    "** - （5）训练结果的可视化 **<br>\n",
    "** - （6）利用学习到的模型进行预测 **\n",
    "\n"
   ]
  }
 ],
 "metadata": {
  "anaconda-cloud": {},
  "kernelspec": {
   "display_name": "Python [default]",
   "language": "python",
   "name": "python3"
  },
  "language_info": {
   "codemirror_mode": {
    "name": "ipython",
    "version": 3
   },
   "file_extension": ".py",
   "mimetype": "text/x-python",
   "name": "python",
   "nbconvert_exporter": "python",
   "pygments_lexer": "ipython3",
   "version": "3.5.2"
  },
  "toc": {
   "base_numbering": 1,
   "nav_menu": {},
   "number_sections": true,
   "sideBar": true,
   "skip_h1_title": false,
   "title_cell": "目录",
   "title_sidebar": "Contents",
   "toc_cell": true,
   "toc_position": {},
   "toc_section_display": true,
   "toc_window_display": true
  }
 },
 "nbformat": 4,
 "nbformat_minor": 2
}
