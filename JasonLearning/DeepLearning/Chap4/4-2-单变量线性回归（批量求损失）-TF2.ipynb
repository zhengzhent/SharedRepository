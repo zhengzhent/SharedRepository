{
 "cells": [
  {
   "cell_type": "markdown",
   "metadata": {},
   "source": [
    "# 单变量线性回归\n",
    "\n",
    "吴明晖\n",
    "\n",
    "浙江大学城市学院\n",
    "\n",
    "2020.2"
   ]
  },
  {
   "cell_type": "markdown",
   "metadata": {
    "toc": true
   },
   "source": [
    "<h1>目录<span class=\"tocSkip\"></span></h1>\n",
    "<div class=\"toc\"><ul class=\"toc-item\"><li><span><a href=\"#使用Tensorflow进行算法设计与训练的核心步骤\" data-toc-modified-id=\"使用Tensorflow进行算法设计与训练的核心步骤-1\"><span class=\"toc-item-num\">1&nbsp;&nbsp;</span>使用Tensorflow进行算法设计与训练的核心步骤</a></span></li><li><span><a href=\"#Tensorflow实现单变量线性回归\" data-toc-modified-id=\"Tensorflow实现单变量线性回归-2\"><span class=\"toc-item-num\">2&nbsp;&nbsp;</span>Tensorflow实现单变量线性回归</a></span><ul class=\"toc-item\"><li><span><a href=\"#生成数据\" data-toc-modified-id=\"生成数据-2.1\"><span class=\"toc-item-num\">2.1&nbsp;&nbsp;</span>生成数据</a></span></li><li><span><a href=\"#构建模型\" data-toc-modified-id=\"构建模型-2.2\"><span class=\"toc-item-num\">2.2&nbsp;&nbsp;</span>构建模型</a></span></li><li><span><a href=\"#训练模型\" data-toc-modified-id=\"训练模型-2.3\"><span class=\"toc-item-num\">2.3&nbsp;&nbsp;</span>训练模型</a></span></li><li><span><a href=\"#进行预测\" data-toc-modified-id=\"进行预测-2.4\"><span class=\"toc-item-num\">2.4&nbsp;&nbsp;</span>进行预测</a></span></li></ul></li><li><span><a href=\"#小结\" data-toc-modified-id=\"小结-3\"><span class=\"toc-item-num\">3&nbsp;&nbsp;</span>小结</a></span></li></ul></div>"
   ]
  },
  {
   "cell_type": "markdown",
   "metadata": {},
   "source": [
    "# 使用Tensorflow进行算法设计与训练的核心步骤\n",
    "\n",
    "- ** （1）准备数据 **\n",
    "- ** （2）构建模型 **\n",
    "- ** （3）训练模型 **\n",
    "- ** （4）进行预测 **\n",
    "\n",
    "上述步骤是我们使用Tensorflow进行算法设计与训练的核心步骤，贯穿于后面介绍的具体实战中。<br> 本章用一个简单的例子来讲解这几个步骤。"
   ]
  },
  {
   "cell_type": "markdown",
   "metadata": {},
   "source": [
    "\n",
    "\n",
    "# 有监督机器学习过程示意图\n",
    "\n",
    "![机器学习过程示意图](机器学习过程示意图.png)"
   ]
  },
  {
   "cell_type": "markdown",
   "metadata": {},
   "source": [
    "# Tensorflow实现单变量线性回归"
   ]
  },
  {
   "cell_type": "markdown",
   "metadata": {},
   "source": [
    "假设我们要学习的函数为线性函数$ y=2x+1 $"
   ]
  },
  {
   "cell_type": "markdown",
   "metadata": {},
   "source": [
    "## 生成数据"
   ]
  },
  {
   "cell_type": "code",
   "execution_count": 1,
   "metadata": {},
   "outputs": [],
   "source": [
    "# 在Jupyter中，使用matplotlib显示图像需要设置为 inline 模式，否则不会在网页里显示图像\n",
    "%matplotlib inline\n",
    "\n",
    "import matplotlib.pyplot as plt # 载入matplotlib\n",
    "import numpy as np # 载入numpy\n",
    "import tensorflow as tf # 载入Tensorflow\n",
    "\n",
    "# 设置随机数种子\n",
    "np.random.seed(5)"
   ]
  },
  {
   "cell_type": "markdown",
   "metadata": {},
   "source": [
    "** 首先，生成输入数据。 ** <br> 我们需要构造满足这个函数的$x$和$y$同时加入一些不满足方程的噪声."
   ]
  },
  {
   "cell_type": "code",
   "execution_count": 2,
   "metadata": {},
   "outputs": [],
   "source": [
    "# 直接采用np生成等差数列的方法，生成100个点，每个点的取值在-1~1之间\n",
    "\n",
    "x_data = np.linspace(-1, 1, 100) \n",
    "\n",
    "# y = 2x +1 + 噪声， 其中，噪声的维度与x_data一致\n",
    "\n",
    "y_data = 2 * x_data + 1.0 + np.random.randn(*x_data.shape) * 0.4  "
   ]
  },
  {
   "cell_type": "markdown",
   "metadata": {},
   "source": [
    "** 利用matplotlib画图 **"
   ]
  },
  {
   "cell_type": "code",
   "execution_count": 3,
   "metadata": {},
   "outputs": [
    {
     "data": {
      "text/plain": [
       "<matplotlib.collections.PathCollection at 0x2367ad532b0>"
      ]
     },
     "execution_count": 3,
     "metadata": {},
     "output_type": "execute_result"
    },
    {
     "data": {
      "image/png": "[encoded data removed]",
      "text/plain": [
       "<Figure size 432x288 with 1 Axes>"
      ]
     },
     "metadata": {},
     "output_type": "display_data"
    }
   ],
   "source": [
    "#画出随机生成数据的散点图\n",
    "\n",
    "plt.scatter(x_data, y_data) "
   ]
  },
  {
   "cell_type": "code",
   "execution_count": 4,
   "metadata": {},
   "outputs": [
    {
     "data": {
      "text/plain": [
       "[<matplotlib.lines.Line2D at 0x2367ad81eb8>]"
      ]
     },
     "execution_count": 4,
     "metadata": {},
     "output_type": "execute_result"
    },
    {
     "data": {
      "image/png": "[encoded data removed]",
      "text/plain": [
       "<Figure size 432x288 with 1 Axes>"
      ]
     },
     "metadata": {},
     "output_type": "display_data"
    }
   ],
   "source": [
    "#画出随机生成数据的散点图\n",
    "plt.scatter(x_data, y_data) \n",
    "\n",
    "# 画出我们想要通过学习得到的目标线性函数 y = 2x +1\n",
    "\n",
    "plt.plot (x_data, 1.0 + 2 * x_data,  'r',linewidth=3) "
   ]
  },
  {
   "cell_type": "markdown",
   "metadata": {},
   "source": [
    "## 构建模型"
   ]
  },
  {
   "cell_type": "markdown",
   "metadata": {},
   "source": [
    "** 构建回归模型 **"
   ]
  },
  {
   "cell_type": "code",
   "execution_count": 5,
   "metadata": {},
   "outputs": [],
   "source": [
    "# x 就是数据点的横坐标、特征值，返回值是y 数据点的纵坐标、标签值\n",
    "\n",
    "def model(x, w, b):\n",
    "    return tf.multiply(x, w) + b "
   ]
  },
  {
   "cell_type": "markdown",
   "metadata": {},
   "source": [
    "** 创建变量 **\n",
    "<br>\n",
    "- Tensorflow变量的声明函数是tf.Variable\n",
    "- tf.Variable的作用是保存和更新参数\n",
    "- 变量的初始值可以是随机数、常数，或是通过其他变量的初始值计算得到"
   ]
  },
  {
   "cell_type": "code",
   "execution_count": 6,
   "metadata": {},
   "outputs": [],
   "source": [
    "# 构建线性函数的斜率，变量w\n",
    "w = tf.Variable(1.0, name=\"w\")\n",
    "\n",
    "# 构建线性函数的截距，变量b\n",
    "b = tf.Variable(0.0, name=\"b\")   "
   ]
  },
  {
   "cell_type": "markdown",
   "metadata": {},
   "source": [
    "## 训练模型"
   ]
  },
  {
   "cell_type": "markdown",
   "metadata": {},
   "source": [
    "** 设置训练参数 **"
   ]
  },
  {
   "cell_type": "code",
   "execution_count": 13,
   "metadata": {},
   "outputs": [],
   "source": [
    "# 迭代次数（训练轮数）\n",
    "train_epochs = 100 \n",
    "\n",
    "# 学习率\n",
    "learning_rate = 0.05 \n",
    "\n",
    "# 控制显示loss值的粒度\n",
    "display_step = 10"
   ]
  },
  {
   "cell_type": "markdown",
   "metadata": {},
   "source": [
    "** 关于学习率（learning_rate）的设置 **<br>\n",
    "- 学习率的作用：控制参数更新的幅度。\n",
    "- 如果学习率设置过大，可能导致参数在极值附近来回摇摆，无法保证收敛。\n",
    "- 如果学习率设置过小，虽然能保证收敛，但优化速度会大大降低，我们需要更多迭代次数才能达到较理想的优化效果。"
   ]
  },
  {
   "cell_type": "markdown",
   "metadata": {},
   "source": [
    "** 定义损失函数 **\n",
    "<br>\n",
    "- 损失函数用于描述预测值与真实值之间的误差，从而指导模型收敛方向\n",
    "- 常见损失函数：均方差（Mean Square Error, MSE）和交叉熵（cross-entropy）"
   ]
  },
  {
   "cell_type": "code",
   "execution_count": 8,
   "metadata": {},
   "outputs": [],
   "source": [
    "# 采用均方差作为损失函数\n",
    "\n",
    "def loss(x, y, w, b):\n",
    "    err = model(x, w, b) - y #  how 'wrong' our predicted (learned)  y is\n",
    "    squared_err = tf.square(err)\n",
    "    return tf.reduce_mean(squared_err) # overall mean of squared error."
   ]
  },
  {
   "cell_type": "markdown",
   "metadata": {},
   "source": [
    "** 计算梯度 **"
   ]
  },
  {
   "cell_type": "code",
   "execution_count": 9,
   "metadata": {},
   "outputs": [],
   "source": [
    "# Find the derivative of loss with respect to weight and bias\n",
    "# 计算梯度\n",
    "def grad(x, y, w, b):\n",
    "    with tf.GradientTape() as tape:\n",
    "        loss_ = loss(x, y, w, b)\n",
    "    return tape.gradient(loss_, [w, b]) # direction and value of the gradient of our loss w.r.t weight and bias"
   ]
  },
  {
   "cell_type": "markdown",
   "metadata": {},
   "source": [
    "** 执行训练 **"
   ]
  },
  {
   "cell_type": "code",
   "execution_count": 14,
   "metadata": {},
   "outputs": [
    {
     "name": "stdout",
     "output_type": "stream",
     "text": [
      "Train Epoch: 01 loss=0.441349\n",
      "Train Epoch: 02 loss=0.405025\n",
      "Train Epoch: 03 loss=0.374186\n",
      "Train Epoch: 04 loss=0.347884\n",
      "Train Epoch: 05 loss=0.325347\n",
      "Train Epoch: 06 loss=0.305940\n",
      "Train Epoch: 07 loss=0.289147\n",
      "Train Epoch: 08 loss=0.274543\n",
      "Train Epoch: 09 loss=0.261778\n",
      "Train Epoch: 10 loss=0.250566\n",
      "Train Epoch: 11 loss=0.240670\n",
      "Train Epoch: 12 loss=0.231894\n",
      "Train Epoch: 13 loss=0.224077\n",
      "Train Epoch: 14 loss=0.217084\n",
      "Train Epoch: 15 loss=0.210801\n",
      "Train Epoch: 16 loss=0.205137\n",
      "Train Epoch: 17 loss=0.200010\n",
      "Train Epoch: 18 loss=0.195357\n",
      "Train Epoch: 19 loss=0.191119\n",
      "Train Epoch: 20 loss=0.187250\n",
      "Train Epoch: 21 loss=0.183708\n",
      "Train Epoch: 22 loss=0.180459\n",
      "Train Epoch: 23 loss=0.177472\n",
      "Train Epoch: 24 loss=0.174721\n",
      "Train Epoch: 25 loss=0.172184\n",
      "Train Epoch: 26 loss=0.169841\n",
      "Train Epoch: 27 loss=0.167674\n",
      "Train Epoch: 28 loss=0.165667\n",
      "Train Epoch: 29 loss=0.163808\n",
      "Train Epoch: 30 loss=0.162083\n",
      "Train Epoch: 31 loss=0.160481\n",
      "Train Epoch: 32 loss=0.158994\n",
      "Train Epoch: 33 loss=0.157611\n",
      "Train Epoch: 34 loss=0.156326\n",
      "Train Epoch: 35 loss=0.155130\n",
      "Train Epoch: 36 loss=0.154016\n",
      "Train Epoch: 37 loss=0.152980\n",
      "Train Epoch: 38 loss=0.152015\n",
      "Train Epoch: 39 loss=0.151116\n",
      "Train Epoch: 40 loss=0.150278\n",
      "Train Epoch: 41 loss=0.149497\n",
      "Train Epoch: 42 loss=0.148769\n",
      "Train Epoch: 43 loss=0.148091\n",
      "Train Epoch: 44 loss=0.147459\n",
      "Train Epoch: 45 loss=0.146869\n",
      "Train Epoch: 46 loss=0.146319\n",
      "Train Epoch: 47 loss=0.145806\n",
      "Train Epoch: 48 loss=0.145328\n",
      "Train Epoch: 49 loss=0.144881\n",
      "Train Epoch: 50 loss=0.144465\n",
      "Train Epoch: 51 loss=0.144077\n",
      "Train Epoch: 52 loss=0.143715\n",
      "Train Epoch: 53 loss=0.143377\n",
      "Train Epoch: 54 loss=0.143061\n",
      "Train Epoch: 55 loss=0.142767\n",
      "Train Epoch: 56 loss=0.142493\n",
      "Train Epoch: 57 loss=0.142237\n",
      "Train Epoch: 58 loss=0.141998\n",
      "Train Epoch: 59 loss=0.141775\n",
      "Train Epoch: 60 loss=0.141567\n",
      "Train Epoch: 61 loss=0.141373\n",
      "Train Epoch: 62 loss=0.141192\n",
      "Train Epoch: 63 loss=0.141023\n",
      "Train Epoch: 64 loss=0.140865\n",
      "Train Epoch: 65 loss=0.140718\n",
      "Train Epoch: 66 loss=0.140581\n",
      "Train Epoch: 67 loss=0.140453\n",
      "Train Epoch: 68 loss=0.140333\n",
      "Train Epoch: 69 loss=0.140222\n",
      "Train Epoch: 70 loss=0.140118\n",
      "Train Epoch: 71 loss=0.140021\n",
      "Train Epoch: 72 loss=0.139930\n",
      "Train Epoch: 73 loss=0.139845\n",
      "Train Epoch: 74 loss=0.139766\n",
      "Train Epoch: 75 loss=0.139693\n",
      "Train Epoch: 76 loss=0.139624\n",
      "Train Epoch: 77 loss=0.139560\n",
      "Train Epoch: 78 loss=0.139500\n",
      "Train Epoch: 79 loss=0.139444\n",
      "Train Epoch: 80 loss=0.139392\n",
      "Train Epoch: 81 loss=0.139344\n",
      "Train Epoch: 82 loss=0.139298\n",
      "Train Epoch: 83 loss=0.139256\n",
      "Train Epoch: 84 loss=0.139217\n",
      "Train Epoch: 85 loss=0.139180\n",
      "Train Epoch: 86 loss=0.139145\n",
      "Train Epoch: 87 loss=0.139113\n",
      "Train Epoch: 88 loss=0.139083\n",
      "Train Epoch: 89 loss=0.139055\n",
      "Train Epoch: 90 loss=0.139029\n",
      "Train Epoch: 91 loss=0.139005\n",
      "Train Epoch: 92 loss=0.138982\n",
      "Train Epoch: 93 loss=0.138961\n",
      "Train Epoch: 94 loss=0.138941\n",
      "Train Epoch: 95 loss=0.138923\n",
      "Train Epoch: 96 loss=0.138906\n",
      "Train Epoch: 97 loss=0.138890\n",
      "Train Epoch: 98 loss=0.138875\n",
      "Train Epoch: 99 loss=0.138861\n",
      "Train Epoch: 100 loss=0.138847\n"
     ]
    },
    {
     "data": {
      "image/png": "[encoded data removed]",
      "text/plain": [
       "<Figure size 432x288 with 1 Axes>"
      ]
     },
     "metadata": {},
     "output_type": "display_data"
    }
   ],
   "source": [
    "loss_list = []   # 用于保存loss值的列表\n",
    "\n",
    "for epoch in range(train_epochs):\n",
    "    loss_ = loss(x_data, y_data, w, b)\n",
    "    loss_list.append(loss_)\n",
    "        \n",
    "    delta_w, delta_b = grad(x_data, y_data, w, b) # direction (sign)  and value of the gradient of our loss w.r.t weight and bias\n",
    "    change_w = delta_w * learning_rate # adjustment amount for weight\n",
    "    change_b = delta_b * learning_rate # adjustment amount for bias\n",
    "    w.assign_sub(change_w) # subract change_W from W\n",
    "    b.assign_sub(change_b) # subract change_B from B\n",
    "               \n",
    "     \n",
    "    print(\"Train Epoch:\", '%02d' % (epoch+1), \"loss=%.6f\" % (loss_))\n",
    "    plt.plot (x_data, w.numpy() * x_data + b.numpy()  )# 画图_\n",
    "        "
   ]
  },
  {
   "cell_type": "markdown",
   "metadata": {},
   "source": [
    "从上图可以看出，由于本案例所拟合的模型较简单，训练3次之后已经接近收敛。<br> 对于复杂模型，需要更多次训练才能收敛。"
   ]
  },
  {
   "cell_type": "markdown",
   "metadata": {},
   "source": [
    "** 打印结果 **"
   ]
  },
  {
   "cell_type": "code",
   "execution_count": 15,
   "metadata": {},
   "outputs": [
    {
     "name": "stdout",
     "output_type": "stream",
     "text": [
      "w： 1.9829319\n",
      "b： 1.0366092\n"
     ]
    }
   ],
   "source": [
    "print (\"w：\", w.numpy()) # w的值应该在2附近 \n",
    "print (\"b：\", b.numpy()) # b的值应该在1附近 "
   ]
  },
  {
   "cell_type": "markdown",
   "metadata": {},
   "source": [
    "查看损失变化"
   ]
  },
  {
   "cell_type": "code",
   "execution_count": 16,
   "metadata": {},
   "outputs": [
    {
     "data": {
      "text/plain": [
       "[<matplotlib.lines.Line2D at 0x2367c08a748>]"
      ]
     },
     "execution_count": 16,
     "metadata": {},
     "output_type": "execute_result"
    },
    {
     "data": {
      "image/png": "[encoded data removed]",
      "text/plain": [
       "<Figure size 432x288 with 1 Axes>"
      ]
     },
     "metadata": {},
     "output_type": "display_data"
    }
   ],
   "source": [
    "plt.plot(loss_list)"
   ]
  },
  {
   "cell_type": "markdown",
   "metadata": {},
   "source": [
    "** 可视化 **"
   ]
  },
  {
   "cell_type": "code",
   "execution_count": 26,
   "metadata": {},
   "outputs": [
    {
     "data": {
      "text/plain": [
       "<matplotlib.legend.Legend at 0x272d01d8c18>"
      ]
     },
     "execution_count": 26,
     "metadata": {},
     "output_type": "execute_result"
    },
    {
     "data": {
      "image/png": "[encoded data removed]",
      "text/plain": [
       "<Figure size 432x288 with 1 Axes>"
      ]
     },
     "metadata": {},
     "output_type": "display_data"
    }
   ],
   "source": [
    "plt.scatter(x_data,y_data,label='Original data')\n",
    "plt.plot (x_data, x_data * w.numpy() + b.numpy(),\\\n",
    "          label='Fitted line',color='r', linewidth=3)\n",
    "plt.legend(loc=2)# 通过参数loc指定图例位置"
   ]
  },
  {
   "cell_type": "markdown",
   "metadata": {},
   "source": [
    "## 进行预测"
   ]
  },
  {
   "cell_type": "code",
   "execution_count": 27,
   "metadata": {},
   "outputs": [
    {
     "name": "stdout",
     "output_type": "stream",
     "text": [
      "预测值：7.142073\n",
      "目标值：7.420000\n"
     ]
    }
   ],
   "source": [
    "x_test = 3.21\n",
    "\n",
    "predict = model(x_test,w.numpy(),b.numpy())\n",
    "print(\"预测值：%f\" % predict)\n",
    "\n",
    "target = 2 * x_test + 1.0\n",
    "print(\"目标值：%f\" % target)"
   ]
  },
  {
   "cell_type": "markdown",
   "metadata": {},
   "source": [
    "** 以上是利用Tensorflow训练一个线性模型并进行预测的完整过程。<br> 通过逐渐降低损失值loss来训练参数$w$和$b$拟合 $y = 2x + 1$中的系数2和1。 ** "
   ]
  },
  {
   "cell_type": "markdown",
   "metadata": {},
   "source": [
    "# 小结"
   ]
  },
  {
   "cell_type": "markdown",
   "metadata": {},
   "source": [
    "** 通过一个简单的例子介绍了利用Tensorflow实现机器学习的思路，重点讲解了下述步骤： ** <br>\n",
    "** - （1）生成人工数据集及其可视化 ** <br>\n",
    "** - （2）构建线性模型 **<br>\n",
    "** - （3）定义损失函数 **<br>\n",
    "** - （4）最小化损失函数 **<br>\n",
    "** - （5）训练结果的可视化 **<br>\n",
    "** - （6）利用学习到的模型进行预测 **\n",
    "\n"
   ]
  }
 ],
 "metadata": {
  "anaconda-cloud": {},
  "kernelspec": {
   "display_name": "Python 3",
   "language": "python",
   "name": "python3"
  },
  "language_info": {
   "codemirror_mode": {
    "name": "ipython",
    "version": 3
   },
   "file_extension": ".py",
   "mimetype": "text/x-python",
   "name": "python",
   "nbconvert_exporter": "python",
   "pygments_lexer": "ipython3",
   "version": "3.7.6"
  },
  "toc": {
   "base_numbering": 1,
   "nav_menu": {},
   "number_sections": true,
   "sideBar": true,
   "skip_h1_title": false,
   "title_cell": "目录",
   "title_sidebar": "Contents",
   "toc_cell": true,
   "toc_position": {},
   "toc_section_display": true,
   "toc_window_display": true
  }
 },
 "nbformat": 4,
 "nbformat_minor": 2
}
