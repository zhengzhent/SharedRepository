{
 "cells": [
  {
   "cell_type": "code",
   "execution_count": 2,
   "metadata": {
    "collapsed": false
   },
   "outputs": [],
   "source": [
    "import numpy as np\n",
    "\n",
    "#设置随机数种子\n",
    "\n",
    "np.random.seed(5)"
   ]
  },
  {
   "cell_type": "code",
   "execution_count": 3,
   "metadata": {
    "collapsed": false
   },
   "outputs": [
    {
     "data": {
      "text/plain": [
       "0.22199317108973948"
      ]
     },
     "execution_count": 3,
     "metadata": {},
     "output_type": "execute_result"
    }
   ],
   "source": [
    "#生成生成[0,1)之间随机浮点数\n",
    "\n",
    "np.random.rand()  "
   ]
  },
  {
   "cell_type": "code",
   "execution_count": 4,
   "metadata": {
    "collapsed": false
   },
   "outputs": [
    {
     "data": {
      "text/plain": [
       "array([ 0.87073231,  0.20671916,  0.91861091,  0.48841119,  0.61174386])"
      ]
     },
     "execution_count": 4,
     "metadata": {},
     "output_type": "execute_result"
    }
   ],
   "source": [
    "#生成一个形状为5的一维数组\n",
    "\n",
    "np.random.rand(5)  "
   ]
  },
  {
   "cell_type": "code",
   "execution_count": 5,
   "metadata": {
    "collapsed": false
   },
   "outputs": [
    {
     "data": {
      "text/plain": [
       "array([[ 0.76590786,  0.51841799,  0.2968005 ],\n",
       "       [ 0.18772123,  0.08074127,  0.7384403 ]])"
      ]
     },
     "execution_count": 5,
     "metadata": {},
     "output_type": "execute_result"
    }
   ],
   "source": [
    "#生成2x3的二维数组\n",
    "\n",
    "np.random.rand(2,3) "
   ]
  },
  {
   "cell_type": "code",
   "execution_count": 8,
   "metadata": {
    "collapsed": false
   },
   "outputs": [
    {
     "data": {
      "text/plain": [
       "array([ 1.45073354,  0.60687032, -0.37562084, -1.42192455, -1.7811513 ,\n",
       "       -0.74790579, -0.36840953, -2.24911813, -1.69367504,  0.30364847,\n",
       "       -0.40899234, -0.75483059, -0.40751917, -0.81262476,  0.92751621,\n",
       "        1.63995407,  2.07361553,  0.70979786,  0.74715259,  1.46309548])"
      ]
     },
     "execution_count": 8,
     "metadata": {},
     "output_type": "execute_result"
    }
   ],
   "source": [
    "# numpy.random.randn(d0, d1, …, dn) 是从标准正态分布中返回一个或多个样本值\n",
    "# 标准正态分布又称为u分布，是以0为均值、以1为标准差的正态分布，记为N（0，1）\n",
    "\n",
    "np.random.randn(20)"
   ]
  },
  {
   "cell_type": "code",
   "execution_count": 10,
   "metadata": {
    "collapsed": false
   },
   "outputs": [
    {
     "data": {
      "text/plain": [
       "array([[ 1.73844881,  1.46520488,  1.21228341, -0.6346525 ],\n",
       "       [-1.5996985 ,  0.87715281, -0.09383245, -0.05567103],\n",
       "       [-0.88942073, -1.30095145,  1.40216662,  0.46510099],\n",
       "       [-1.06503262,  0.39042061,  0.30560017,  0.52184949],\n",
       "       [ 2.23327081, -0.0347021 , -1.27962318,  0.03654264],\n",
       "       [-0.64635659,  0.54856784,  0.21054246,  0.34650175],\n",
       "       [-0.56705117,  0.41367881, -0.51025606,  0.51725935],\n",
       "       [-0.30100513, -1.11840643,  0.49852362, -0.70609387],\n",
       "       [ 1.4438811 ,  0.44295626,  0.46770521,  0.10134479],\n",
       "       [-0.05935198, -2.38669774,  1.22217056, -0.81391201],\n",
       "       [ 0.95626186, -0.63851056, -0.14312642, -0.22418983],\n",
       "       [-1.03849524, -0.17170905,  0.47634618, -0.41417827],\n",
       "       [-1.26408334, -0.57321556,  0.24981732,  1.14720208],\n",
       "       [ 0.83594396,  0.28740365, -0.9955963 ,  0.90688947],\n",
       "       [ 0.02421074, -0.23998173,  0.91011056,  0.61784475],\n",
       "       [ 0.49961804, -1.15154425, -0.6105164 , -1.70388541],\n",
       "       [ 0.19443738,  0.02824125,  0.93256051,  0.21204332],\n",
       "       [-0.36794457,  2.1114884 , -1.02957349, -1.33628031],\n",
       "       [-0.61056736,  0.52469426, -0.34930813, -0.44073846],\n",
       "       [-1.1212876 ,  1.47284473, -0.62337224, -1.08070195]])"
      ]
     },
     "execution_count": 10,
     "metadata": {},
     "output_type": "execute_result"
    }
   ],
   "source": [
    "np.random.randn(20,4)"
   ]
  },
  {
   "cell_type": "code",
   "execution_count": 11,
   "metadata": {
    "collapsed": false
   },
   "outputs": [
    {
     "data": {
      "text/plain": [
       "array([[-0.12253009, -0.8077431 , -0.23255622],\n",
       "       [ 1.33515034, -0.44645673, -0.04978868]])"
      ]
     },
     "execution_count": 11,
     "metadata": {},
     "output_type": "execute_result"
    }
   ],
   "source": [
    "'''numpy.random.standard_normal(size=None)：\n",
    "   生产一个浮点数或N维浮点数组，取数范围：标准正态分布随机样本'''\n",
    "\n",
    "np.random.standard_normal([2,3])"
   ]
  },
  {
   "cell_type": "code",
   "execution_count": 12,
   "metadata": {
    "collapsed": false
   },
   "outputs": [
    {
     "data": {
      "text/plain": [
       "array([58, 34, 54, 97,  2])"
      ]
     },
     "execution_count": 12,
     "metadata": {},
     "output_type": "execute_result"
    }
   ],
   "source": [
    "'''numpy.random.randint(low, high=None, size=None, dtype='l')：\n",
    "  生成一个整数或N维整数数组，取数范围：若high不为None时，取[low,high)之间随机整数，\n",
    "  否则取值[0,low)之间随机整数 '''\n",
    "\n",
    "np.random.randint(1,100,5)"
   ]
  },
  {
   "cell_type": "code",
   "execution_count": 13,
   "metadata": {
    "collapsed": false
   },
   "outputs": [
    {
     "data": {
      "text/plain": [
       "array([ 6, 26, 14, 17, 26])"
      ]
     },
     "execution_count": 13,
     "metadata": {},
     "output_type": "execute_result"
    }
   ],
   "source": [
    "np.random.randint(50,size=5)"
   ]
  },
  {
   "cell_type": "code",
   "execution_count": null,
   "metadata": {
    "collapsed": true
   },
   "outputs": [],
   "source": []
  }
 ],
 "metadata": {
  "kernelspec": {
   "display_name": "Python [default]",
   "language": "python",
   "name": "python3"
  },
  "language_info": {
   "codemirror_mode": {
    "name": "ipython",
    "version": 3
   },
   "file_extension": ".py",
   "mimetype": "text/x-python",
   "name": "python",
   "nbconvert_exporter": "python",
   "pygments_lexer": "ipython3",
   "version": "3.5.2"
  }
 },
 "nbformat": 4,
 "nbformat_minor": 1
}
