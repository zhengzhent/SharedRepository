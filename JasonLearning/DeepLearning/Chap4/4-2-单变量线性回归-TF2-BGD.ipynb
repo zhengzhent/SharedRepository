{
 "cells": [
  {
   "cell_type": "markdown",
   "metadata": {},
   "source": [
    "# 单变量线性回归\n",
    "\n",
    "吴明晖\n",
    "\n",
    "浙江大学城市学院\n",
    "\n",
    "2020.2"
   ]
  },
  {
   "cell_type": "markdown",
   "metadata": {
    "toc": true
   },
   "source": [
    "<h1>目录<span class=\"tocSkip\"></span></h1>\n",
    "<div class=\"toc\"><ul class=\"toc-item\"><li><span><a href=\"#使用Tensorflow进行算法设计与训练的核心步骤\" data-toc-modified-id=\"使用Tensorflow进行算法设计与训练的核心步骤-1\"><span class=\"toc-item-num\">1&nbsp;&nbsp;</span>使用Tensorflow进行算法设计与训练的核心步骤</a></span></li><li><span><a href=\"#Tensorflow实现单变量线性回归\" data-toc-modified-id=\"Tensorflow实现单变量线性回归-2\"><span class=\"toc-item-num\">2&nbsp;&nbsp;</span>Tensorflow实现单变量线性回归</a></span><ul class=\"toc-item\"><li><span><a href=\"#生成数据\" data-toc-modified-id=\"生成数据-2.1\"><span class=\"toc-item-num\">2.1&nbsp;&nbsp;</span>生成数据</a></span></li><li><span><a href=\"#构建模型\" data-toc-modified-id=\"构建模型-2.2\"><span class=\"toc-item-num\">2.2&nbsp;&nbsp;</span>构建模型</a></span></li><li><span><a href=\"#训练模型\" data-toc-modified-id=\"训练模型-2.3\"><span class=\"toc-item-num\">2.3&nbsp;&nbsp;</span>训练模型</a></span></li><li><span><a href=\"#进行预测\" data-toc-modified-id=\"进行预测-2.4\"><span class=\"toc-item-num\">2.4&nbsp;&nbsp;</span>进行预测</a></span></li></ul></li><li><span><a href=\"#小结\" data-toc-modified-id=\"小结-3\"><span class=\"toc-item-num\">3&nbsp;&nbsp;</span>小结</a></span></li></ul></div>"
   ]
  },
  {
   "cell_type": "markdown",
   "metadata": {},
   "source": [
    "# 使用Tensorflow进行算法设计与训练的核心步骤\n",
    "\n",
    "- ** （1）准备数据 **\n",
    "- ** （2）构建模型 **\n",
    "- ** （3）训练模型 **\n",
    "- ** （4）进行预测 **\n",
    "\n",
    "上述步骤是我们使用Tensorflow进行算法设计与训练的核心步骤，贯穿于后面介绍的具体实战中。<br> 本章用一个简单的例子来讲解这几个步骤。"
   ]
  },
  {
   "cell_type": "markdown",
   "metadata": {},
   "source": [
    "\n",
    "\n",
    "# 有监督机器学习过程示意图\n",
    "\n",
    "![机器学习过程示意图](机器学习过程示意图.png)"
   ]
  },
  {
   "cell_type": "markdown",
   "metadata": {},
   "source": [
    "# Tensorflow实现单变量线性回归"
   ]
  },
  {
   "cell_type": "markdown",
   "metadata": {},
   "source": [
    "假设我们要学习的函数为线性函数$ y=2x+1 $"
   ]
  },
  {
   "cell_type": "markdown",
   "metadata": {},
   "source": [
    "## 生成数据"
   ]
  },
  {
   "cell_type": "markdown",
   "metadata": {},
   "source": [
    "### 导入相关库"
   ]
  },
  {
   "cell_type": "code",
   "execution_count": 1,
   "metadata": {},
   "outputs": [
    {
     "name": "stdout",
     "output_type": "stream",
     "text": [
      "Tensorflow版本是： 2.0.0\n"
     ]
    }
   ],
   "source": [
    "import tensorflow as tf    # 载入Tensorflow\n",
    "import numpy as np     # 载入numpy\n",
    "import matplotlib.pyplot as plt # 载入matplotlib\n",
    "\n",
    "# 在Jupyter中，使用matplotlib显示图像需要设置为 inline 模式，否则不会在网页里显示图像\n",
    "%matplotlib inline\n",
    "print(\"Tensorflow版本是：\",tf.__version__) #显示当前TensorFlow版本"
   ]
  },
  {
   "cell_type": "markdown",
   "metadata": {},
   "source": [
    "## 生成数据集"
   ]
  },
  {
   "cell_type": "markdown",
   "metadata": {},
   "source": [
    "** 首先，生成输入数据。 ** <br> 我们需要构造满足这个函数的$x$和$y$同时加入一些不满足方程的噪声."
   ]
  },
  {
   "cell_type": "code",
   "execution_count": 2,
   "metadata": {},
   "outputs": [],
   "source": [
    "# 直接采用np生成等差数列的方法，生成100个点，每个点的取值在-1~1之间\n",
    "x_data = np.linspace(-1, 1, 100) \n",
    "\n",
    "np.random.seed(5)    # 设置随机数种子\n",
    "# y = 2x +1 + 噪声， 其中，噪声的维度与x_data一致\n",
    "y_data = 2 * x_data + 1.0 + np.random.randn(*x_data.shape) * 0.4  "
   ]
  },
  {
   "cell_type": "code",
   "execution_count": 3,
   "metadata": {},
   "outputs": [
    {
     "data": {
      "text/plain": [
       "array([ 0.79242262,  0.17076445, -1.75374086,  0.63029648,  0.49832921,\n",
       "        1.01813761, -0.84646862,  2.52080763, -1.23238611,  0.72695326])"
      ]
     },
     "execution_count": 3,
     "metadata": {},
     "output_type": "execute_result"
    }
   ],
   "source": [
    "# numpy.random.randn(d0, d1, …, dn) 是从标准正态分布中返回一个或多个样本值\n",
    "# 标准正态分布又称为u分布，是以0为均值、以1为标准差的正态分布，记为N（0，1）\n",
    "\n",
    "np.random.randn(10)"
   ]
  },
  {
   "cell_type": "code",
   "execution_count": 4,
   "metadata": {},
   "outputs": [
    {
     "data": {
      "text/plain": [
       "(100,)"
      ]
     },
     "execution_count": 4,
     "metadata": {},
     "output_type": "execute_result"
    }
   ],
   "source": [
    "# x_data.shape值为一个元组\n",
    "\n",
    "x_data.shape"
   ]
  },
  {
   "cell_type": "code",
   "execution_count": 5,
   "metadata": {},
   "outputs": [
    {
     "data": {
      "text/plain": [
       "array([ 0.04595522, -0.48713265,  0.81613236, -0.28143012, -2.33562182,\n",
       "       -1.16727845,  0.45765807,  2.23796561, -1.4812592 , -0.01694532,\n",
       "        1.45073354,  0.60687032, -0.37562084, -1.42192455, -1.7811513 ,\n",
       "       -0.74790579, -0.36840953, -2.24911813, -1.69367504,  0.30364847,\n",
       "       -0.40899234, -0.75483059, -0.40751917, -0.81262476,  0.92751621,\n",
       "        1.63995407,  2.07361553,  0.70979786,  0.74715259,  1.46309548,\n",
       "        1.73844881,  1.46520488,  1.21228341, -0.6346525 , -1.5996985 ,\n",
       "        0.87715281, -0.09383245, -0.05567103, -0.88942073, -1.30095145,\n",
       "        1.40216662,  0.46510099, -1.06503262,  0.39042061,  0.30560017,\n",
       "        0.52184949,  2.23327081, -0.0347021 , -1.27962318,  0.03654264,\n",
       "       -0.64635659,  0.54856784,  0.21054246,  0.34650175, -0.56705117,\n",
       "        0.41367881, -0.51025606,  0.51725935, -0.30100513, -1.11840643,\n",
       "        0.49852362, -0.70609387,  1.4438811 ,  0.44295626,  0.46770521,\n",
       "        0.10134479, -0.05935198, -2.38669774,  1.22217056, -0.81391201,\n",
       "        0.95626186, -0.63851056, -0.14312642, -0.22418983, -1.03849524,\n",
       "       -0.17170905,  0.47634618, -0.41417827, -1.26408334, -0.57321556,\n",
       "        0.24981732,  1.14720208,  0.83594396,  0.28740365, -0.9955963 ,\n",
       "        0.90688947,  0.02421074, -0.23998173,  0.91011056,  0.61784475,\n",
       "        0.49961804, -1.15154425, -0.6105164 , -1.70388541,  0.19443738,\n",
       "        0.02824125,  0.93256051,  0.21204332, -0.36794457,  2.1114884 ])"
      ]
     },
     "execution_count": 5,
     "metadata": {},
     "output_type": "execute_result"
    }
   ],
   "source": [
    "# 实参的前面加上*和**时，就意味着拆包。单个*表示将元组拆成一个个单独的实参\n",
    "\n",
    "np.random.randn(*x_data.shape)"
   ]
  },
  {
   "cell_type": "code",
   "execution_count": 6,
   "metadata": {},
   "outputs": [
    {
     "data": {
      "text/plain": [
       "array([-1.02957349, -1.33628031, -0.61056736,  0.52469426, -0.34930813,\n",
       "       -0.44073846, -1.1212876 ,  1.47284473, -0.62337224, -1.08070195,\n",
       "       -0.12253009, -0.8077431 , -0.23255622,  1.33515034, -0.44645673,\n",
       "       -0.04978868, -0.36854478, -0.19173957,  0.81967992,  0.53163372,\n",
       "       -0.34161504, -0.93090048, -0.13421699,  0.83259361, -0.01735327,\n",
       "       -0.12765822, -1.80791662,  0.99396898, -1.49112886, -1.28210748,\n",
       "       -0.37570741,  0.03464388,  0.04507816, -0.76374689, -0.31313851,\n",
       "       -0.60698954, -1.80955123, -0.25551774, -0.69379935,  0.41919776,\n",
       "       -0.14520019,  0.9638013 ,  0.69622199,  0.89940546,  1.20837807,\n",
       "        0.6932537 , -0.16636061,  1.35311311, -0.92862651, -0.03547249,\n",
       "        0.85964595, -0.28749661,  0.71494995, -0.8034526 , -0.54048196,\n",
       "        0.54617743,  0.71188926,  1.19715449, -0.07006703,  0.29822712,\n",
       "        0.62619261,  0.46743206, -1.30262143, -0.57008965,  1.44295001,\n",
       "       -1.24399513,  0.62888033, -0.42559213,  1.00320956, -0.77817761,\n",
       "        0.04894463, -2.02640189, -0.04193635,  1.07454278, -1.5008594 ,\n",
       "        1.18574443, -0.71508124, -0.05123853, -2.77458336,  1.07862813,\n",
       "       -0.87568592, -0.53810932, -1.2782157 , -0.99276945,  1.14342789,\n",
       "       -0.5090726 ,  0.89500094, -0.17620337,  0.34608347, -0.50631013,\n",
       "        0.42716402,  2.58856959,  0.65289301,  0.50583979, -0.47595083,\n",
       "        1.01090874,  1.35920097, -1.70208997, -1.38033223,  2.10177668])"
      ]
     },
     "execution_count": 6,
     "metadata": {},
     "output_type": "execute_result"
    }
   ],
   "source": [
    "# 本例中，np.random.randn(*x_data.shape) 和 np.random.randn(100) 功能相同\n",
    "\n",
    "np.random.randn(100)"
   ]
  },
  {
   "cell_type": "code",
   "execution_count": 7,
   "metadata": {},
   "outputs": [],
   "source": [
    "y_data = 2 * x_data + 1.0 + np.random.randn(100) * 0.4  # y = 2x +1 + 噪声， 其中，噪声的维度与x_data一致"
   ]
  },
  {
   "cell_type": "markdown",
   "metadata": {},
   "source": [
    "### Jupyter使用小技巧\n",
    "可以使用Tab健进行代码补齐"
   ]
  },
  {
   "cell_type": "code",
   "execution_count": null,
   "metadata": {},
   "outputs": [],
   "source": []
  },
  {
   "cell_type": "markdown",
   "metadata": {},
   "source": [
    "## 查看数据集"
   ]
  },
  {
   "cell_type": "code",
   "execution_count": 8,
   "metadata": {},
   "outputs": [
    {
     "data": {
      "text/plain": [
       "(array([-1.        , -0.97979798, -0.95959596, -0.93939394, -0.91919192,\n",
       "        -0.8989899 , -0.87878788, -0.85858586, -0.83838384, -0.81818182,\n",
       "        -0.7979798 , -0.77777778, -0.75757576, -0.73737374, -0.71717172,\n",
       "        -0.6969697 , -0.67676768, -0.65656566, -0.63636364, -0.61616162,\n",
       "        -0.5959596 , -0.57575758, -0.55555556, -0.53535354, -0.51515152,\n",
       "        -0.49494949, -0.47474747, -0.45454545, -0.43434343, -0.41414141,\n",
       "        -0.39393939, -0.37373737, -0.35353535, -0.33333333, -0.31313131,\n",
       "        -0.29292929, -0.27272727, -0.25252525, -0.23232323, -0.21212121,\n",
       "        -0.19191919, -0.17171717, -0.15151515, -0.13131313, -0.11111111,\n",
       "        -0.09090909, -0.07070707, -0.05050505, -0.03030303, -0.01010101,\n",
       "         0.01010101,  0.03030303,  0.05050505,  0.07070707,  0.09090909,\n",
       "         0.11111111,  0.13131313,  0.15151515,  0.17171717,  0.19191919,\n",
       "         0.21212121,  0.23232323,  0.25252525,  0.27272727,  0.29292929,\n",
       "         0.31313131,  0.33333333,  0.35353535,  0.37373737,  0.39393939,\n",
       "         0.41414141,  0.43434343,  0.45454545,  0.47474747,  0.49494949,\n",
       "         0.51515152,  0.53535354,  0.55555556,  0.57575758,  0.5959596 ,\n",
       "         0.61616162,  0.63636364,  0.65656566,  0.67676768,  0.6969697 ,\n",
       "         0.71717172,  0.73737374,  0.75757576,  0.77777778,  0.7979798 ,\n",
       "         0.81818182,  0.83838384,  0.85858586,  0.87878788,  0.8989899 ,\n",
       "         0.91919192,  0.93939394,  0.95959596,  0.97979798,  1.        ]),\n",
       " array([-0.82964033, -0.90791587, -0.69400691, -0.44008199, -0.5180563 ,\n",
       "        -0.8872131 ,  0.06789251, -0.71212232, -1.0266772 , -0.85919539,\n",
       "        -0.64888038, -0.70724555, -0.590269  , -0.34856101, -1.74790961,\n",
       "        -0.7054167 ,  0.02660253, -0.08793079, -0.5449889 , -0.48212459,\n",
       "         0.26427918, -0.25060673, -0.32319322,  0.67157869, -0.17825188,\n",
       "         0.28379974,  0.03223693,  0.11122375, -0.24757709, -0.1590778 ,\n",
       "         0.71535065, -0.20303085,  0.40387334, -0.14444505,  0.27756264,\n",
       "         0.39925811, -0.19732591,  0.94889485,  0.46183376,  1.06165267,\n",
       "         0.24245018,  1.02131062,  1.63066574,  0.82398652,  0.51895039,\n",
       "         1.00966424,  0.91491672,  0.81499046,  0.89119128,  0.74826767,\n",
       "         1.18974906,  0.90567352,  0.75826284,  1.4675397 ,  1.11549177,\n",
       "         2.2803636 ,  1.16283831,  1.01609515,  1.12363541,  1.53227316,\n",
       "         1.1453041 ,  0.959326  ,  2.16073544,  1.04939669,  2.19131689,\n",
       "         1.68268525,  1.24182748,  2.37362287,  1.66609331,  1.38485978,\n",
       "         1.85444665,  2.38326516,  2.18258824,  2.27999287,  2.69163352,\n",
       "         2.11612862,  2.22103298,  2.02071744,  1.5696376 ,  2.13410533,\n",
       "         2.87911475,  1.58030582,  2.85070977,  2.45815118,  2.02973165,\n",
       "         2.46053123,  3.18527633,  2.28589824,  2.871793  ,  3.04856519,\n",
       "         2.27752604,  2.92985242,  2.93123378,  2.56791479,  3.07197416,\n",
       "         2.69390616,  2.6478159 ,  2.42530012,  3.11378792,  2.828324  ]))"
      ]
     },
     "execution_count": 8,
     "metadata": {},
     "output_type": "execute_result"
    }
   ],
   "source": [
    "x_data,y_data"
   ]
  },
  {
   "cell_type": "markdown",
   "metadata": {},
   "source": [
    "** 利用matplotlib画图 **"
   ]
  },
  {
   "cell_type": "code",
   "execution_count": 9,
   "metadata": {},
   "outputs": [
    {
     "data": {
      "text/plain": [
       "Text(0.5, 1.0, 'Figure: Training Data')"
      ]
     },
     "execution_count": 9,
     "metadata": {},
     "output_type": "execute_result"
    },
    {
     "data": {
      "image/png": "[encoded data removed]",
      "text/plain": [
       "<Figure size 432x288 with 1 Axes>"
      ]
     },
     "metadata": {
      "needs_background": "light"
     },
     "output_type": "display_data"
    }
   ],
   "source": [
    "#画出随机生成数据的散点图\n",
    "plt.scatter(x_data, y_data) \n",
    "plt.xlabel(\"x\")\n",
    "plt.ylabel(\"y\")\n",
    "plt.title(\"Figure: Training Data\")"
   ]
  },
  {
   "cell_type": "code",
   "execution_count": 10,
   "metadata": {},
   "outputs": [
    {
     "data": {
      "text/plain": [
       "[<matplotlib.lines.Line2D at 0x19b7abc2f08>]"
      ]
     },
     "execution_count": 10,
     "metadata": {},
     "output_type": "execute_result"
    },
    {
     "data": {
      "image/png": "[encoded data removed]",
      "text/plain": [
       "<Figure size 432x288 with 1 Axes>"
      ]
     },
     "metadata": {
      "needs_background": "light"
     },
     "output_type": "display_data"
    }
   ],
   "source": [
    "#画出随机生成数据的散点图\n",
    "plt.scatter(x_data, y_data) \n",
    "\n",
    "# 画出我们想要通过学习得到的目标线性函数 y = 2x +1\n",
    "plt.plot (x_data, 1.0 + 2 * x_data,  'r',linewidth=3) "
   ]
  },
  {
   "cell_type": "code",
   "execution_count": 11,
   "metadata": {},
   "outputs": [
    {
     "name": "stdout",
     "output_type": "stream",
     "text": [
      "Help on function plot in module matplotlib.pyplot:\n",
      "\n",
      "plot(*args, scalex=True, scaley=True, data=None, **kwargs)\n",
      "    Plot y versus x as lines and/or markers.\n",
      "    \n",
      "    Call signatures::\n",
      "    \n",
      "        plot([x], y, [fmt], *, data=None, **kwargs)\n",
      "        plot([x], y, [fmt], [x2], y2, [fmt2], ..., **kwargs)\n",
      "    \n",
      "    The coordinates of the points or line nodes are given by *x*, *y*.\n",
      "    \n",
      "    The optional parameter *fmt* is a convenient way for defining basic\n",
      "    formatting like color, marker and linestyle. It's a shortcut string\n",
      "    notation described in the *Notes* section below.\n",
      "    \n",
      "    >>> plot(x, y)        # plot x and y using default line style and color\n",
      "    >>> plot(x, y, 'bo')  # plot x and y using blue circle markers\n",
      "    >>> plot(y)           # plot y using x as index array 0..N-1\n",
      "    >>> plot(y, 'r+')     # ditto, but with red plusses\n",
      "    \n",
      "    You can use `.Line2D` properties as keyword arguments for more\n",
      "    control on the appearance. Line properties and *fmt* can be mixed.\n",
      "    The following two calls yield identical results:\n",
      "    \n",
      "    >>> plot(x, y, 'go--', linewidth=2, markersize=12)\n",
      "    >>> plot(x, y, color='green', marker='o', linestyle='dashed',\n",
      "    ...      linewidth=2, markersize=12)\n",
      "    \n",
      "    When conflicting with *fmt*, keyword arguments take precedence.\n",
      "    \n",
      "    \n",
      "    **Plotting labelled data**\n",
      "    \n",
      "    There's a convenient way for plotting objects with labelled data (i.e.\n",
      "    data that can be accessed by index ``obj['y']``). Instead of giving\n",
      "    the data in *x* and *y*, you can provide the object in the *data*\n",
      "    parameter and just give the labels for *x* and *y*::\n",
      "    \n",
      "    >>> plot('xlabel', 'ylabel', data=obj)\n",
      "    \n",
      "    All indexable objects are supported. This could e.g. be a `dict`, a\n",
      "    `pandas.DataFame` or a structured numpy array.\n",
      "    \n",
      "    \n",
      "    **Plotting multiple sets of data**\n",
      "    \n",
      "    There are various ways to plot multiple sets of data.\n",
      "    \n",
      "    - The most straight forward way is just to call `plot` multiple times.\n",
      "      Example:\n",
      "    \n",
      "      >>> plot(x1, y1, 'bo')\n",
      "      >>> plot(x2, y2, 'go')\n",
      "    \n",
      "    - Alternatively, if your data is already a 2d array, you can pass it\n",
      "      directly to *x*, *y*. A separate data set will be drawn for every\n",
      "      column.\n",
      "    \n",
      "      Example: an array ``a`` where the first column represents the *x*\n",
      "      values and the other columns are the *y* columns::\n",
      "    \n",
      "      >>> plot(a[0], a[1:])\n",
      "    \n",
      "    - The third way is to specify multiple sets of *[x]*, *y*, *[fmt]*\n",
      "      groups::\n",
      "    \n",
      "      >>> plot(x1, y1, 'g^', x2, y2, 'g-')\n",
      "    \n",
      "      In this case, any additional keyword argument applies to all\n",
      "      datasets. Also this syntax cannot be combined with the *data*\n",
      "      parameter.\n",
      "    \n",
      "    By default, each line is assigned a different style specified by a\n",
      "    'style cycle'. The *fmt* and line property parameters are only\n",
      "    necessary if you want explicit deviations from these defaults.\n",
      "    Alternatively, you can also change the style cycle using the\n",
      "    'axes.prop_cycle' rcParam.\n",
      "    \n",
      "    \n",
      "    Parameters\n",
      "    ----------\n",
      "    x, y : array-like or scalar\n",
      "        The horizontal / vertical coordinates of the data points.\n",
      "        *x* values are optional and default to `range(len(y))`.\n",
      "    \n",
      "        Commonly, these parameters are 1D arrays.\n",
      "    \n",
      "        They can also be scalars, or two-dimensional (in that case, the\n",
      "        columns represent separate data sets).\n",
      "    \n",
      "        These arguments cannot be passed as keywords.\n",
      "    \n",
      "    fmt : str, optional\n",
      "        A format string, e.g. 'ro' for red circles. See the *Notes*\n",
      "        section for a full description of the format strings.\n",
      "    \n",
      "        Format strings are just an abbreviation for quickly setting\n",
      "        basic line properties. All of these and more can also be\n",
      "        controlled by keyword arguments.\n",
      "    \n",
      "        This argument cannot be passed as keyword.\n",
      "    \n",
      "    data : indexable object, optional\n",
      "        An object with labelled data. If given, provide the label names to\n",
      "        plot in *x* and *y*.\n",
      "    \n",
      "        .. note::\n",
      "            Technically there's a slight ambiguity in calls where the\n",
      "            second label is a valid *fmt*. `plot('n', 'o', data=obj)`\n",
      "            could be `plt(x, y)` or `plt(y, fmt)`. In such cases,\n",
      "            the former interpretation is chosen, but a warning is issued.\n",
      "            You may suppress the warning by adding an empty format string\n",
      "            `plot('n', 'o', '', data=obj)`.\n",
      "    \n",
      "    Other Parameters\n",
      "    ----------------\n",
      "    scalex, scaley : bool, optional, default: True\n",
      "        These parameters determined if the view limits are adapted to\n",
      "        the data limits. The values are passed on to `autoscale_view`.\n",
      "    \n",
      "    **kwargs : `.Line2D` properties, optional\n",
      "        *kwargs* are used to specify properties like a line label (for\n",
      "        auto legends), linewidth, antialiasing, marker face color.\n",
      "        Example::\n",
      "    \n",
      "        >>> plot([1,2,3], [1,2,3], 'go-', label='line 1', linewidth=2)\n",
      "        >>> plot([1,2,3], [1,4,9], 'rs',  label='line 2')\n",
      "    \n",
      "        If you make multiple lines with one plot command, the kwargs\n",
      "        apply to all those lines.\n",
      "    \n",
      "        Here is a list of available `.Line2D` properties:\n",
      "    \n",
      "      agg_filter: a filter function, which takes a (m, n, 3) float array and a dpi value, and returns a (m, n, 3) array\n",
      "      alpha: float\n",
      "      animated: bool\n",
      "      antialiased or aa: bool\n",
      "      clip_box: `.Bbox`\n",
      "      clip_on: bool\n",
      "      clip_path: [(`~matplotlib.path.Path`, `.Transform`) | `.Patch` | None]\n",
      "      color or c: color\n",
      "      contains: callable\n",
      "      dash_capstyle: {'butt', 'round', 'projecting'}\n",
      "      dash_joinstyle: {'miter', 'round', 'bevel'}\n",
      "      dashes: sequence of floats (on/off ink in points) or (None, None)\n",
      "      drawstyle or ds: {'default', 'steps', 'steps-pre', 'steps-mid', 'steps-post'}, default: 'default'\n",
      "      figure: `.Figure`\n",
      "      fillstyle: {'full', 'left', 'right', 'bottom', 'top', 'none'}\n",
      "      gid: str\n",
      "      in_layout: bool\n",
      "      label: object\n",
      "      linestyle or ls: {'-', '--', '-.', ':', '', (offset, on-off-seq), ...}\n",
      "      linewidth or lw: float\n",
      "      marker: marker style\n",
      "      markeredgecolor or mec: color\n",
      "      markeredgewidth or mew: float\n",
      "      markerfacecolor or mfc: color\n",
      "      markerfacecoloralt or mfcalt: color\n",
      "      markersize or ms: float\n",
      "      markevery: None or int or (int, int) or slice or List[int] or float or (float, float)\n",
      "      path_effects: `.AbstractPathEffect`\n",
      "      picker: float or callable[[Artist, Event], Tuple[bool, dict]]\n",
      "      pickradius: float\n",
      "      rasterized: bool or None\n",
      "      sketch_params: (scale: float, length: float, randomness: float)\n",
      "      snap: bool or None\n",
      "      solid_capstyle: {'butt', 'round', 'projecting'}\n",
      "      solid_joinstyle: {'miter', 'round', 'bevel'}\n",
      "      transform: `matplotlib.transforms.Transform`\n",
      "      url: str\n",
      "      visible: bool\n",
      "      xdata: 1D array\n",
      "      ydata: 1D array\n",
      "      zorder: float\n",
      "    \n",
      "    Returns\n",
      "    -------\n",
      "    lines\n",
      "        A list of `.Line2D` objects representing the plotted data.\n",
      "    \n",
      "    See Also\n",
      "    --------\n",
      "    scatter : XY scatter plot with markers of varying size and/or color (\n",
      "        sometimes also called bubble chart).\n",
      "    \n",
      "    Notes\n",
      "    -----\n",
      "    **Format Strings**\n",
      "    \n",
      "    A format string consists of a part for color, marker and line::\n",
      "    \n",
      "        fmt = '[marker][line][color]'\n",
      "    \n",
      "    Each of them is optional. If not provided, the value from the style\n",
      "    cycle is used. Exception: If ``line`` is given, but no ``marker``,\n",
      "    the data will be a line without markers.\n",
      "    \n",
      "    Other combinations such as ``[color][marker][line]`` are also\n",
      "    supported, but note that their parsing may be ambiguous.\n",
      "    \n",
      "    **Markers**\n",
      "    \n",
      "    =============    ===============================\n",
      "    character        description\n",
      "    =============    ===============================\n",
      "    ``'.'``          point marker\n",
      "    ``','``          pixel marker\n",
      "    ``'o'``          circle marker\n",
      "    ``'v'``          triangle_down marker\n",
      "    ``'^'``          triangle_up marker\n",
      "    ``'<'``          triangle_left marker\n",
      "    ``'>'``          triangle_right marker\n",
      "    ``'1'``          tri_down marker\n",
      "    ``'2'``          tri_up marker\n",
      "    ``'3'``          tri_left marker\n",
      "    ``'4'``          tri_right marker\n",
      "    ``'s'``          square marker\n",
      "    ``'p'``          pentagon marker\n",
      "    ``'*'``          star marker\n",
      "    ``'h'``          hexagon1 marker\n",
      "    ``'H'``          hexagon2 marker\n",
      "    ``'+'``          plus marker\n",
      "    ``'x'``          x marker\n",
      "    ``'D'``          diamond marker\n",
      "    ``'d'``          thin_diamond marker\n",
      "    ``'|'``          vline marker\n",
      "    ``'_'``          hline marker\n",
      "    =============    ===============================\n",
      "    \n",
      "    **Line Styles**\n",
      "    \n",
      "    =============    ===============================\n",
      "    character        description\n",
      "    =============    ===============================\n",
      "    ``'-'``          solid line style\n",
      "    ``'--'``         dashed line style\n",
      "    ``'-.'``         dash-dot line style\n",
      "    ``':'``          dotted line style\n",
      "    =============    ===============================\n",
      "    \n",
      "    Example format strings::\n",
      "    \n",
      "        'b'    # blue markers with default shape\n",
      "        'or'   # red circles\n",
      "        '-g'   # green solid line\n",
      "        '--'   # dashed line with default color\n",
      "        '^k:'  # black triangle_up markers connected by a dotted line\n",
      "    \n",
      "    **Colors**\n",
      "    \n",
      "    The supported color abbreviations are the single letter codes\n",
      "    \n",
      "    =============    ===============================\n",
      "    character        color\n",
      "    =============    ===============================\n",
      "    ``'b'``          blue\n",
      "    ``'g'``          green\n",
      "    ``'r'``          red\n",
      "    ``'c'``          cyan\n",
      "    ``'m'``          magenta\n",
      "    ``'y'``          yellow\n",
      "    ``'k'``          black\n",
      "    ``'w'``          white\n",
      "    =============    ===============================\n",
      "    \n",
      "    and the ``'CN'`` colors that index into the default property cycle.\n",
      "    \n",
      "    If the color is the only part of the format string, you can\n",
      "    additionally use any  `matplotlib.colors` spec, e.g. full names\n",
      "    (``'green'``) or hex strings (``'#008000'``).\n",
      "\n"
     ]
    }
   ],
   "source": [
    "help(plt.plot)"
   ]
  },
  {
   "cell_type": "markdown",
   "metadata": {},
   "source": [
    "## 构建模型"
   ]
  },
  {
   "cell_type": "markdown",
   "metadata": {},
   "source": [
    "** 构建回归模型 **"
   ]
  },
  {
   "cell_type": "code",
   "execution_count": 12,
   "metadata": {},
   "outputs": [],
   "source": [
    "# 通过模型执行，将实现前向计算（预测计算）\n",
    "\n",
    "def model(x, w, b):\n",
    "    return tf.multiply(x, w) + b "
   ]
  },
  {
   "cell_type": "markdown",
   "metadata": {},
   "source": [
    "** 创建变量 **\n",
    "<br>\n",
    "- Tensorflow变量的声明函数是tf.Variable\n",
    "- tf.Variable的作用是保存和更新参数\n",
    "- 变量的初始值可以是随机数、常数，或是通过其他变量的初始值计算得到"
   ]
  },
  {
   "cell_type": "code",
   "execution_count": 13,
   "metadata": {},
   "outputs": [],
   "source": [
    "# 构建模型中的变量w，对应线性函数的斜率\n",
    "w = tf.Variable(np.random.randn(),tf.float32)\n",
    "\n",
    "# 构建模型中的变量b，对应线性函数的截距\n",
    "b = tf.Variable(0.0,tf.float32)   "
   ]
  },
  {
   "cell_type": "markdown",
   "metadata": {},
   "source": [
    "## 定义损失函数 \n",
    "\n",
    "- 损失函数用于描述预测值与真实值之间的误差，从而指导模型收敛方向\n",
    "- 常见损失函数：均方差（Mean Square Error, MSE）和交叉熵（cross-entropy）"
   ]
  },
  {
   "cell_type": "code",
   "execution_count": 14,
   "metadata": {},
   "outputs": [],
   "source": [
    "# 定义均方差损失函数\n",
    "\n",
    "def loss(x, y, w, b):\n",
    "    err = model(x, w, b) - y    #  计算模型预测值和标签值的差异\n",
    "    squared_err = tf.square(err)    #  求平方，得出方差\n",
    "    return tf.reduce_mean(squared_err)   # 求均值，得出均方差."
   ]
  },
  {
   "cell_type": "markdown",
   "metadata": {},
   "source": [
    "## 训练模型"
   ]
  },
  {
   "cell_type": "markdown",
   "metadata": {},
   "source": [
    "### 设置训练超参数 "
   ]
  },
  {
   "cell_type": "code",
   "execution_count": 15,
   "metadata": {},
   "outputs": [],
   "source": [
    "training_epochs = 100    # 迭代次数（训练轮数）\n",
    "learning_rate = 0.05    # 学习率"
   ]
  },
  {
   "cell_type": "markdown",
   "metadata": {},
   "source": [
    "** 关于学习率（learning_rate）的设置 **<br>\n",
    "- 学习率的作用：控制参数更新的幅度。\n",
    "- 如果学习率设置过大，可能导致参数在极值附近来回摇摆，无法保证收敛。\n",
    "- 如果学习率设置过小，虽然能保证收敛，但优化速度会大大降低，我们需要更多迭代次数才能达到较理想的优化效果。"
   ]
  },
  {
   "cell_type": "markdown",
   "metadata": {},
   "source": [
    "### 定义计算梯度函数"
   ]
  },
  {
   "cell_type": "code",
   "execution_count": 16,
   "metadata": {},
   "outputs": [],
   "source": [
    "# 计算样本数据[x,y]在参数[w,b]点上的梯度\n",
    "def grad(x, y, w, b):\n",
    "    with tf.GradientTape() as tape:\n",
    "        loss_ = loss(x, y, w, b)\n",
    "    return tape.gradient(loss_, [w, b])    # 返回梯度向量\n",
    "\n"
   ]
  },
  {
   "cell_type": "markdown",
   "metadata": {},
   "source": [
    "### 执行训练 （BGD）"
   ]
  },
  {
   "cell_type": "code",
   "execution_count": 17,
   "metadata": {},
   "outputs": [
    {
     "name": "stdout",
     "output_type": "stream",
     "text": [
      "Train Epoch: 01 loss=3.471442\n",
      "Train Epoch: 02 loss=3.119253\n",
      "Train Epoch: 03 loss=2.815383\n",
      "Train Epoch: 04 loss=2.551896\n",
      "Train Epoch: 05 loss=2.322278\n",
      "Train Epoch: 06 loss=2.121178\n",
      "Train Epoch: 07 loss=1.944187\n",
      "Train Epoch: 08 loss=1.787667\n",
      "Train Epoch: 09 loss=1.648608\n",
      "Train Epoch: 10 loss=1.524513\n",
      "Train Epoch: 11 loss=1.413306\n",
      "Train Epoch: 12 loss=1.313252\n",
      "Train Epoch: 13 loss=1.222899\n",
      "Train Epoch: 14 loss=1.141027\n",
      "Train Epoch: 15 loss=1.066604\n",
      "Train Epoch: 16 loss=0.998758\n",
      "Train Epoch: 17 loss=0.936744\n",
      "Train Epoch: 18 loss=0.879926\n",
      "Train Epoch: 19 loss=0.827758\n",
      "Train Epoch: 20 loss=0.779767\n",
      "Train Epoch: 21 loss=0.735542\n",
      "Train Epoch: 22 loss=0.694726\n",
      "Train Epoch: 23 loss=0.657005\n",
      "Train Epoch: 24 loss=0.622102\n",
      "Train Epoch: 25 loss=0.589773\n",
      "Train Epoch: 26 loss=0.559801\n",
      "Train Epoch: 27 loss=0.531990\n",
      "Train Epoch: 28 loss=0.506165\n",
      "Train Epoch: 29 loss=0.482171\n",
      "Train Epoch: 30 loss=0.459865\n",
      "Train Epoch: 31 loss=0.439118\n",
      "Train Epoch: 32 loss=0.419813\n",
      "Train Epoch: 33 loss=0.401843\n",
      "Train Epoch: 34 loss=0.385111\n",
      "Train Epoch: 35 loss=0.369526\n",
      "Train Epoch: 36 loss=0.355007\n",
      "Train Epoch: 37 loss=0.341478\n",
      "Train Epoch: 38 loss=0.328869\n",
      "Train Epoch: 39 loss=0.317116\n",
      "Train Epoch: 40 loss=0.306158\n",
      "Train Epoch: 41 loss=0.295942\n",
      "Train Epoch: 42 loss=0.286415\n",
      "Train Epoch: 43 loss=0.277530\n",
      "Train Epoch: 44 loss=0.269244\n",
      "Train Epoch: 45 loss=0.261515\n",
      "Train Epoch: 46 loss=0.254306\n",
      "Train Epoch: 47 loss=0.247581\n",
      "Train Epoch: 48 loss=0.241308\n",
      "Train Epoch: 49 loss=0.235456\n",
      "Train Epoch: 50 loss=0.229996\n",
      "Train Epoch: 51 loss=0.224902\n",
      "Train Epoch: 52 loss=0.220150\n",
      "Train Epoch: 53 loss=0.215716\n",
      "Train Epoch: 54 loss=0.211579\n",
      "Train Epoch: 55 loss=0.207719\n",
      "Train Epoch: 56 loss=0.204117\n",
      "Train Epoch: 57 loss=0.200757\n",
      "Train Epoch: 58 loss=0.197621\n",
      "Train Epoch: 59 loss=0.194695\n",
      "Train Epoch: 60 loss=0.191965\n",
      "Train Epoch: 61 loss=0.189418\n",
      "Train Epoch: 62 loss=0.187041\n",
      "Train Epoch: 63 loss=0.184823\n",
      "Train Epoch: 64 loss=0.182753\n",
      "Train Epoch: 65 loss=0.180822\n",
      "Train Epoch: 66 loss=0.179020\n",
      "Train Epoch: 67 loss=0.177339\n",
      "Train Epoch: 68 loss=0.175769\n",
      "Train Epoch: 69 loss=0.174305\n",
      "Train Epoch: 70 loss=0.172939\n",
      "Train Epoch: 71 loss=0.171664\n",
      "Train Epoch: 72 loss=0.170475\n",
      "Train Epoch: 73 loss=0.169364\n",
      "Train Epoch: 74 loss=0.168329\n",
      "Train Epoch: 75 loss=0.167362\n",
      "Train Epoch: 76 loss=0.166460\n",
      "Train Epoch: 77 loss=0.165618\n",
      "Train Epoch: 78 loss=0.164833\n",
      "Train Epoch: 79 loss=0.164100\n",
      "Train Epoch: 80 loss=0.163416\n",
      "Train Epoch: 81 loss=0.162778\n",
      "Train Epoch: 82 loss=0.162182\n",
      "Train Epoch: 83 loss=0.161627\n",
      "Train Epoch: 84 loss=0.161108\n",
      "Train Epoch: 85 loss=0.160624\n",
      "Train Epoch: 86 loss=0.160173\n",
      "Train Epoch: 87 loss=0.159752\n",
      "Train Epoch: 88 loss=0.159358\n",
      "Train Epoch: 89 loss=0.158992\n",
      "Train Epoch: 90 loss=0.158649\n",
      "Train Epoch: 91 loss=0.158330\n",
      "Train Epoch: 92 loss=0.158032\n",
      "Train Epoch: 93 loss=0.157753\n",
      "Train Epoch: 94 loss=0.157494\n",
      "Train Epoch: 95 loss=0.157252\n",
      "Train Epoch: 96 loss=0.157026\n",
      "Train Epoch: 97 loss=0.156815\n",
      "Train Epoch: 98 loss=0.156618\n",
      "Train Epoch: 99 loss=0.156434\n",
      "Train Epoch: 100 loss=0.156263\n"
     ]
    },
    {
     "data": {
      "image/png": "[encoded data removed]",
      "text/plain": [
       "<Figure size 432x288 with 1 Axes>"
      ]
     },
     "metadata": {
      "needs_background": "light"
     },
     "output_type": "display_data"
    }
   ],
   "source": [
    "loss_list = []   # 用于保存loss值的列表\n",
    "\n",
    "for epoch in range(training_epochs):\n",
    "    loss_ = loss(x_data, y_data, w, b)    # 计算损失，所有样本作为一个整体参与计算\n",
    "    loss_list.append(loss_)    # 保存本次损失计算结果\n",
    "        \n",
    "    delta_w, delta_b = grad(x_data, y_data, w, b) # 计算该当前[w,b]点的梯度\n",
    "    change_w = delta_w * learning_rate # 计算变量w需要调整的量\n",
    "    change_b = delta_b * learning_rate # 计算变量b需要调整的量\n",
    "    w.assign_sub(change_w) # 变量w值变更为减去chage_w后的值\n",
    "    b.assign_sub(change_b) # 变量b值变更为减去chage_b后的值\n",
    "               \n",
    "     \n",
    "    print(\"Training Epoch:\", '%02d' % (epoch+1), \"loss=%.6f\" % (loss_))\n",
    "    plt.plot (x_data, w.numpy() * x_data + b.numpy()  )    # 完成一轮训练后，画出回归的线条        "
   ]
  },
  {
   "cell_type": "markdown",
   "metadata": {},
   "source": [
    "从上图可以看出，由于本案例所拟合的模型较简单，训练5次之后已经接近收敛。<br> 对于复杂模型，需要更多次训练才能收敛。"
   ]
  },
  {
   "cell_type": "markdown",
   "metadata": {},
   "source": [
    "### 显示训练结果"
   ]
  },
  {
   "cell_type": "code",
   "execution_count": 18,
   "metadata": {},
   "outputs": [
    {
     "name": "stdout",
     "output_type": "stream",
     "text": [
      "w： 1.93728\n",
      "b： 1.0289631\n"
     ]
    }
   ],
   "source": [
    "print (\"w：\", w.numpy()) # w的值应该在2附近 \n",
    "print (\"b：\", b.numpy()) # b的值应该在1附近 "
   ]
  },
  {
   "cell_type": "markdown",
   "metadata": {},
   "source": [
    "### 结果可视化"
   ]
  },
  {
   "cell_type": "code",
   "execution_count": 19,
   "metadata": {},
   "outputs": [
    {
     "data": {
      "text/plain": [
       "<matplotlib.legend.Legend at 0x19b7af39948>"
      ]
     },
     "execution_count": 19,
     "metadata": {},
     "output_type": "execute_result"
    },
    {
     "data": {
      "image/png": "[encoded data removed]",
      "text/plain": [
       "<Figure size 432x288 with 1 Axes>"
      ]
     },
     "metadata": {
      "needs_background": "light"
     },
     "output_type": "display_data"
    }
   ],
   "source": [
    "plt.scatter(x_data,y_data,label='Original data')\n",
    "plt.plot (x_data, x_data * 2.0 + 1.0, label='Object line',color='g', linewidth=3)\n",
    "plt.plot (x_data, x_data * w.numpy() + b.numpy(),label='Fitted line',color='r', linewidth=3)\n",
    "plt.legend(loc=2)# 通过参数loc指定图例位置"
   ]
  },
  {
   "cell_type": "markdown",
   "metadata": {},
   "source": [
    "## 进行预测"
   ]
  },
  {
   "cell_type": "code",
   "execution_count": 20,
   "metadata": {},
   "outputs": [
    {
     "name": "stdout",
     "output_type": "stream",
     "text": [
      "预测值：7.247632\n",
      "目标值：7.420000\n"
     ]
    }
   ],
   "source": [
    "x_test = 3.21\n",
    "\n",
    "predict = model(x_test,w.numpy(),b.numpy())\n",
    "print(\"预测值：%f\" % predict)\n",
    "\n",
    "target = 2 * x_test + 1.0\n",
    "print(\"目标值：%f\" % target)"
   ]
  },
  {
   "cell_type": "markdown",
   "metadata": {},
   "source": [
    "### 查看损失变化情况"
   ]
  },
  {
   "cell_type": "code",
   "execution_count": 21,
   "metadata": {},
   "outputs": [
    {
     "data": {
      "text/plain": [
       "[<matplotlib.lines.Line2D at 0x19b7afb3c08>]"
      ]
     },
     "execution_count": 21,
     "metadata": {},
     "output_type": "execute_result"
    },
    {
     "data": {
      "image/png": "[encoded data removed]",
      "text/plain": [
       "<Figure size 432x288 with 1 Axes>"
      ]
     },
     "metadata": {
      "needs_background": "light"
     },
     "output_type": "display_data"
    }
   ],
   "source": [
    "plt.plot(loss_list)"
   ]
  },
  {
   "cell_type": "markdown",
   "metadata": {},
   "source": [
    "** 以上是利用Tensorflow训练一个线性模型并进行预测的完整过程。<br> 通过逐渐降低损失值loss来训练参数$w$和$b$拟合 $y = 2x + 1$中的系数2和1。 ** "
   ]
  },
  {
   "cell_type": "markdown",
   "metadata": {},
   "source": [
    "# 小结"
   ]
  },
  {
   "cell_type": "markdown",
   "metadata": {},
   "source": [
    "** 通过一个简单的例子介绍了利用Tensorflow实现机器学习的思路，重点讲解了下述步骤： ** <br>\n",
    "** - （1）生成人工数据集及其可视化 ** <br>\n",
    "** - （2）构建线性模型 **<br>\n",
    "** - （3）定义损失函数 **<br>\n",
    "** - （4）最小化损失函数 **<br>\n",
    "** - （5）训练结果的可视化 **<br>\n",
    "** - （6）利用学习到的模型进行预测 **\n",
    "\n"
   ]
  }
 ],
 "metadata": {
  "anaconda-cloud": {},
  "kernelspec": {
   "display_name": "Python 3",
   "language": "python",
   "name": "python3"
  },
  "language_info": {
   "codemirror_mode": {
    "name": "ipython",
    "version": 3
   },
   "file_extension": ".py",
   "mimetype": "text/x-python",
   "name": "python",
   "nbconvert_exporter": "python",
   "pygments_lexer": "ipython3",
   "version": "3.7.6"
  },
  "toc": {
   "base_numbering": 1,
   "nav_menu": {},
   "number_sections": true,
   "sideBar": true,
   "skip_h1_title": false,
   "title_cell": "目录",
   "title_sidebar": "Contents",
   "toc_cell": true,
   "toc_position": {},
   "toc_section_display": true,
   "toc_window_display": true
  }
 },
 "nbformat": 4,
 "nbformat_minor": 2
}
