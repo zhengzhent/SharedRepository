{
 "cells": [
  {
   "cell_type": "markdown",
   "metadata": {},
   "source": [
    "# 单变量线性回归\n",
    "\n",
    "吴明晖\n",
    "\n",
    "浙江大学城市学院\n",
    "\n",
    "2018.10"
   ]
  },
  {
   "cell_type": "markdown",
   "metadata": {
    "toc": true
   },
   "source": [
    "<h1>目录<span class=\"tocSkip\"></span></h1>\n",
    "<div class=\"toc\"><ul class=\"toc-item\"><li><span><a href=\"#使用Tensorflow进行算法设计与训练的核心步骤\" data-toc-modified-id=\"使用Tensorflow进行算法设计与训练的核心步骤-1\"><span class=\"toc-item-num\">1&nbsp;&nbsp;</span>使用Tensorflow进行算法设计与训练的核心步骤</a></span></li><li><span><a href=\"#Tensorflow实现单变量线性回归\" data-toc-modified-id=\"Tensorflow实现单变量线性回归-2\"><span class=\"toc-item-num\">2&nbsp;&nbsp;</span>Tensorflow实现单变量线性回归</a></span><ul class=\"toc-item\"><li><span><a href=\"#生成数据\" data-toc-modified-id=\"生成数据-2.1\"><span class=\"toc-item-num\">2.1&nbsp;&nbsp;</span>生成数据</a></span></li><li><span><a href=\"#构建模型\" data-toc-modified-id=\"构建模型-2.2\"><span class=\"toc-item-num\">2.2&nbsp;&nbsp;</span>构建模型</a></span></li><li><span><a href=\"#训练模型\" data-toc-modified-id=\"训练模型-2.3\"><span class=\"toc-item-num\">2.3&nbsp;&nbsp;</span>训练模型</a></span></li><li><span><a href=\"#进行预测\" data-toc-modified-id=\"进行预测-2.4\"><span class=\"toc-item-num\">2.4&nbsp;&nbsp;</span>进行预测</a></span></li></ul></li><li><span><a href=\"#小结\" data-toc-modified-id=\"小结-3\"><span class=\"toc-item-num\">3&nbsp;&nbsp;</span>小结</a></span></li></ul></div>"
   ]
  },
  {
   "cell_type": "markdown",
   "metadata": {},
   "source": [
    "# 使用Tensorflow进行算法设计与训练的核心步骤\n",
    "\n",
    "- ** （1）生成数据 **\n",
    "- ** （2）构建模型 **\n",
    "- ** （3）训练模型 **\n",
    "- ** （4）进行预测 **\n",
    "\n",
    "上述步骤是我们使用Tensorflow进行算法设计与训练的核心步骤，贯穿于后面介绍的具体实战中。<br> 本章用一个简单的例子来讲解这几个步骤。"
   ]
  },
  {
   "cell_type": "markdown",
   "metadata": {},
   "source": [
    "\n",
    "\n",
    "# 有监督机器学习过程示意图\n",
    "\n",
    "<img src=\"机器学习过程示意图.png\">"
   ]
  },
  {
   "cell_type": "markdown",
   "metadata": {},
   "source": [
    "# Tensorflow实现单变量线性回归"
   ]
  },
  {
   "cell_type": "markdown",
   "metadata": {},
   "source": [
    "假设我们要学习的函数为线性函数$ y=2x+1 $"
   ]
  },
  {
   "cell_type": "markdown",
   "metadata": {},
   "source": [
    "## 生成数据"
   ]
  },
  {
   "cell_type": "code",
   "execution_count": 1,
   "metadata": {},
   "outputs": [
    {
     "name": "stderr",
     "output_type": "stream",
     "text": [
      "C:\\Users\\mingh\\Anaconda3\\envs\\tf2\\lib\\site-packages\\tensorflow\\python\\framework\\dtypes.py:516: FutureWarning: Passing (type, 1) or '1type' as a synonym of type is deprecated; in a future version of numpy, it will be understood as (type, (1,)) / '(1,)type'.\n",
      "  _np_qint8 = np.dtype([(\"qint8\", np.int8, 1)])\n",
      "C:\\Users\\mingh\\Anaconda3\\envs\\tf2\\lib\\site-packages\\tensorflow\\python\\framework\\dtypes.py:517: FutureWarning: Passing (type, 1) or '1type' as a synonym of type is deprecated; in a future version of numpy, it will be understood as (type, (1,)) / '(1,)type'.\n",
      "  _np_quint8 = np.dtype([(\"quint8\", np.uint8, 1)])\n",
      "C:\\Users\\mingh\\Anaconda3\\envs\\tf2\\lib\\site-packages\\tensorflow\\python\\framework\\dtypes.py:518: FutureWarning: Passing (type, 1) or '1type' as a synonym of type is deprecated; in a future version of numpy, it will be understood as (type, (1,)) / '(1,)type'.\n",
      "  _np_qint16 = np.dtype([(\"qint16\", np.int16, 1)])\n",
      "C:\\Users\\mingh\\Anaconda3\\envs\\tf2\\lib\\site-packages\\tensorflow\\python\\framework\\dtypes.py:519: FutureWarning: Passing (type, 1) or '1type' as a synonym of type is deprecated; in a future version of numpy, it will be understood as (type, (1,)) / '(1,)type'.\n",
      "  _np_quint16 = np.dtype([(\"quint16\", np.uint16, 1)])\n",
      "C:\\Users\\mingh\\Anaconda3\\envs\\tf2\\lib\\site-packages\\tensorflow\\python\\framework\\dtypes.py:520: FutureWarning: Passing (type, 1) or '1type' as a synonym of type is deprecated; in a future version of numpy, it will be understood as (type, (1,)) / '(1,)type'.\n",
      "  _np_qint32 = np.dtype([(\"qint32\", np.int32, 1)])\n",
      "C:\\Users\\mingh\\Anaconda3\\envs\\tf2\\lib\\site-packages\\tensorflow\\python\\framework\\dtypes.py:525: FutureWarning: Passing (type, 1) or '1type' as a synonym of type is deprecated; in a future version of numpy, it will be understood as (type, (1,)) / '(1,)type'.\n",
      "  np_resource = np.dtype([(\"resource\", np.ubyte, 1)])\n",
      "C:\\Users\\mingh\\Anaconda3\\envs\\tf2\\lib\\site-packages\\tensorboard\\compat\\tensorflow_stub\\dtypes.py:541: FutureWarning: Passing (type, 1) or '1type' as a synonym of type is deprecated; in a future version of numpy, it will be understood as (type, (1,)) / '(1,)type'.\n",
      "  _np_qint8 = np.dtype([(\"qint8\", np.int8, 1)])\n",
      "C:\\Users\\mingh\\Anaconda3\\envs\\tf2\\lib\\site-packages\\tensorboard\\compat\\tensorflow_stub\\dtypes.py:542: FutureWarning: Passing (type, 1) or '1type' as a synonym of type is deprecated; in a future version of numpy, it will be understood as (type, (1,)) / '(1,)type'.\n",
      "  _np_quint8 = np.dtype([(\"quint8\", np.uint8, 1)])\n",
      "C:\\Users\\mingh\\Anaconda3\\envs\\tf2\\lib\\site-packages\\tensorboard\\compat\\tensorflow_stub\\dtypes.py:543: FutureWarning: Passing (type, 1) or '1type' as a synonym of type is deprecated; in a future version of numpy, it will be understood as (type, (1,)) / '(1,)type'.\n",
      "  _np_qint16 = np.dtype([(\"qint16\", np.int16, 1)])\n",
      "C:\\Users\\mingh\\Anaconda3\\envs\\tf2\\lib\\site-packages\\tensorboard\\compat\\tensorflow_stub\\dtypes.py:544: FutureWarning: Passing (type, 1) or '1type' as a synonym of type is deprecated; in a future version of numpy, it will be understood as (type, (1,)) / '(1,)type'.\n",
      "  _np_quint16 = np.dtype([(\"quint16\", np.uint16, 1)])\n",
      "C:\\Users\\mingh\\Anaconda3\\envs\\tf2\\lib\\site-packages\\tensorboard\\compat\\tensorflow_stub\\dtypes.py:545: FutureWarning: Passing (type, 1) or '1type' as a synonym of type is deprecated; in a future version of numpy, it will be understood as (type, (1,)) / '(1,)type'.\n",
      "  _np_qint32 = np.dtype([(\"qint32\", np.int32, 1)])\n",
      "C:\\Users\\mingh\\Anaconda3\\envs\\tf2\\lib\\site-packages\\tensorboard\\compat\\tensorflow_stub\\dtypes.py:550: FutureWarning: Passing (type, 1) or '1type' as a synonym of type is deprecated; in a future version of numpy, it will be understood as (type, (1,)) / '(1,)type'.\n",
      "  np_resource = np.dtype([(\"resource\", np.ubyte, 1)])\n"
     ]
    }
   ],
   "source": [
    "#在Jupyter中，使用matplotlib显示图像需要设置为 inline 模式，否则不会现实图像\n",
    "%matplotlib inline\n",
    "\n",
    "import matplotlib.pyplot as plt # 载入matplotlib\n",
    "import numpy as np # 载入numpy\n",
    "import tensorflow as tf # 载入Tensorflow\n",
    "\n",
    "np.random.seed(5)"
   ]
  },
  {
   "cell_type": "markdown",
   "metadata": {},
   "source": [
    "** 首先，生成输入数据。 ** <br> 我们需要构造满足这个函数的$x$和$y$同时加入一些不满足方程的噪声."
   ]
  },
  {
   "cell_type": "code",
   "execution_count": 2,
   "metadata": {
    "collapsed": true
   },
   "outputs": [],
   "source": [
    "#直接采用np生成等差数列的方法，生成100个点，每个点的取值在-1~1之间\n",
    "\n",
    "x_data = np.linspace(-1, 1, 100) \n",
    "\n",
    "# y = 2x +1 + 噪声， 其中，噪声的维度与x_data一致\n",
    "\n",
    "y_data = 2 * x_data + 1.0 + np.random.randn(*x_data.shape) * 0.4  "
   ]
  },
  {
   "cell_type": "code",
   "execution_count": 3,
   "metadata": {},
   "outputs": [
    {
     "data": {
      "text/plain": [
       "array([ 0.79242262,  0.17076445, -1.75374086,  0.63029648,  0.49832921,\n",
       "        1.01813761, -0.84646862,  2.52080763, -1.23238611,  0.72695326])"
      ]
     },
     "execution_count": 3,
     "metadata": {},
     "output_type": "execute_result"
    }
   ],
   "source": [
    "# numpy.random.randn(d0, d1, …, dn) 是从标准正态分布中返回一个或多个样本值\n",
    "# 标准正态分布又称为u分布，是以0为均值、以1为标准差的正态分布，记为N（0，1）\n",
    "\n",
    "np.random.randn(10)"
   ]
  },
  {
   "cell_type": "code",
   "execution_count": 4,
   "metadata": {},
   "outputs": [
    {
     "data": {
      "text/plain": [
       "(100,)"
      ]
     },
     "execution_count": 4,
     "metadata": {},
     "output_type": "execute_result"
    }
   ],
   "source": [
    "# x_data.shape值为一个元组\n",
    "\n",
    "x_data.shape"
   ]
  },
  {
   "cell_type": "code",
   "execution_count": 5,
   "metadata": {},
   "outputs": [
    {
     "data": {
      "text/plain": [
       "array([ 0.04595522, -0.48713265,  0.81613236, -0.28143012, -2.33562182,\n",
       "       -1.16727845,  0.45765807,  2.23796561, -1.4812592 , -0.01694532,\n",
       "        1.45073354,  0.60687032, -0.37562084, -1.42192455, -1.7811513 ,\n",
       "       -0.74790579, -0.36840953, -2.24911813, -1.69367504,  0.30364847,\n",
       "       -0.40899234, -0.75483059, -0.40751917, -0.81262476,  0.92751621,\n",
       "        1.63995407,  2.07361553,  0.70979786,  0.74715259,  1.46309548,\n",
       "        1.73844881,  1.46520488,  1.21228341, -0.6346525 , -1.5996985 ,\n",
       "        0.87715281, -0.09383245, -0.05567103, -0.88942073, -1.30095145,\n",
       "        1.40216662,  0.46510099, -1.06503262,  0.39042061,  0.30560017,\n",
       "        0.52184949,  2.23327081, -0.0347021 , -1.27962318,  0.03654264,\n",
       "       -0.64635659,  0.54856784,  0.21054246,  0.34650175, -0.56705117,\n",
       "        0.41367881, -0.51025606,  0.51725935, -0.30100513, -1.11840643,\n",
       "        0.49852362, -0.70609387,  1.4438811 ,  0.44295626,  0.46770521,\n",
       "        0.10134479, -0.05935198, -2.38669774,  1.22217056, -0.81391201,\n",
       "        0.95626186, -0.63851056, -0.14312642, -0.22418983, -1.03849524,\n",
       "       -0.17170905,  0.47634618, -0.41417827, -1.26408334, -0.57321556,\n",
       "        0.24981732,  1.14720208,  0.83594396,  0.28740365, -0.9955963 ,\n",
       "        0.90688947,  0.02421074, -0.23998173,  0.91011056,  0.61784475,\n",
       "        0.49961804, -1.15154425, -0.6105164 , -1.70388541,  0.19443738,\n",
       "        0.02824125,  0.93256051,  0.21204332, -0.36794457,  2.1114884 ])"
      ]
     },
     "execution_count": 5,
     "metadata": {},
     "output_type": "execute_result"
    }
   ],
   "source": [
    "# 实参的前面加上*和**时，就意味着拆包。单个*表示将元组拆成一个个单独的实参\n",
    "\n",
    "np.random.randn(*x_data.shape)"
   ]
  },
  {
   "cell_type": "code",
   "execution_count": 6,
   "metadata": {},
   "outputs": [
    {
     "data": {
      "text/plain": [
       "array([-1.02957349, -1.33628031, -0.61056736,  0.52469426, -0.34930813,\n",
       "       -0.44073846, -1.1212876 ,  1.47284473, -0.62337224, -1.08070195,\n",
       "       -0.12253009, -0.8077431 , -0.23255622,  1.33515034, -0.44645673,\n",
       "       -0.04978868, -0.36854478, -0.19173957,  0.81967992,  0.53163372,\n",
       "       -0.34161504, -0.93090048, -0.13421699,  0.83259361, -0.01735327,\n",
       "       -0.12765822, -1.80791662,  0.99396898, -1.49112886, -1.28210748,\n",
       "       -0.37570741,  0.03464388,  0.04507816, -0.76374689, -0.31313851,\n",
       "       -0.60698954, -1.80955123, -0.25551774, -0.69379935,  0.41919776,\n",
       "       -0.14520019,  0.9638013 ,  0.69622199,  0.89940546,  1.20837807,\n",
       "        0.6932537 , -0.16636061,  1.35311311, -0.92862651, -0.03547249,\n",
       "        0.85964595, -0.28749661,  0.71494995, -0.8034526 , -0.54048196,\n",
       "        0.54617743,  0.71188926,  1.19715449, -0.07006703,  0.29822712,\n",
       "        0.62619261,  0.46743206, -1.30262143, -0.57008965,  1.44295001,\n",
       "       -1.24399513,  0.62888033, -0.42559213,  1.00320956, -0.77817761,\n",
       "        0.04894463, -2.02640189, -0.04193635,  1.07454278, -1.5008594 ,\n",
       "        1.18574443, -0.71508124, -0.05123853, -2.77458336,  1.07862813,\n",
       "       -0.87568592, -0.53810932, -1.2782157 , -0.99276945,  1.14342789,\n",
       "       -0.5090726 ,  0.89500094, -0.17620337,  0.34608347, -0.50631013,\n",
       "        0.42716402,  2.58856959,  0.65289301,  0.50583979, -0.47595083,\n",
       "        1.01090874,  1.35920097, -1.70208997, -1.38033223,  2.10177668])"
      ]
     },
     "execution_count": 6,
     "metadata": {},
     "output_type": "execute_result"
    }
   ],
   "source": [
    "# 本例中，np.random.randn(*x_data.shape) 和 np.random.randn(100) 功能相同\n",
    "\n",
    "np.random.randn(100)"
   ]
  },
  {
   "cell_type": "code",
   "execution_count": 7,
   "metadata": {
    "collapsed": true
   },
   "outputs": [],
   "source": [
    "y_data = 2 * x_data + 1.0 + np.random.randn(100) * 0.4 "
   ]
  },
  {
   "cell_type": "markdown",
   "metadata": {},
   "source": [
    "### Jupyter使用小技巧\n",
    "可以使用Tab健进行代码补齐"
   ]
  },
  {
   "cell_type": "code",
   "execution_count": null,
   "metadata": {
    "collapsed": true
   },
   "outputs": [],
   "source": []
  },
  {
   "cell_type": "markdown",
   "metadata": {},
   "source": [
    "** 利用matplotlib画图 **"
   ]
  },
  {
   "cell_type": "code",
   "execution_count": 8,
   "metadata": {},
   "outputs": [
    {
     "data": {
      "text/plain": [
       "<matplotlib.collections.PathCollection at 0x286066ac6a0>"
      ]
     },
     "execution_count": 8,
     "metadata": {},
     "output_type": "execute_result"
    },
    {
     "data": {
      "image/png": "[encoded data removed]",
      "text/plain": [
       "<Figure size 432x288 with 1 Axes>"
      ]
     },
     "metadata": {},
     "output_type": "display_data"
    }
   ],
   "source": [
    "#画出随机生成数据的散点图\n",
    "\n",
    "plt.scatter(x_data, y_data) "
   ]
  },
  {
   "cell_type": "code",
   "execution_count": 9,
   "metadata": {},
   "outputs": [
    {
     "data": {
      "text/plain": [
       "[<matplotlib.lines.Line2D at 0x2860672f7b8>]"
      ]
     },
     "execution_count": 9,
     "metadata": {},
     "output_type": "execute_result"
    },
    {
     "data": {
      "image/png": "[encoded data removed]",
      "text/plain": [
       "<Figure size 432x288 with 1 Axes>"
      ]
     },
     "metadata": {},
     "output_type": "display_data"
    }
   ],
   "source": [
    "#画出随机生成数据的散点图\n",
    "plt.scatter(x_data, y_data) \n",
    "\n",
    "# 画出我们想要学习到的线性函数 y = 2x +1\n",
    "\n",
    "plt.plot (x_data, 2 * x_data + 1.0, color = 'red',linewidth=3) "
   ]
  },
  {
   "cell_type": "markdown",
   "metadata": {},
   "source": [
    "## 构建模型"
   ]
  },
  {
   "cell_type": "markdown",
   "metadata": {},
   "source": [
    "** 定义$x$和$y$的占位符 **"
   ]
  },
  {
   "cell_type": "code",
   "execution_count": 10,
   "metadata": {},
   "outputs": [
    {
     "ename": "AttributeError",
     "evalue": "module 'tensorflow' has no attribute 'placeholder'",
     "output_type": "error",
     "traceback": [
      "\u001b[1;31m---------------------------------------------------------------------------\u001b[0m",
      "\u001b[1;31mAttributeError\u001b[0m                            Traceback (most recent call last)",
      "\u001b[1;32m<ipython-input-10-cae505fe044d>\u001b[0m in \u001b[0;36m<module>\u001b[1;34m()\u001b[0m\n\u001b[0;32m      1\u001b[0m \u001b[1;31m# 定义训练数据的占位符，x是特征值，y是标签值\u001b[0m\u001b[1;33m\u001b[0m\u001b[1;33m\u001b[0m\u001b[0m\n\u001b[0;32m      2\u001b[0m \u001b[1;33m\u001b[0m\u001b[0m\n\u001b[1;32m----> 3\u001b[1;33m \u001b[0mx\u001b[0m \u001b[1;33m=\u001b[0m \u001b[0mtf\u001b[0m\u001b[1;33m.\u001b[0m\u001b[0mplaceholder\u001b[0m\u001b[1;33m(\u001b[0m\u001b[1;34m\"float\"\u001b[0m\u001b[1;33m,\u001b[0m \u001b[0mname\u001b[0m \u001b[1;33m=\u001b[0m \u001b[1;34m\"x\"\u001b[0m\u001b[1;33m)\u001b[0m\u001b[1;33m\u001b[0m\u001b[0m\n\u001b[0m\u001b[0;32m      4\u001b[0m \u001b[0my\u001b[0m \u001b[1;33m=\u001b[0m \u001b[0mtf\u001b[0m\u001b[1;33m.\u001b[0m\u001b[0mplaceholder\u001b[0m\u001b[1;33m(\u001b[0m\u001b[1;34m\"float\"\u001b[0m\u001b[1;33m,\u001b[0m \u001b[0mname\u001b[0m \u001b[1;33m=\u001b[0m \u001b[1;34m\"y\"\u001b[0m\u001b[1;33m)\u001b[0m\u001b[1;33m\u001b[0m\u001b[0m\n",
      "\u001b[1;31mAttributeError\u001b[0m: module 'tensorflow' has no attribute 'placeholder'"
     ]
    }
   ],
   "source": [
    "# 定义训练数据的占位符，x是特征值，y是标签值\n",
    "\n",
    "x = tf.placeholder(\"float\", name = \"x\") \n",
    "y = tf.placeholder(\"float\", name = \"y\")"
   ]
  },
  {
   "cell_type": "markdown",
   "metadata": {},
   "source": [
    "** 构建回归模型 **"
   ]
  },
  {
   "cell_type": "code",
   "execution_count": 11,
   "metadata": {
    "collapsed": true
   },
   "outputs": [],
   "source": [
    "def model(x, w, b):\n",
    "    return tf.multiply(x, w) + b "
   ]
  },
  {
   "cell_type": "markdown",
   "metadata": {},
   "source": [
    "** 创建变量 **\n",
    "<br>\n",
    "- Tensorflow变量的声明函数是tf.Variable\n",
    "- tf.Variable的作用是保存和更新参数\n",
    "- 变量的初始值可以是随机数、常数，或是通过其他变量的初始值计算得到"
   ]
  },
  {
   "cell_type": "code",
   "execution_count": 12,
   "metadata": {
    "collapsed": true
   },
   "outputs": [],
   "source": [
    "# 构建线性函数的斜率，变量w\n",
    "w = tf.Variable(1.0, name=\"w0\")\n",
    "\n",
    "# 构建线性函数的截距，变量b\n",
    "b = tf.Variable(0.0, name=\"b0\")   "
   ]
  },
  {
   "cell_type": "code",
   "execution_count": 13,
   "metadata": {},
   "outputs": [
    {
     "ename": "NameError",
     "evalue": "name 'x' is not defined",
     "output_type": "error",
     "traceback": [
      "\u001b[1;31m---------------------------------------------------------------------------\u001b[0m",
      "\u001b[1;31mNameError\u001b[0m                                 Traceback (most recent call last)",
      "\u001b[1;32m<ipython-input-13-2c8ab3104825>\u001b[0m in \u001b[0;36m<module>\u001b[1;34m()\u001b[0m\n\u001b[0;32m      1\u001b[0m \u001b[1;31m# pred是预测值，前向计算\u001b[0m\u001b[1;33m\u001b[0m\u001b[1;33m\u001b[0m\u001b[0m\n\u001b[1;32m----> 2\u001b[1;33m \u001b[0mpred\u001b[0m \u001b[1;33m=\u001b[0m \u001b[0mmodel\u001b[0m\u001b[1;33m(\u001b[0m\u001b[0mx\u001b[0m\u001b[1;33m,\u001b[0m \u001b[0mw\u001b[0m\u001b[1;33m,\u001b[0m \u001b[0mb\u001b[0m\u001b[1;33m)\u001b[0m\u001b[1;33m\u001b[0m\u001b[0m\n\u001b[0m",
      "\u001b[1;31mNameError\u001b[0m: name 'x' is not defined"
     ]
    }
   ],
   "source": [
    "# pred是预测值，前向计算\n",
    "pred = model(x, w, b) "
   ]
  },
  {
   "cell_type": "markdown",
   "metadata": {},
   "source": [
    "## 训练模型"
   ]
  },
  {
   "cell_type": "markdown",
   "metadata": {},
   "source": [
    "** 设置训练参数 **"
   ]
  },
  {
   "cell_type": "code",
   "execution_count": 14,
   "metadata": {
    "collapsed": true
   },
   "outputs": [],
   "source": [
    "# 迭代次数（训练轮数）\n",
    "train_epochs = 10\n",
    "\n",
    "# 学习率\n",
    "learning_rate = 0.05 \n",
    "\n",
    "# 控制显示loss值的粒度\n",
    "display_step = 10"
   ]
  },
  {
   "cell_type": "markdown",
   "metadata": {},
   "source": [
    "** 关于学习率（learning_rate）的设置 **<br>\n",
    "- 学习率的作用：控制参数更新的幅度。\n",
    "- 如果学习率设置过大，可能导致参数在极值附近来回摇摆，无法保证收敛。\n",
    "- 如果学习率设置过小，虽然能保证收敛，但优化速度会大大降低，我们需要更多迭代次数才能达到较理想的优化效果。"
   ]
  },
  {
   "cell_type": "markdown",
   "metadata": {},
   "source": [
    "** 定义损失函数 **\n",
    "<br>\n",
    "- 损失函数用于描述预测值与真实值之间的误差，从而指导模型收敛方向\n",
    "- 常见损失函数：均方差（Mean Square Error, MSE）和交叉熵（cross-entropy）"
   ]
  },
  {
   "cell_type": "code",
   "execution_count": 15,
   "metadata": {
    "collapsed": true
   },
   "outputs": [],
   "source": [
    "# 采用均方差作为损失函数\n",
    "\n",
    "loss_function = tf.reduce_mean(tf.square(y-pred))  "
   ]
  },
  {
   "cell_type": "markdown",
   "metadata": {},
   "source": [
    "** 选择优化器 **"
   ]
  },
  {
   "cell_type": "code",
   "execution_count": 16,
   "metadata": {
    "collapsed": true
   },
   "outputs": [],
   "source": [
    "# 梯度下降优化器\n",
    "\n",
    "optimizer = tf.train.GradientDescentOptimizer(learning_rate).minimize(loss_function)"
   ]
  },
  {
   "cell_type": "markdown",
   "metadata": {},
   "source": [
    "** 声明会话 **"
   ]
  },
  {
   "cell_type": "code",
   "execution_count": 17,
   "metadata": {
    "collapsed": true
   },
   "outputs": [],
   "source": [
    "sess = tf.Session()"
   ]
  },
  {
   "cell_type": "markdown",
   "metadata": {},
   "source": [
    "** 变量初始化 **\n",
    "- 在真正执行计算之前，需将所有变量初始化\n",
    "- 通过** tf.global_variables_initializer **函数可实现对所有变量的初始化"
   ]
  },
  {
   "cell_type": "code",
   "execution_count": 18,
   "metadata": {
    "collapsed": true
   },
   "outputs": [],
   "source": [
    "init = tf.global_variables_initializer()\n",
    "\n",
    "sess.run(init)"
   ]
  },
  {
   "cell_type": "markdown",
   "metadata": {},
   "source": [
    "** 执行训练 **"
   ]
  },
  {
   "cell_type": "code",
   "execution_count": 19,
   "metadata": {
    "scrolled": false
   },
   "outputs": [
    {
     "name": "stdout",
     "output_type": "stream",
     "text": [
      "Train Epoch: 01 Step: 010 loss= 0.053888980\n",
      "Train Epoch: 01 Step: 020 loss= 0.000218245\n",
      "Train Epoch: 01 Step: 030 loss= 0.019443041\n",
      "Train Epoch: 01 Step: 040 loss= 0.589532554\n",
      "Train Epoch: 01 Step: 050 loss= 0.000989183\n",
      "Train Epoch: 01 Step: 060 loss= 0.142488658\n",
      "Train Epoch: 01 Step: 070 loss= 0.046271212\n",
      "Train Epoch: 01 Step: 080 loss= 0.008660123\n",
      "Train Epoch: 01 Step: 090 loss= 0.241159379\n",
      "Train Epoch: 01 Step: 100 loss= 0.000514947\n",
      "Train Epoch: 02 Step: 110 loss= 0.317517459\n",
      "Train Epoch: 02 Step: 120 loss= 0.032397330\n",
      "Train Epoch: 02 Step: 130 loss= 0.093368128\n",
      "Train Epoch: 02 Step: 140 loss= 0.332103789\n",
      "Train Epoch: 02 Step: 150 loss= 0.060521714\n",
      "Train Epoch: 02 Step: 160 loss= 0.024084859\n",
      "Train Epoch: 02 Step: 170 loss= 0.178793266\n",
      "Train Epoch: 02 Step: 180 loss= 0.006461896\n",
      "Train Epoch: 02 Step: 190 loss= 0.129687995\n",
      "Train Epoch: 02 Step: 200 loss= 0.013333416\n",
      "Train Epoch: 03 Step: 210 loss= 0.129900724\n",
      "Train Epoch: 03 Step: 220 loss= 0.023582600\n",
      "Train Epoch: 03 Step: 230 loss= 0.096030191\n",
      "Train Epoch: 03 Step: 240 loss= 0.317024857\n",
      "Train Epoch: 03 Step: 250 loss= 0.069221057\n",
      "Train Epoch: 03 Step: 260 loss= 0.018716505\n",
      "Train Epoch: 03 Step: 270 loss= 0.193809599\n",
      "Train Epoch: 03 Step: 280 loss= 0.009021518\n",
      "Train Epoch: 03 Step: 290 loss= 0.121858403\n",
      "Train Epoch: 03 Step: 300 loss= 0.015201909\n",
      "Train Epoch: 04 Step: 310 loss= 0.117845014\n",
      "Train Epoch: 04 Step: 320 loss= 0.022902815\n",
      "Train Epoch: 04 Step: 330 loss= 0.096256405\n",
      "Train Epoch: 04 Step: 340 loss= 0.315768689\n",
      "Train Epoch: 04 Step: 350 loss= 0.069981642\n",
      "Train Epoch: 04 Step: 360 loss= 0.018294554\n",
      "Train Epoch: 04 Step: 370 loss= 0.195104137\n",
      "Train Epoch: 04 Step: 380 loss= 0.009256961\n",
      "Train Epoch: 04 Step: 390 loss= 0.121209100\n",
      "Train Epoch: 04 Step: 400 loss= 0.015365199\n",
      "Train Epoch: 05 Step: 410 loss= 0.116854727\n",
      "Train Epoch: 05 Step: 420 loss= 0.022845931\n",
      "Train Epoch: 05 Step: 430 loss= 0.096275523\n",
      "Train Epoch: 05 Step: 440 loss= 0.315662980\n",
      "Train Epoch: 05 Step: 450 loss= 0.070045985\n",
      "Train Epoch: 05 Step: 460 loss= 0.018259227\n",
      "Train Epoch: 05 Step: 470 loss= 0.195213363\n",
      "Train Epoch: 05 Step: 480 loss= 0.009276883\n",
      "Train Epoch: 05 Step: 490 loss= 0.121154651\n",
      "Train Epoch: 05 Step: 500 loss= 0.015378974\n",
      "Train Epoch: 06 Step: 510 loss= 0.116771445\n",
      "Train Epoch: 06 Step: 520 loss= 0.022841139\n",
      "Train Epoch: 06 Step: 530 loss= 0.096277155\n",
      "Train Epoch: 06 Step: 540 loss= 0.315654010\n",
      "Train Epoch: 06 Step: 550 loss= 0.070051350\n",
      "Train Epoch: 06 Step: 560 loss= 0.018256264\n",
      "Train Epoch: 06 Step: 570 loss= 0.195222735\n",
      "Train Epoch: 06 Step: 580 loss= 0.009278628\n",
      "Train Epoch: 06 Step: 590 loss= 0.121149838\n",
      "Train Epoch: 06 Step: 600 loss= 0.015380217\n",
      "Train Epoch: 07 Step: 610 loss= 0.116764441\n",
      "Train Epoch: 07 Step: 620 loss= 0.022840742\n",
      "Train Epoch: 07 Step: 630 loss= 0.096277267\n",
      "Train Epoch: 07 Step: 640 loss= 0.315653324\n",
      "Train Epoch: 07 Step: 650 loss= 0.070051797\n",
      "Train Epoch: 07 Step: 660 loss= 0.018256038\n",
      "Train Epoch: 07 Step: 670 loss= 0.195223376\n",
      "Train Epoch: 07 Step: 680 loss= 0.009278720\n",
      "Train Epoch: 07 Step: 690 loss= 0.121149674\n",
      "Train Epoch: 07 Step: 700 loss= 0.015380275\n",
      "Train Epoch: 08 Step: 710 loss= 0.116763875\n",
      "Train Epoch: 08 Step: 720 loss= 0.022840688\n",
      "Train Epoch: 08 Step: 730 loss= 0.096277334\n",
      "Train Epoch: 08 Step: 740 loss= 0.315653145\n",
      "Train Epoch: 08 Step: 750 loss= 0.070051856\n",
      "Train Epoch: 08 Step: 760 loss= 0.018255942\n",
      "Train Epoch: 08 Step: 770 loss= 0.195223376\n",
      "Train Epoch: 08 Step: 780 loss= 0.009278720\n",
      "Train Epoch: 08 Step: 790 loss= 0.121149503\n",
      "Train Epoch: 08 Step: 800 loss= 0.015380275\n",
      "Train Epoch: 09 Step: 810 loss= 0.116763793\n",
      "Train Epoch: 09 Step: 820 loss= 0.022840688\n",
      "Train Epoch: 09 Step: 830 loss= 0.096277334\n",
      "Train Epoch: 09 Step: 840 loss= 0.315653145\n",
      "Train Epoch: 09 Step: 850 loss= 0.070051923\n",
      "Train Epoch: 09 Step: 860 loss= 0.018255910\n",
      "Train Epoch: 09 Step: 870 loss= 0.195223585\n",
      "Train Epoch: 09 Step: 880 loss= 0.009278766\n",
      "Train Epoch: 09 Step: 890 loss= 0.121149339\n",
      "Train Epoch: 09 Step: 900 loss= 0.015380275\n",
      "Train Epoch: 10 Step: 910 loss= 0.116763711\n",
      "Train Epoch: 10 Step: 920 loss= 0.022840671\n",
      "Train Epoch: 10 Step: 930 loss= 0.096277304\n",
      "Train Epoch: 10 Step: 940 loss= 0.315653145\n",
      "Train Epoch: 10 Step: 950 loss= 0.070051856\n",
      "Train Epoch: 10 Step: 960 loss= 0.018255973\n",
      "Train Epoch: 10 Step: 970 loss= 0.195223376\n",
      "Train Epoch: 10 Step: 980 loss= 0.009278720\n",
      "Train Epoch: 10 Step: 990 loss= 0.121149503\n",
      "Train Epoch: 10 Step: 1000 loss= 0.015380275\n"
     ]
    },
    {
     "data": {
      "image/png": "[encoded data removed]",
      "text/plain": [
       "<Figure size 432x288 with 1 Axes>"
      ]
     },
     "metadata": {},
     "output_type": "display_data"
    }
   ],
   "source": [
    "# 开始训练，轮数为 epoch，采用SGD随机梯度下降优化方法\n",
    "step = 0   # 记录训练步数\n",
    "loss_list = []   # 用于保存loss值的列表\n",
    "\n",
    "for epoch in range(train_epochs):\n",
    "    for xs,ys in zip(x_data, y_data):\n",
    "        _, loss=sess.run([optimizer,loss_function], feed_dict={x: xs, y: ys}) \n",
    "        \n",
    "        # 显示损失值 loss\n",
    "        # display_step：控制报告的粒度\n",
    "        # 例如，如果 display_step 设为 2 ，则将每训练2个样本输出一次损失值\n",
    "        # 与超参数不同，修改 display_step 不会更改模型所学习的规律\n",
    "        loss_list.append(loss)\n",
    "        step=step+1\n",
    "        if step % display_step == 0:\n",
    "            print(\"Train Epoch:\", '%02d' % (epoch+1), \"Step: %03d\" % (step),\"loss=\", \\\n",
    "                  \"{:.9f}\".format(loss))\n",
    "        \n",
    "    b0temp=b.eval(session=sess)\n",
    "    w0temp=w.eval(session=sess)\n",
    "    plt.plot (x_data, w0temp * x_data + b0temp  )# 画图\n"
   ]
  },
  {
   "cell_type": "markdown",
   "metadata": {},
   "source": [
    "从上图可以看出，由于本案例所拟合的模型较简单，训练3次之后已经接近收敛。<br> 对于复杂模型，需要更多次训练才能收敛。"
   ]
  },
  {
   "cell_type": "code",
   "execution_count": 20,
   "metadata": {},
   "outputs": [
    {
     "data": {
      "text/plain": [
       "[<matplotlib.lines.Line2D at 0x27c591e4c18>]"
      ]
     },
     "execution_count": 20,
     "metadata": {},
     "output_type": "execute_result"
    },
    {
     "data": {
      "image/png": "[encoded data removed]",
      "text/plain": [
       "<Figure size 432x288 with 1 Axes>"
      ]
     },
     "metadata": {},
     "output_type": "display_data"
    }
   ],
   "source": [
    "plt.plot(loss_list)"
   ]
  },
  {
   "cell_type": "code",
   "execution_count": 21,
   "metadata": {},
   "outputs": [
    {
     "data": {
      "text/plain": [
       "[<matplotlib.lines.Line2D at 0x27c5923bcf8>]"
      ]
     },
     "execution_count": 21,
     "metadata": {},
     "output_type": "execute_result"
    },
    {
     "data": {
      "image/png": "[encoded data removed]",
      "text/plain": [
       "<Figure size 432x288 with 1 Axes>"
      ]
     },
     "metadata": {},
     "output_type": "display_data"
    }
   ],
   "source": [
    "plt.plot(loss_list,'g2')"
   ]
  },
  {
   "cell_type": "code",
   "execution_count": null,
   "metadata": {
    "collapsed": true
   },
   "outputs": [],
   "source": [
    "[x for x in loss_list if x>1]"
   ]
  },
  {
   "cell_type": "markdown",
   "metadata": {},
   "source": [
    "** 打印结果 **"
   ]
  },
  {
   "cell_type": "code",
   "execution_count": 22,
   "metadata": {},
   "outputs": [
    {
     "name": "stdout",
     "output_type": "stream",
     "text": [
      "w： 1.9070293\n",
      "b： 1.0205086\n"
     ]
    }
   ],
   "source": [
    "print (\"w：\", sess.run(w)) # w的值应该在2附近 \n",
    "print (\"b：\", sess.run(b)) # b的值应该在1附近 "
   ]
  },
  {
   "cell_type": "markdown",
   "metadata": {},
   "source": [
    "** 可视化 **"
   ]
  },
  {
   "cell_type": "code",
   "execution_count": 23,
   "metadata": {},
   "outputs": [
    {
     "data": {
      "text/plain": [
       "<matplotlib.legend.Legend at 0x27c5929ac88>"
      ]
     },
     "execution_count": 23,
     "metadata": {},
     "output_type": "execute_result"
    },
    {
     "data": {
      "image/png": "[encoded data removed]",
      "text/plain": [
       "<Figure size 432x288 with 1 Axes>"
      ]
     },
     "metadata": {},
     "output_type": "display_data"
    }
   ],
   "source": [
    "plt.scatter(x_data,y_data,label='Original data')\n",
    "plt.plot (x_data, x_data * sess.run(w) + sess.run(b),\\\n",
    "          label='Fitted line',color='r', linewidth=3)\n",
    "plt.legend(loc=2)# 通过参数loc指定图例位置"
   ]
  },
  {
   "cell_type": "markdown",
   "metadata": {},
   "source": [
    "## 进行预测"
   ]
  },
  {
   "cell_type": "code",
   "execution_count": null,
   "metadata": {
    "collapsed": true
   },
   "outputs": [],
   "source": [
    "x_test = 3.21\n",
    "\n",
    "predict = sess.run(pred, feed_dict={x: x_test})\n",
    "print(\"预测值：%f\" % predict)\n",
    "\n",
    "target = 2 * x_test + 1.0\n",
    "print(\"目标值：%f\" % target)"
   ]
  },
  {
   "cell_type": "code",
   "execution_count": null,
   "metadata": {
    "collapsed": true
   },
   "outputs": [],
   "source": [
    "x_test = 3.21\n",
    "predict = sess.run(w) * x_test + sess.run(b)\n",
    "print(\"预测值：%f\" % predict)"
   ]
  },
  {
   "cell_type": "markdown",
   "metadata": {},
   "source": [
    "** 以上是利用Tensorflow训练一个线性模型并进行预测的完整过程。<br> 通过逐渐降低损失值loss来训练参数$w$和$b$拟合 $y = 2x + 1$中的系数2和1。 ** "
   ]
  },
  {
   "cell_type": "markdown",
   "metadata": {},
   "source": [
    "# 小结"
   ]
  },
  {
   "cell_type": "markdown",
   "metadata": {},
   "source": [
    "** 通过一个简单的例子介绍了利用Tensorflow实现机器学习的思路，重点讲解了下述步骤： ** <br>\n",
    "** - （1）生成人工数据集及其可视化 ** <br>\n",
    "** - （2）构建线性模型 **<br>\n",
    "** - （3）定义损失函数 **<br>\n",
    "** - （4）最小化损失函数 **<br>\n",
    "** - （5）训练结果的可视化 **<br>\n",
    "** - （6）利用学习到的模型进行预测 **\n",
    "\n"
   ]
  }
 ],
 "metadata": {
  "anaconda-cloud": {},
  "kernelspec": {
   "display_name": "Python 3",
   "language": "python",
   "name": "python3"
  },
  "language_info": {
   "codemirror_mode": {
    "name": "ipython",
    "version": 3
   },
   "file_extension": ".py",
   "mimetype": "text/x-python",
   "name": "python",
   "nbconvert_exporter": "python",
   "pygments_lexer": "ipython3",
   "version": "3.6.5"
  },
  "toc": {
   "base_numbering": 1,
   "nav_menu": {},
   "number_sections": true,
   "sideBar": true,
   "skip_h1_title": false,
   "title_cell": "目录",
   "title_sidebar": "Contents",
   "toc_cell": true,
   "toc_position": {},
   "toc_section_display": true,
   "toc_window_display": true
  }
 },
 "nbformat": 4,
 "nbformat_minor": 2
}
