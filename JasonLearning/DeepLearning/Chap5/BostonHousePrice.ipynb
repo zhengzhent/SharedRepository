{
 "cells": [
  {
   "cell_type": "code",
   "execution_count": 1,
   "metadata": {},
   "outputs": [
    {
     "name": "stdout",
     "output_type": "stream",
     "text": [
      "Current Tensorflow Vision is 2.0.0-beta1\n"
     ]
    }
   ],
   "source": [
    "import tensorflow as tf\n",
    "import matplotlib.pyplot as plt\n",
    "import numpy as np\n",
    "import pandas as pd\n",
    "print(\"Current Tensorflow Vision is\",tf.__version__)\n",
    "%matplotlib inline"
   ]
  },
  {
   "cell_type": "markdown",
   "metadata": {},
   "source": [
    "### 1.1 通过Pandas导入数据 "
   ]
  },
  {
   "cell_type": "code",
   "execution_count": 2,
   "metadata": {},
   "outputs": [
    {
     "name": "stdout",
     "output_type": "stream",
     "text": [
      "             CRIM         ZN       INDUS         CHAS         NOX          RM  \\\n",
      "count  506.000000  506.000000  506.000000  506.000000  506.000000  506.000000   \n",
      "mean     3.613524   11.363636   11.136779    0.069170    0.554695    6.284634   \n",
      "std      8.601545   23.322453    6.860353    0.253994    0.115878    0.702617   \n",
      "min      0.006320    0.000000    0.460000    0.000000    0.385000    3.561000   \n",
      "25%      0.082045    0.000000    5.190000    0.000000    0.449000    5.885500   \n",
      "50%      0.256510    0.000000    9.690000    0.000000    0.538000    6.208500   \n",
      "75%      3.677082   12.500000   18.100000    0.000000    0.624000    6.623500   \n",
      "max     88.976200  100.000000   27.740000    1.000000    0.871000    8.780000   \n",
      "\n",
      "              AGE         DIS         RAD         TAX     PTRATIO       LSTAT  \\\n",
      "count  506.000000  506.000000  506.000000  506.000000  506.000000  506.000000   \n",
      "mean    68.574901    3.795043    9.549407  408.237154   18.455534   12.653063   \n",
      "std     28.148861    2.105710    8.707259  168.537116    2.164946    7.141062   \n",
      "min      2.900000    1.129600    1.000000  187.000000   12.600000    1.730000   \n",
      "25%     45.025000    2.100175    4.000000  279.000000   17.400000    6.950000   \n",
      "50%     77.500000    3.207450    5.000000  330.000000   19.050000   11.360000   \n",
      "75%     94.075000    5.188425   24.000000  666.000000   20.200000   16.955000   \n",
      "max    100.000000   12.126500   24.000000  711.000000   22.000000   37.970000   \n",
      "\n",
      "             MEDV  \n",
      "count  506.000000  \n",
      "mean    22.532806  \n",
      "std      9.197104  \n",
      "min      5.000000  \n",
      "25%     17.025000  \n",
      "50%     21.200000  \n",
      "75%     25.000000  \n",
      "max     50.000000  \n"
     ]
    }
   ],
   "source": [
    "df = pd.read_csv(\"data/boston.csv\", header=0)\n",
    "print (df.describe())"
   ]
  },
  {
   "cell_type": "code",
   "execution_count": 3,
   "metadata": {},
   "outputs": [
    {
     "name": "stdout",
     "output_type": "stream",
     "text": [
      "(506, 13)\n",
      "[[6.3200e-03 1.8000e+01 2.3100e+00 ... 1.5300e+01 4.9800e+00 2.4000e+01]\n",
      " [2.7310e-02 0.0000e+00 7.0700e+00 ... 1.7800e+01 9.1400e+00 2.1600e+01]\n",
      " [2.7290e-02 0.0000e+00 7.0700e+00 ... 1.7800e+01 4.0300e+00 3.4700e+01]\n",
      " ...\n",
      " [6.0760e-02 0.0000e+00 1.1930e+01 ... 2.1000e+01 5.6400e+00 2.3900e+01]\n",
      " [1.0959e-01 0.0000e+00 1.1930e+01 ... 2.1000e+01 6.4800e+00 2.2000e+01]\n",
      " [4.7410e-02 0.0000e+00 1.1930e+01 ... 2.1000e+01 7.8800e+00 1.1900e+01]]\n"
     ]
    }
   ],
   "source": [
    "# 获取df的值\n",
    "\n",
    "df = df.values\n",
    "print(df.shape)\n",
    "print(df)"
   ]
  },
  {
   "cell_type": "code",
   "execution_count": 4,
   "metadata": {},
   "outputs": [
    {
     "name": "stdout",
     "output_type": "stream",
     "text": [
      "[[6.3200e-03 1.8000e+01 2.3100e+00 ... 1.5300e+01 4.9800e+00 2.4000e+01]\n",
      " [2.7310e-02 0.0000e+00 7.0700e+00 ... 1.7800e+01 9.1400e+00 2.1600e+01]\n",
      " [2.7290e-02 0.0000e+00 7.0700e+00 ... 1.7800e+01 4.0300e+00 3.4700e+01]\n",
      " ...\n",
      " [6.0760e-02 0.0000e+00 1.1930e+01 ... 2.1000e+01 5.6400e+00 2.3900e+01]\n",
      " [1.0959e-01 0.0000e+00 1.1930e+01 ... 2.1000e+01 6.4800e+00 2.2000e+01]\n",
      " [4.7410e-02 0.0000e+00 1.1930e+01 ... 2.1000e+01 7.8800e+00 1.1900e+01]]\n"
     ]
    }
   ],
   "source": [
    "# 把 df 转换为 np 的数组格式\n",
    "\n",
    "df = np.array(df)\n",
    "\n",
    "print(df)"
   ]
  },
  {
   "cell_type": "markdown",
   "metadata": {},
   "source": [
    "### 1.2 特征数据归一化"
   ]
  },
  {
   "cell_type": "code",
   "execution_count": 5,
   "metadata": {},
   "outputs": [],
   "source": [
    "# 对特征数据 【0到11】列 做（0-1）归一化\n",
    "\n",
    "for i in range(12):\n",
    "    df[:,i]=(df[:,i]-df[:,i].min())/(df[:,i].max()-df[:,i].min())"
   ]
  },
  {
   "cell_type": "markdown",
   "metadata": {},
   "source": [
    "### 1.3 载入本示例所需数据"
   ]
  },
  {
   "cell_type": "code",
   "execution_count": 6,
   "metadata": {},
   "outputs": [],
   "source": [
    "# x_data 为 归一化后的前12列特征数据\n",
    "\n",
    "x_data = df[:,:12] \n",
    "\n",
    "# y_data 为最后1列标签数据\n",
    "\n",
    "y_data = df[:,12]"
   ]
  },
  {
   "cell_type": "code",
   "execution_count": 7,
   "metadata": {},
   "outputs": [
    {
     "name": "stdout",
     "output_type": "stream",
     "text": [
      "[[0.00000000e+00 1.80000000e-01 6.78152493e-02 ... 2.08015267e-01\n",
      "  2.87234043e-01 8.96799117e-02]\n",
      " [2.35922539e-04 0.00000000e+00 2.42302053e-01 ... 1.04961832e-01\n",
      "  5.53191489e-01 2.04470199e-01]\n",
      " [2.35697744e-04 0.00000000e+00 2.42302053e-01 ... 1.04961832e-01\n",
      "  5.53191489e-01 6.34657837e-02]\n",
      " ...\n",
      " [6.11892474e-04 0.00000000e+00 4.20454545e-01 ... 1.64122137e-01\n",
      "  8.93617021e-01 1.07891832e-01]\n",
      " [1.16072990e-03 0.00000000e+00 4.20454545e-01 ... 1.64122137e-01\n",
      "  8.93617021e-01 1.31070640e-01]\n",
      " [4.61841693e-04 0.00000000e+00 4.20454545e-01 ... 1.64122137e-01\n",
      "  8.93617021e-01 1.69701987e-01]] \n",
      " shape= (506, 12)\n"
     ]
    }
   ],
   "source": [
    "print(x_data,'\\n shape=', x_data.shape)"
   ]
  },
  {
   "cell_type": "code",
   "execution_count": 8,
   "metadata": {},
   "outputs": [
    {
     "name": "stdout",
     "output_type": "stream",
     "text": [
      "[24.  21.6 34.7 33.4 36.2 28.7 22.9 27.1 16.5 18.9 15.  18.9 21.7 20.4\n",
      " 18.2 19.9 23.1 17.5 20.2 18.2 13.6 19.6 15.2 14.5 15.6 13.9 16.6 14.8\n",
      " 18.4 21.  12.7 14.5 13.2 13.1 13.5 18.9 20.  21.  24.7 30.8 34.9 26.6\n",
      " 25.3 24.7 21.2 19.3 20.  16.6 14.4 19.4 19.7 20.5 25.  23.4 18.9 35.4\n",
      " 24.7 31.6 23.3 19.6 18.7 16.  22.2 25.  33.  23.5 19.4 22.  17.4 20.9\n",
      " 24.2 21.7 22.8 23.4 24.1 21.4 20.  20.8 21.2 20.3 28.  23.9 24.8 22.9\n",
      " 23.9 26.6 22.5 22.2 23.6 28.7 22.6 22.  22.9 25.  20.6 28.4 21.4 38.7\n",
      " 43.8 33.2 27.5 26.5 18.6 19.3 20.1 19.5 19.5 20.4 19.8 19.4 21.7 22.8\n",
      " 18.8 18.7 18.5 18.3 21.2 19.2 20.4 19.3 22.  20.3 20.5 17.3 18.8 21.4\n",
      " 15.7 16.2 18.  14.3 19.2 19.6 23.  18.4 15.6 18.1 17.4 17.1 13.3 17.8\n",
      " 14.  14.4 13.4 15.6 11.8 13.8 15.6 14.6 17.8 15.4 21.5 19.6 15.3 19.4\n",
      " 17.  15.6 13.1 41.3 24.3 23.3 27.  50.  50.  50.  22.7 25.  50.  23.8\n",
      " 23.8 22.3 17.4 19.1 23.1 23.6 22.6 29.4 23.2 24.6 29.9 37.2 39.8 36.2\n",
      " 37.9 32.5 26.4 29.6 50.  32.  29.8 34.9 37.  30.5 36.4 31.1 29.1 50.\n",
      " 33.3 30.3 34.6 34.9 32.9 24.1 42.3 48.5 50.  22.6 24.4 22.5 24.4 20.\n",
      " 21.7 19.3 22.4 28.1 23.7 25.  23.3 28.7 21.5 23.  26.7 21.7 27.5 30.1\n",
      " 44.8 50.  37.6 31.6 46.7 31.5 24.3 31.7 41.7 48.3 29.  24.  25.1 31.5\n",
      " 23.7 23.3 22.  20.1 22.2 23.7 17.6 18.5 24.3 20.5 24.5 26.2 24.4 24.8\n",
      " 29.6 42.8 21.9 20.9 44.  50.  36.  30.1 33.8 43.1 48.8 31.  36.5 22.8\n",
      " 30.7 50.  43.5 20.7 21.1 25.2 24.4 35.2 32.4 32.  33.2 33.1 29.1 35.1\n",
      " 45.4 35.4 46.  50.  32.2 22.  20.1 23.2 22.3 24.8 28.5 37.3 27.9 23.9\n",
      " 21.7 28.6 27.1 20.3 22.5 29.  24.8 22.  26.4 33.1 36.1 28.4 33.4 28.2\n",
      " 22.8 20.3 16.1 22.1 19.4 21.6 23.8 16.2 17.8 19.8 23.1 21.  23.8 23.1\n",
      " 20.4 18.5 25.  24.6 23.  22.2 19.3 22.6 19.8 17.1 19.4 22.2 20.7 21.1\n",
      " 19.5 18.5 20.6 19.  18.7 32.7 16.5 23.9 31.2 17.5 17.2 23.1 24.5 26.6\n",
      " 22.9 24.1 18.6 30.1 18.2 20.6 17.8 21.7 22.7 22.6 25.  19.9 20.8 16.8\n",
      " 21.9 27.5 21.9 23.1 50.  50.  50.  50.  50.  13.8 13.8 15.  13.9 13.3\n",
      " 13.1 10.2 10.4 10.9 11.3 12.3  8.8  7.2 10.5  7.4 10.2 11.5 15.1 23.2\n",
      "  9.7 13.8 12.7 13.1 12.5  8.5  5.   6.3  5.6  7.2 12.1  8.3  8.5  5.\n",
      " 11.9 27.9 17.2 27.5 15.  17.2 17.9 16.3  7.   7.2  7.5 10.4  8.8  8.4\n",
      " 16.7 14.2 20.8 13.4 11.7  8.3 10.2 10.9 11.   9.5 14.5 14.1 16.1 14.3\n",
      " 11.7 13.4  9.6  8.7  8.4 12.8 10.5 17.1 18.4 15.4 10.8 11.8 14.9 12.6\n",
      " 14.1 13.  13.4 15.2 16.1 17.8 14.9 14.1 12.7 13.5 14.9 20.  16.4 17.7\n",
      " 19.5 20.2 21.4 19.9 19.  19.1 19.1 20.1 19.9 19.6 23.2 29.8 13.8 13.3\n",
      " 16.7 12.  14.6 21.4 23.  23.7 25.  21.8 20.6 21.2 19.1 20.6 15.2  7.\n",
      "  8.1 13.6 20.1 21.8 24.5 23.1 19.7 18.3 21.2 17.5 16.8 22.4 20.6 23.9\n",
      " 22.  11.9] \n",
      " shape= (506,)\n"
     ]
    }
   ],
   "source": [
    "print(y_data,'\\n shape=',y_data.shape)"
   ]
  },
  {
   "cell_type": "markdown",
   "metadata": {},
   "source": [
    "### 1.4 划分数据集"
   ]
  },
  {
   "cell_type": "code",
   "execution_count": 9,
   "metadata": {},
   "outputs": [],
   "source": [
    "n_train = 300        #训练集的数目\n",
    "n_valid = 100        #验证集的数目\n",
    "n_test = len(x_data) - n_train - n_valid    #测试集的数目 = 506 - 训练集的数目 - 验证集的数目\n",
    "\n",
    "# 训练集划分\n",
    "trainset = tf.cast(x_data[:n_train], dtype=tf.float32) \n",
    "trainlabel = y_data[:n_train]\n",
    "\n",
    "# 验证集划分\n",
    "validset = tf.cast(x_data[n_train:n_train+n_valid], dtype=tf.float32)\n",
    "validlabel = y_data[n_train:n_train+n_valid]\n",
    "\n",
    "# 测试集划分\n",
    "testset = tf.cast(x_data[n_train+n_valid:n_train+n_valid+n_test], dtype=tf.float32)\n",
    "testlabel = y_data[n_train + n_valid : n_train + n_valid + n_test]"
   ]
  },
  {
   "cell_type": "markdown",
   "metadata": {},
   "source": [
    "## 2、构建模型"
   ]
  },
  {
   "cell_type": "markdown",
   "metadata": {},
   "source": [
    "### 2.1 构建多元回归模型"
   ]
  },
  {
   "cell_type": "markdown",
   "metadata": {},
   "source": [
    "初始化$w$和$b$的值，并查看初始的$w$、$b$的shape"
   ]
  },
  {
   "cell_type": "code",
   "execution_count": 10,
   "metadata": {},
   "outputs": [
    {
     "name": "stdout",
     "output_type": "stream",
     "text": [
      "(12, 1)\n",
      "(1,)\n"
     ]
    }
   ],
   "source": [
    "W = tf.Variable(tf.random.normal([12, 1],mean=0.0, \n",
    "                                 stddev=1.0, dtype=tf.float32))\n",
    "B = tf.Variable(tf.zeros(1) , dtype = tf.float32)\n",
    "print(W.shape)\n",
    "print(B.shape)"
   ]
  },
  {
   "cell_type": "markdown",
   "metadata": {},
   "source": [
    "我们的回归模型仍然是个简单的线性函数，即$y = w*x + b$，但$w$的shape会与之前不同<br>\n",
    "$w$在此例中是个(3,1)的向量，所以需要用tf.matmul进行矩阵叉乘"
   ]
  },
  {
   "cell_type": "code",
   "execution_count": 11,
   "metadata": {},
   "outputs": [],
   "source": [
    "def prediction(x, weights, bias):                  #前向传播过程\n",
    "    return tf.add(tf.matmul(x,weights), bias)   "
   ]
  },
  {
   "cell_type": "markdown",
   "metadata": {},
   "source": [
    "### 2.2 定义损失函数\n",
    "我们使用均方差损失函数，其计算的公式为：<br>\n",
    "$$MSE=\\frac {1} {N}\\sum_{i=1}^{n}(y-prediction(x))^2$$"
   ]
  },
  {
   "cell_type": "code",
   "execution_count": 12,
   "metadata": {},
   "outputs": [],
   "source": [
    "# 均方差误差\n",
    "def loss(x, y, weights, bias):\n",
    "    error = prediction(x, weights, bias) - y                   \n",
    "    squared_error = tf.square(error)\n",
    "    return tf.sqrt(tf.reduce_mean(input_tensor=squared_error)) "
   ]
  },
  {
   "cell_type": "markdown",
   "metadata": {},
   "source": [
    "###  2.3 计算梯度"
   ]
  },
  {
   "cell_type": "code",
   "execution_count": 13,
   "metadata": {},
   "outputs": [],
   "source": [
    "def gradient(x, y, weights, bias):\n",
    "    with tf.GradientTape() as tape:\n",
    "        loss_value = loss(x, y, weights, bias)\n",
    "        return tape.gradient(loss_value, [weights, bias])"
   ]
  },
  {
   "cell_type": "markdown",
   "metadata": {},
   "source": [
    "## 3、训练模型"
   ]
  },
  {
   "cell_type": "markdown",
   "metadata": {},
   "source": [
    "### 3.1 设置超参数"
   ]
  },
  {
   "cell_type": "code",
   "execution_count": 14,
   "metadata": {},
   "outputs": [],
   "source": [
    "learning_rate = 0.001        # 学习率\n",
    "train_epochs = 40        # 训练轮数"
   ]
  },
  {
   "cell_type": "markdown",
   "metadata": {},
   "source": [
    "### 3.2 定义训练过程，进行训练\n",
    "$ w_i = w_i - \\alpha\\frac {\\partial J(w)} {\\partial w_i} $<br><br>\n",
    "$ b_i = b_i - \\alpha\\frac {\\partial J(b)} {\\partial b_i} $"
   ]
  },
  {
   "cell_type": "code",
   "execution_count": 15,
   "metadata": {},
   "outputs": [
    {
     "name": "stdout",
     "output_type": "stream",
     "text": [
      "epoch=1 ,loss=20.123\n",
      "epoch=2 ,loss=19.420\n",
      "epoch=3 ,loss=18.725\n",
      "epoch=4 ,loss=18.040\n",
      "epoch=5 ,loss=17.365\n",
      "epoch=6 ,loss=16.702\n",
      "epoch=7 ,loss=16.052\n",
      "epoch=8 ,loss=15.418\n",
      "epoch=9 ,loss=14.800\n",
      "epoch=10 ,loss=14.202\n",
      "epoch=11 ,loss=13.625\n",
      "epoch=12 ,loss=13.073\n",
      "epoch=13 ,loss=12.562\n",
      "epoch=14 ,loss=12.099\n",
      "epoch=15 ,loss=11.681\n",
      "epoch=16 ,loss=11.313\n",
      "epoch=17 ,loss=10.993\n",
      "epoch=18 ,loss=10.722\n",
      "epoch=19 ,loss=10.490\n",
      "epoch=20 ,loss=10.293\n",
      "epoch=21 ,loss=10.126\n",
      "epoch=22 ,loss=9.989\n",
      "epoch=23 ,loss=9.879\n",
      "epoch=24 ,loss=9.793\n",
      "epoch=25 ,loss=9.733\n",
      "epoch=26 ,loss=9.692\n",
      "epoch=27 ,loss=9.668\n",
      "epoch=28 ,loss=9.657\n",
      "epoch=29 ,loss=9.655\n",
      "epoch=30 ,loss=9.661\n",
      "epoch=31 ,loss=9.675\n",
      "epoch=32 ,loss=9.695\n",
      "epoch=33 ,loss=9.720\n",
      "epoch=34 ,loss=9.747\n",
      "epoch=35 ,loss=9.779\n",
      "epoch=36 ,loss=9.810\n",
      "epoch=37 ,loss=9.844\n",
      "epoch=38 ,loss=9.876\n",
      "epoch=39 ,loss=9.911\n",
      "epoch=40 ,loss=9.947\n"
     ]
    }
   ],
   "source": [
    "loss_list_trainset = [] # 用于保存训练集loss值的列表\n",
    "loss_list_validset = [] # 用于保存验证集loss值的列表\n",
    "\n",
    "for epoch in range(train_epochs): \n",
    "    for i in range(len(trainlabel)):\n",
    "        deltaW, deltaB = gradient(trainset[i:i+1,:], trainlabel[i], W, B) \n",
    "        change_W = deltaW * learning_rate \n",
    "        change_B = deltaB * learning_rate \n",
    "        W.assign_sub(change_W) \n",
    "        B.assign_sub(change_B)\n",
    "        \n",
    "    loss_list_trainset.append(loss(trainset, trainlabel, W, B))\n",
    "    loss_list_validset.append(loss(validset, validlabel, W, B))\n",
    "    print(\"epoch={:d} ,loss={:.3f}\".format(epoch+1, loss(validset, validlabel, W, B)))"
   ]
  },
  {
   "cell_type": "markdown",
   "metadata": {},
   "source": [
    "### 3.3 打印结果 "
   ]
  },
  {
   "cell_type": "code",
   "execution_count": 16,
   "metadata": {},
   "outputs": [
    {
     "data": {
      "application/javascript": "/* Put everything inside the global mpl namespace */\nwindow.mpl = {};\n\n\nmpl.get_websocket_type = function() {\n    if (typeof(WebSocket) !== 'undefined') {\n        return WebSocket;\n    } else if (typeof(MozWebSocket) !== 'undefined') {\n        return MozWebSocket;\n    } else {\n        alert('Your browser does not have WebSocket support. ' +\n              'Please try Chrome, Safari or Firefox ≥ 6. ' +\n              'Firefox 4 and 5 are also supported but you ' +\n              'have to enable WebSockets in about:config.');\n    };\n}\n\nmpl.figure = function(figure_id, websocket, ondownload, parent_element) {\n    this.id = figure_id;\n\n    this.ws = websocket;\n\n    this.supports_binary = (this.ws.binaryType != undefined);\n\n    if (!this.supports_binary) {\n        var warnings = document.getElementById(\"mpl-warnings\");\n        if (warnings) {\n            warnings.style.display = 'block';\n            warnings.textContent = (\n                \"This browser does not support binary websocket messages. \" +\n                    \"Performance may be slow.\");\n        }\n    }\n\n    this.imageObj = new Image();\n\n    this.context = undefined;\n    this.message = undefined;\n    this.canvas = undefined;\n    this.rubberband_canvas = undefined;\n    this.rubberband_context = undefined;\n    this.format_dropdown = undefined;\n\n    this.image_mode = 'full';\n\n    this.root = $('<div/>');\n    this._root_extra_style(this.root)\n    this.root.attr('style', 'display: inline-block');\n\n    $(parent_element).append(this.root);\n\n    this._init_header(this);\n    this._init_canvas(this);\n    this._init_toolbar(this);\n\n    var fig = this;\n\n    this.waiting = false;\n\n    this.ws.onopen =  function () {\n            fig.send_message(\"supports_binary\", {value: fig.supports_binary});\n            fig.send_message(\"send_image_mode\", {});\n            if (mpl.ratio != 1) {\n                fig.send_message(\"set_dpi_ratio\", {'dpi_ratio': mpl.ratio});\n            }\n            fig.send_message(\"refresh\", {});\n        }\n\n    this.imageObj.onload = function() {\n            if (fig.image_mode == 'full') {\n                // Full images could contain transparency (where diff images\n                // almost always do), so we need to clear the canvas so that\n                // there is no ghosting.\n                fig.context.clearRect(0, 0, fig.canvas.width, fig.canvas.height);\n            }\n            fig.context.drawImage(fig.imageObj, 0, 0);\n        };\n\n    this.imageObj.onunload = function() {\n        fig.ws.close();\n    }\n\n    this.ws.onmessage = this._make_on_message_function(this);\n\n    this.ondownload = ondownload;\n}\n\nmpl.figure.prototype._init_header = function() {\n    var titlebar = $(\n        '<div class=\"ui-dialog-titlebar ui-widget-header ui-corner-all ' +\n        'ui-helper-clearfix\"/>');\n    var titletext = $(\n        '<div class=\"ui-dialog-title\" style=\"width: 100%; ' +\n        'text-align: center; padding: 3px;\"/>');\n    titlebar.append(titletext)\n    this.root.append(titlebar);\n    this.header = titletext[0];\n}\n\n\n\nmpl.figure.prototype._canvas_extra_style = function(canvas_div) {\n\n}\n\n\nmpl.figure.prototype._root_extra_style = function(canvas_div) {\n\n}\n\nmpl.figure.prototype._init_canvas = function() {\n    var fig = this;\n\n    var canvas_div = $('<div/>');\n\n    canvas_div.attr('style', 'position: relative; clear: both; outline: 0');\n\n    function canvas_keyboard_event(event) {\n        return fig.key_event(event, event['data']);\n    }\n\n    canvas_div.keydown('key_press', canvas_keyboard_event);\n    canvas_div.keyup('key_release', canvas_keyboard_event);\n    this.canvas_div = canvas_div\n    this._canvas_extra_style(canvas_div)\n    this.root.append(canvas_div);\n\n    var canvas = $('<canvas/>');\n    canvas.addClass('mpl-canvas');\n    canvas.attr('style', \"left: 0; top: 0; z-index: 0; outline: 0\")\n\n    this.canvas = canvas[0];\n    this.context = canvas[0].getContext(\"2d\");\n\n    var backingStore = this.context.backingStorePixelRatio ||\n\tthis.context.webkitBackingStorePixelRatio ||\n\tthis.context.mozBackingStorePixelRatio ||\n\tthis.context.msBackingStorePixelRatio ||\n\tthis.context.oBackingStorePixelRatio ||\n\tthis.context.backingStorePixelRatio || 1;\n\n    mpl.ratio = (window.devicePixelRatio || 1) / backingStore;\n\n    var rubberband = $('<canvas/>');\n    rubberband.attr('style', \"position: absolute; left: 0; top: 0; z-index: 1;\")\n\n    var pass_mouse_events = true;\n\n    canvas_div.resizable({\n        start: function(event, ui) {\n            pass_mouse_events = false;\n        },\n        resize: function(event, ui) {\n            fig.request_resize(ui.size.width, ui.size.height);\n        },\n        stop: function(event, ui) {\n            pass_mouse_events = true;\n            fig.request_resize(ui.size.width, ui.size.height);\n        },\n    });\n\n    function mouse_event_fn(event) {\n        if (pass_mouse_events)\n            return fig.mouse_event(event, event['data']);\n    }\n\n    rubberband.mousedown('button_press', mouse_event_fn);\n    rubberband.mouseup('button_release', mouse_event_fn);\n    // Throttle sequential mouse events to 1 every 20ms.\n    rubberband.mousemove('motion_notify', mouse_event_fn);\n\n    rubberband.mouseenter('figure_enter', mouse_event_fn);\n    rubberband.mouseleave('figure_leave', mouse_event_fn);\n\n    canvas_div.on(\"wheel\", function (event) {\n        event = event.originalEvent;\n        event['data'] = 'scroll'\n        if (event.deltaY < 0) {\n            event.step = 1;\n        } else {\n            event.step = -1;\n        }\n        mouse_event_fn(event);\n    });\n\n    canvas_div.append(canvas);\n    canvas_div.append(rubberband);\n\n    this.rubberband = rubberband;\n    this.rubberband_canvas = rubberband[0];\n    this.rubberband_context = rubberband[0].getContext(\"2d\");\n    this.rubberband_context.strokeStyle = \"#000000\";\n\n    this._resize_canvas = function(width, height) {\n        // Keep the size of the canvas, canvas container, and rubber band\n        // canvas in synch.\n        canvas_div.css('width', width)\n        canvas_div.css('height', height)\n\n        canvas.attr('width', width * mpl.ratio);\n        canvas.attr('height', height * mpl.ratio);\n        canvas.attr('style', 'width: ' + width + 'px; height: ' + height + 'px;');\n\n        rubberband.attr('width', width);\n        rubberband.attr('height', height);\n    }\n\n    // Set the figure to an initial 600x600px, this will subsequently be updated\n    // upon first draw.\n    this._resize_canvas(600, 600);\n\n    // Disable right mouse context menu.\n    $(this.rubberband_canvas).bind(\"contextmenu\",function(e){\n        return false;\n    });\n\n    function set_focus () {\n        canvas.focus();\n        canvas_div.focus();\n    }\n\n    window.setTimeout(set_focus, 100);\n}\n\nmpl.figure.prototype._init_toolbar = function() {\n    var fig = this;\n\n    var nav_element = $('<div/>');\n    nav_element.attr('style', 'width: 100%');\n    this.root.append(nav_element);\n\n    // Define a callback function for later on.\n    function toolbar_event(event) {\n        return fig.toolbar_button_onclick(event['data']);\n    }\n    function toolbar_mouse_event(event) {\n        return fig.toolbar_button_onmouseover(event['data']);\n    }\n\n    for(var toolbar_ind in mpl.toolbar_items) {\n        var name = mpl.toolbar_items[toolbar_ind][0];\n        var tooltip = mpl.toolbar_items[toolbar_ind][1];\n        var image = mpl.toolbar_items[toolbar_ind][2];\n        var method_name = mpl.toolbar_items[toolbar_ind][3];\n\n        if (!name) {\n            // put a spacer in here.\n            continue;\n        }\n        var button = $('<button/>');\n        button.addClass('ui-button ui-widget ui-state-default ui-corner-all ' +\n                        'ui-button-icon-only');\n        button.attr('role', 'button');\n        button.attr('aria-disabled', 'false');\n        button.click(method_name, toolbar_event);\n        button.mouseover(tooltip, toolbar_mouse_event);\n\n        var icon_img = $('<span/>');\n        icon_img.addClass('ui-button-icon-primary ui-icon');\n        icon_img.addClass(image);\n        icon_img.addClass('ui-corner-all');\n\n        var tooltip_span = $('<span/>');\n        tooltip_span.addClass('ui-button-text');\n        tooltip_span.html(tooltip);\n\n        button.append(icon_img);\n        button.append(tooltip_span);\n\n        nav_element.append(button);\n    }\n\n    var fmt_picker_span = $('<span/>');\n\n    var fmt_picker = $('<select/>');\n    fmt_picker.addClass('mpl-toolbar-option ui-widget ui-widget-content');\n    fmt_picker_span.append(fmt_picker);\n    nav_element.append(fmt_picker_span);\n    this.format_dropdown = fmt_picker[0];\n\n    for (var ind in mpl.extensions) {\n        var fmt = mpl.extensions[ind];\n        var option = $(\n            '<option/>', {selected: fmt === mpl.default_extension}).html(fmt);\n        fmt_picker.append(option);\n    }\n\n    // Add hover states to the ui-buttons\n    $( \".ui-button\" ).hover(\n        function() { $(this).addClass(\"ui-state-hover\");},\n        function() { $(this).removeClass(\"ui-state-hover\");}\n    );\n\n    var status_bar = $('<span class=\"mpl-message\"/>');\n    nav_element.append(status_bar);\n    this.message = status_bar[0];\n}\n\nmpl.figure.prototype.request_resize = function(x_pixels, y_pixels) {\n    // Request matplotlib to resize the figure. Matplotlib will then trigger a resize in the client,\n    // which will in turn request a refresh of the image.\n    this.send_message('resize', {'width': x_pixels, 'height': y_pixels});\n}\n\nmpl.figure.prototype.send_message = function(type, properties) {\n    properties['type'] = type;\n    properties['figure_id'] = this.id;\n    this.ws.send(JSON.stringify(properties));\n}\n\nmpl.figure.prototype.send_draw_message = function() {\n    if (!this.waiting) {\n        this.waiting = true;\n        this.ws.send(JSON.stringify({type: \"draw\", figure_id: this.id}));\n    }\n}\n\n\nmpl.figure.prototype.handle_save = function(fig, msg) {\n    var format_dropdown = fig.format_dropdown;\n    var format = format_dropdown.options[format_dropdown.selectedIndex].value;\n    fig.ondownload(fig, format);\n}\n\n\nmpl.figure.prototype.handle_resize = function(fig, msg) {\n    var size = msg['size'];\n    if (size[0] != fig.canvas.width || size[1] != fig.canvas.height) {\n        fig._resize_canvas(size[0], size[1]);\n        fig.send_message(\"refresh\", {});\n    };\n}\n\nmpl.figure.prototype.handle_rubberband = function(fig, msg) {\n    var x0 = msg['x0'] / mpl.ratio;\n    var y0 = (fig.canvas.height - msg['y0']) / mpl.ratio;\n    var x1 = msg['x1'] / mpl.ratio;\n    var y1 = (fig.canvas.height - msg['y1']) / mpl.ratio;\n    x0 = Math.floor(x0) + 0.5;\n    y0 = Math.floor(y0) + 0.5;\n    x1 = Math.floor(x1) + 0.5;\n    y1 = Math.floor(y1) + 0.5;\n    var min_x = Math.min(x0, x1);\n    var min_y = Math.min(y0, y1);\n    var width = Math.abs(x1 - x0);\n    var height = Math.abs(y1 - y0);\n\n    fig.rubberband_context.clearRect(\n        0, 0, fig.canvas.width / mpl.ratio, fig.canvas.height / mpl.ratio);\n\n    fig.rubberband_context.strokeRect(min_x, min_y, width, height);\n}\n\nmpl.figure.prototype.handle_figure_label = function(fig, msg) {\n    // Updates the figure title.\n    fig.header.textContent = msg['label'];\n}\n\nmpl.figure.prototype.handle_cursor = function(fig, msg) {\n    var cursor = msg['cursor'];\n    switch(cursor)\n    {\n    case 0:\n        cursor = 'pointer';\n        break;\n    case 1:\n        cursor = 'default';\n        break;\n    case 2:\n        cursor = 'crosshair';\n        break;\n    case 3:\n        cursor = 'move';\n        break;\n    }\n    fig.rubberband_canvas.style.cursor = cursor;\n}\n\nmpl.figure.prototype.handle_message = function(fig, msg) {\n    fig.message.textContent = msg['message'];\n}\n\nmpl.figure.prototype.handle_draw = function(fig, msg) {\n    // Request the server to send over a new figure.\n    fig.send_draw_message();\n}\n\nmpl.figure.prototype.handle_image_mode = function(fig, msg) {\n    fig.image_mode = msg['mode'];\n}\n\nmpl.figure.prototype.updated_canvas_event = function() {\n    // Called whenever the canvas gets updated.\n    this.send_message(\"ack\", {});\n}\n\n// A function to construct a web socket function for onmessage handling.\n// Called in the figure constructor.\nmpl.figure.prototype._make_on_message_function = function(fig) {\n    return function socket_on_message(evt) {\n        if (evt.data instanceof Blob) {\n            /* FIXME: We get \"Resource interpreted as Image but\n             * transferred with MIME type text/plain:\" errors on\n             * Chrome.  But how to set the MIME type?  It doesn't seem\n             * to be part of the websocket stream */\n            evt.data.type = \"image/png\";\n\n            /* Free the memory for the previous frames */\n            if (fig.imageObj.src) {\n                (window.URL || window.webkitURL).revokeObjectURL(\n                    fig.imageObj.src);\n            }\n\n            fig.imageObj.src = (window.URL || window.webkitURL).createObjectURL(\n                evt.data);\n            fig.updated_canvas_event();\n            fig.waiting = false;\n            return;\n        }\n        else if (typeof evt.data === 'string' && evt.data.slice(0, 21) == \"data:image/png;base64\") {\n            fig.imageObj.src = evt.data;\n            fig.updated_canvas_event();\n            fig.waiting = false;\n            return;\n        }\n\n        var msg = JSON.parse(evt.data);\n        var msg_type = msg['type'];\n\n        // Call the  \"handle_{type}\" callback, which takes\n        // the figure and JSON message as its only arguments.\n        try {\n            var callback = fig[\"handle_\" + msg_type];\n        } catch (e) {\n            console.log(\"No handler for the '\" + msg_type + \"' message type: \", msg);\n            return;\n        }\n\n        if (callback) {\n            try {\n                // console.log(\"Handling '\" + msg_type + \"' message: \", msg);\n                callback(fig, msg);\n            } catch (e) {\n                console.log(\"Exception inside the 'handler_\" + msg_type + \"' callback:\", e, e.stack, msg);\n            }\n        }\n    };\n}\n\n// from http://stackoverflow.com/questions/1114465/getting-mouse-location-in-canvas\nmpl.findpos = function(e) {\n    //this section is from http://www.quirksmode.org/js/events_properties.html\n    var targ;\n    if (!e)\n        e = window.event;\n    if (e.target)\n        targ = e.target;\n    else if (e.srcElement)\n        targ = e.srcElement;\n    if (targ.nodeType == 3) // defeat Safari bug\n        targ = targ.parentNode;\n\n    // jQuery normalizes the pageX and pageY\n    // pageX,Y are the mouse positions relative to the document\n    // offset() returns the position of the element relative to the document\n    var x = e.pageX - $(targ).offset().left;\n    var y = e.pageY - $(targ).offset().top;\n\n    return {\"x\": x, \"y\": y};\n};\n\n/*\n * return a copy of an object with only non-object keys\n * we need this to avoid circular references\n * http://stackoverflow.com/a/24161582/3208463\n */\nfunction simpleKeys (original) {\n  return Object.keys(original).reduce(function (obj, key) {\n    if (typeof original[key] !== 'object')\n        obj[key] = original[key]\n    return obj;\n  }, {});\n}\n\nmpl.figure.prototype.mouse_event = function(event, name) {\n    var canvas_pos = mpl.findpos(event)\n\n    if (name === 'button_press')\n    {\n        this.canvas.focus();\n        this.canvas_div.focus();\n    }\n\n    var x = canvas_pos.x * mpl.ratio;\n    var y = canvas_pos.y * mpl.ratio;\n\n    this.send_message(name, {x: x, y: y, button: event.button,\n                             step: event.step,\n                             guiEvent: simpleKeys(event)});\n\n    /* This prevents the web browser from automatically changing to\n     * the text insertion cursor when the button is pressed.  We want\n     * to control all of the cursor setting manually through the\n     * 'cursor' event from matplotlib */\n    event.preventDefault();\n    return false;\n}\n\nmpl.figure.prototype._key_event_extra = function(event, name) {\n    // Handle any extra behaviour associated with a key event\n}\n\nmpl.figure.prototype.key_event = function(event, name) {\n\n    // Prevent repeat events\n    if (name == 'key_press')\n    {\n        if (event.which === this._key)\n            return;\n        else\n            this._key = event.which;\n    }\n    if (name == 'key_release')\n        this._key = null;\n\n    var value = '';\n    if (event.ctrlKey && event.which != 17)\n        value += \"ctrl+\";\n    if (event.altKey && event.which != 18)\n        value += \"alt+\";\n    if (event.shiftKey && event.which != 16)\n        value += \"shift+\";\n\n    value += 'k';\n    value += event.which.toString();\n\n    this._key_event_extra(event, name);\n\n    this.send_message(name, {key: value,\n                             guiEvent: simpleKeys(event)});\n    return false;\n}\n\nmpl.figure.prototype.toolbar_button_onclick = function(name) {\n    if (name == 'download') {\n        this.handle_save(this, null);\n    } else {\n        this.send_message(\"toolbar_button\", {name: name});\n    }\n};\n\nmpl.figure.prototype.toolbar_button_onmouseover = function(tooltip) {\n    this.message.textContent = tooltip;\n};\nmpl.toolbar_items = [[\"Home\", \"Reset original view\", \"fa fa-home icon-home\", \"home\"], [\"Back\", \"Back to previous view\", \"fa fa-arrow-left icon-arrow-left\", \"back\"], [\"Forward\", \"Forward to next view\", \"fa fa-arrow-right icon-arrow-right\", \"forward\"], [\"\", \"\", \"\", \"\"], [\"Pan\", \"Pan axes with left mouse, zoom with right\", \"fa fa-arrows icon-move\", \"pan\"], [\"Zoom\", \"Zoom to rectangle\", \"fa fa-square-o icon-check-empty\", \"zoom\"], [\"\", \"\", \"\", \"\"], [\"Download\", \"Download plot\", \"fa fa-floppy-o icon-save\", \"download\"]];\n\nmpl.extensions = [\"eps\", \"jpeg\", \"pdf\", \"png\", \"ps\", \"raw\", \"svg\", \"tif\"];\n\nmpl.default_extension = \"png\";var comm_websocket_adapter = function(comm) {\n    // Create a \"websocket\"-like object which calls the given IPython comm\n    // object with the appropriate methods. Currently this is a non binary\n    // socket, so there is still some room for performance tuning.\n    var ws = {};\n\n    ws.close = function() {\n        comm.close()\n    };\n    ws.send = function(m) {\n        //console.log('sending', m);\n        comm.send(m);\n    };\n    // Register the callback with on_msg.\n    comm.on_msg(function(msg) {\n        //console.log('receiving', msg['content']['data'], msg);\n        // Pass the mpl event to the overridden (by mpl) onmessage function.\n        ws.onmessage(msg['content']['data'])\n    });\n    return ws;\n}\n\nmpl.mpl_figure_comm = function(comm, msg) {\n    // This is the function which gets called when the mpl process\n    // starts-up an IPython Comm through the \"matplotlib\" channel.\n\n    var id = msg.content.data.id;\n    // Get hold of the div created by the display call when the Comm\n    // socket was opened in Python.\n    var element = $(\"#\" + id);\n    var ws_proxy = comm_websocket_adapter(comm)\n\n    function ondownload(figure, format) {\n        window.open(figure.imageObj.src);\n    }\n\n    var fig = new mpl.figure(id, ws_proxy,\n                           ondownload,\n                           element.get(0));\n\n    // Call onopen now - mpl needs it, as it is assuming we've passed it a real\n    // web socket which is closed, not our websocket->open comm proxy.\n    ws_proxy.onopen();\n\n    fig.parent_element = element.get(0);\n    fig.cell_info = mpl.find_output_cell(\"<div id='\" + id + \"'></div>\");\n    if (!fig.cell_info) {\n        console.error(\"Failed to find cell for figure\", id, fig);\n        return;\n    }\n\n    var output_index = fig.cell_info[2]\n    var cell = fig.cell_info[0];\n\n};\n\nmpl.figure.prototype.handle_close = function(fig, msg) {\n    var width = fig.canvas.width/mpl.ratio\n    fig.root.unbind('remove')\n\n    // Update the output cell to use the data from the current canvas.\n    fig.push_to_output();\n    var dataURL = fig.canvas.toDataURL();\n    // Re-enable the keyboard manager in IPython - without this line, in FF,\n    // the notebook keyboard shortcuts fail.\n    IPython.keyboard_manager.enable()\n    $(fig.parent_element).html('<img src=\"' + dataURL + '\" width=\"' + width + '\">');\n    fig.close_ws(fig, msg);\n}\n\nmpl.figure.prototype.close_ws = function(fig, msg){\n    fig.send_message('closing', msg);\n    // fig.ws.close()\n}\n\nmpl.figure.prototype.push_to_output = function(remove_interactive) {\n    // Turn the data on the canvas into data in the output cell.\n    var width = this.canvas.width/mpl.ratio\n    var dataURL = this.canvas.toDataURL();\n    this.cell_info[1]['text/html'] = '<img src=\"' + dataURL + '\" width=\"' + width + '\">';\n}\n\nmpl.figure.prototype.updated_canvas_event = function() {\n    // Tell IPython that the notebook contents must change.\n    IPython.notebook.set_dirty(true);\n    this.send_message(\"ack\", {});\n    var fig = this;\n    // Wait a second, then push the new image to the DOM so\n    // that it is saved nicely (might be nice to debounce this).\n    setTimeout(function () { fig.push_to_output() }, 1000);\n}\n\nmpl.figure.prototype._init_toolbar = function() {\n    var fig = this;\n\n    var nav_element = $('<div/>');\n    nav_element.attr('style', 'width: 100%');\n    this.root.append(nav_element);\n\n    // Define a callback function for later on.\n    function toolbar_event(event) {\n        return fig.toolbar_button_onclick(event['data']);\n    }\n    function toolbar_mouse_event(event) {\n        return fig.toolbar_button_onmouseover(event['data']);\n    }\n\n    for(var toolbar_ind in mpl.toolbar_items){\n        var name = mpl.toolbar_items[toolbar_ind][0];\n        var tooltip = mpl.toolbar_items[toolbar_ind][1];\n        var image = mpl.toolbar_items[toolbar_ind][2];\n        var method_name = mpl.toolbar_items[toolbar_ind][3];\n\n        if (!name) { continue; };\n\n        var button = $('<button class=\"btn btn-default\" href=\"#\" title=\"' + name + '\"><i class=\"fa ' + image + ' fa-lg\"></i></button>');\n        button.click(method_name, toolbar_event);\n        button.mouseover(tooltip, toolbar_mouse_event);\n        nav_element.append(button);\n    }\n\n    // Add the status bar.\n    var status_bar = $('<span class=\"mpl-message\" style=\"text-align:right; float: right;\"/>');\n    nav_element.append(status_bar);\n    this.message = status_bar[0];\n\n    // Add the close button to the window.\n    var buttongrp = $('<div class=\"btn-group inline pull-right\"></div>');\n    var button = $('<button class=\"btn btn-mini btn-primary\" href=\"#\" title=\"Stop Interaction\"><i class=\"fa fa-power-off icon-remove icon-large\"></i></button>');\n    button.click(function (evt) { fig.handle_close(fig, {}); } );\n    button.mouseover('Stop Interaction', toolbar_mouse_event);\n    buttongrp.append(button);\n    var titlebar = this.root.find($('.ui-dialog-titlebar'));\n    titlebar.prepend(buttongrp);\n}\n\nmpl.figure.prototype._root_extra_style = function(el){\n    var fig = this\n    el.on(\"remove\", function(){\n\tfig.close_ws(fig, {});\n    });\n}\n\nmpl.figure.prototype._canvas_extra_style = function(el){\n    // this is important to make the div 'focusable\n    el.attr('tabindex', 0)\n    // reach out to IPython and tell the keyboard manager to turn it's self\n    // off when our div gets focus\n\n    // location in version 3\n    if (IPython.notebook.keyboard_manager) {\n        IPython.notebook.keyboard_manager.register_events(el);\n    }\n    else {\n        // location in version 2\n        IPython.keyboard_manager.register_events(el);\n    }\n\n}\n\nmpl.figure.prototype._key_event_extra = function(event, name) {\n    var manager = IPython.notebook.keyboard_manager;\n    if (!manager)\n        manager = IPython.keyboard_manager;\n\n    // Check for shift+enter\n    if (event.shiftKey && event.which == 13) {\n        this.canvas_div.blur();\n        event.shiftKey = false;\n        // Send a \"J\" for go to next cell\n        event.which = 74;\n        event.keyCode = 74;\n        manager.command_mode();\n        manager.handle_keydown(event);\n    }\n}\n\nmpl.figure.prototype.handle_save = function(fig, msg) {\n    fig.ondownload(fig, null);\n}\n\n\nmpl.find_output_cell = function(html_output) {\n    // Return the cell and output element which can be found *uniquely* in the notebook.\n    // Note - this is a bit hacky, but it is done because the \"notebook_saving.Notebook\"\n    // IPython event is triggered only after the cells have been serialised, which for\n    // our purposes (turning an active figure into a static one), is too late.\n    var cells = IPython.notebook.get_cells();\n    var ncells = cells.length;\n    for (var i=0; i<ncells; i++) {\n        var cell = cells[i];\n        if (cell.cell_type === 'code'){\n            for (var j=0; j<cell.output_area.outputs.length; j++) {\n                var data = cell.output_area.outputs[j];\n                if (data.data) {\n                    // IPython >= 3 moved mimebundle to data attribute of output\n                    data = data.data;\n                }\n                if (data['text/html'] == html_output) {\n                    return [cell, data, j];\n                }\n            }\n        }\n    }\n}\n\n// Register the function which deals with the matplotlib target/channel.\n// The kernel may be null if the page has been refreshed.\nif (IPython.notebook.kernel != null) {\n    IPython.notebook.kernel.comm_manager.register_target('matplotlib', mpl.mpl_figure_comm);\n}\n",
      "text/plain": [
       "<IPython.core.display.Javascript object>"
      ]
     },
     "metadata": {},
     "output_type": "display_data"
    },
    {
     "data": {
      "text/html": [
       "<img src=\"data:image/png;base64,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\" width=\"640\">"
      ],
      "text/plain": [
       "<IPython.core.display.HTML object>"
      ]
     },
     "metadata": {},
     "output_type": "display_data"
    },
    {
     "data": {
      "text/plain": [
       "<matplotlib.legend.Legend at 0x2d965c90438>"
      ]
     },
     "execution_count": 16,
     "metadata": {},
     "output_type": "execute_result"
    }
   ],
   "source": [
    "plt.xlabel(\"Epochs\")\n",
    "plt.ylabel(\"Loss\")\n",
    "plt.plot(loss_list_trainset,'blue',label=\"Trainset Loss\")\n",
    "plt.plot(loss_list_validset,'red',label=\"Validset Loss\")\n",
    "plt.legend(bbox_to_anchor=(0., 1.02, 1., .102), loc=0,\n",
    "           ncol=3,mode=\"expand\", borderaxespad=0.)        #图例存放位置的设置"
   ]
  },
  {
   "cell_type": "code",
   "execution_count": 17,
   "metadata": {},
   "outputs": [
    {
     "name": "stdout",
     "output_type": "stream",
     "text": [
      "Final test loss: 11.725\n"
     ]
    }
   ],
   "source": [
    "print(\"Final test loss: {:.3f}\".format(loss(testset, testlabel, W, B)))"
   ]
  },
  {
   "cell_type": "markdown",
   "metadata": {},
   "source": [
    "## 4、进行预测"
   ]
  },
  {
   "cell_type": "code",
   "execution_count": 18,
   "metadata": {},
   "outputs": [
    {
     "name": "stdout",
     "output_type": "stream",
     "text": [
      "Actual  house value 25.0  in $10K\n",
      "Predicted  house value  26.819366  in $10K\n"
     ]
    }
   ],
   "source": [
    "example_house=482\n",
    "y = y_data[example_house]\n",
    "x= tf.cast(x_data[example_house].reshape(1,12), dtype=tf.float32)\n",
    "y_pred =  prediction(x,W,B).numpy()[0,0]\n",
    "print(\"Actual  house value\",y,\" in $10K\")\n",
    "print(\"Predicted  house value \",y_pred,\" in $10K\")"
   ]
  },
  {
   "cell_type": "code",
   "execution_count": null,
   "metadata": {},
   "outputs": [],
   "source": []
  }
 ],
 "metadata": {
  "kernelspec": {
   "display_name": "Python 3",
   "language": "python",
   "name": "python3"
  },
  "language_info": {
   "codemirror_mode": {
    "name": "ipython",
    "version": 3
   },
   "file_extension": ".py",
   "mimetype": "text/x-python",
   "name": "python",
   "nbconvert_exporter": "python",
   "pygments_lexer": "ipython3",
   "version": "3.9.10"
  }
 },
 "nbformat": 4,
 "nbformat_minor": 2
}
