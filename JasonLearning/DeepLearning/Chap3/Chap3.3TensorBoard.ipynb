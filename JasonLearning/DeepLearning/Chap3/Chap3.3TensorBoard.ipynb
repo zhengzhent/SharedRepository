{
 "cells": [
  {
   "cell_type": "code",
   "execution_count": 10,
   "metadata": {},
   "outputs": [],
   "source": [
    "# 在TensorFlow 2下执行TensorFlow 1.x版本代码\n",
    "import tensorflow.compat.v1 as tf\n",
    "tf.disable_eager_execution()     # 改为图执行模式运行\n",
    "\n",
    "tf.reset_default_graph() #清除default graph和不断增加的节点\n",
    "\n",
    "# 一个简单计算图\n",
    "node1 = tf.constant(3.0,tf.float32,name=\"node1\")\n",
    "node2 = tf.constant(4.0,tf.float32,name=\"node2\")\n",
    "node3 = tf.add(node1, node2)\n",
    "\n",
    "# logdir改为自己机器上的合适路径\n",
    "logdir='D:/log'\n",
    "\n",
    "#生成一个写日志的writer，并将当前的TensorFlow计算图写入日志。\n",
    "writer = tf.summary.FileWriter(logdir,tf.get_default_graph())\n",
    "writer.close()\n"
   ]
  },
  {
   "cell_type": "code",
   "execution_count": null,
   "metadata": {},
   "outputs": [],
   "source": []
  }
 ],
 "metadata": {
  "kernelspec": {
   "display_name": "Python [conda env:tf2] *",
   "language": "python",
   "name": "conda-env-tf2-py"
  },
  "language_info": {
   "codemirror_mode": {
    "name": "ipython",
    "version": 3
   },
   "file_extension": ".py",
   "mimetype": "text/x-python",
   "name": "python",
   "nbconvert_exporter": "python",
   "pygments_lexer": "ipython3",
   "version": "3.7.6"
  }
 },
 "nbformat": 4,
 "nbformat_minor": 4
}
