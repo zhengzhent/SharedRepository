{
 "cells": [
  {
   "cell_type": "code",
   "execution_count": 1,
   "metadata": {},
   "outputs": [],
   "source": [
    "# 在TensorFlow 2下执行TensorFlow 1.x版本代码\n",
    "import tensorflow.compat.v1 as tf\n",
    "tf.disable_eager_execution()     # 改为图执行模式运行"
   ]
  },
  {
   "cell_type": "code",
   "execution_count": 2,
   "metadata": {},
   "outputs": [
    {
     "name": "stdout",
     "output_type": "stream",
     "text": [
      "Tensor(\"Add:0\", shape=(), dtype=float32)\n"
     ]
    }
   ],
   "source": [
    "# 定义了一个简单的“计算图”\n",
    "node1 = tf.constant(3.0,tf.float32,name=\"node1\")\n",
    "node2 = tf.constant(4.0,tf.float32,name=\"node2\")\n",
    "node3 = tf.add(node1, node2)\n",
    "\n",
    "print(node3)"
   ]
  },
  {
   "cell_type": "code",
   "execution_count": 3,
   "metadata": {},
   "outputs": [
    {
     "data": {
      "text/plain": [
       "(<tf.Tensor 'node1:0' shape=() dtype=float32>,\n",
       " <tf.Tensor 'node2:0' shape=() dtype=float32>,\n",
       " <tf.Tensor 'Add:0' shape=() dtype=float32>)"
      ]
     },
     "execution_count": 3,
     "metadata": {},
     "output_type": "execute_result"
    }
   ],
   "source": [
    "node1,node2,node3"
   ]
  },
  {
   "cell_type": "code",
   "execution_count": 5,
   "metadata": {},
   "outputs": [
    {
     "name": "stdout",
     "output_type": "stream",
     "text": [
      "运行sess.run(node1)的结果： 3.0\n",
      "运行sess.run(node2)的结果： 4.0\n",
      "运行sess.run(node3)的结果： 7.0\n"
     ]
    }
   ],
   "source": [
    "sess = tf.Session()    # 建立对话并显示运行结果\n",
    "\n",
    "print(\"运行sess.run(node1)的结果：\", sess.run(node1))\n",
    "print(\"运行sess.run(node2)的结果：\", sess.run(node2))\n",
    "print(\"运行sess.run(node3)的结果：\", sess.run(node3))\n",
    "\n",
    "sess.close()     # 关闭session"
   ]
  },
  {
   "cell_type": "code",
   "execution_count": 6,
   "metadata": {},
   "outputs": [
    {
     "name": "stdout",
     "output_type": "stream",
     "text": [
      "[1 2 3]\n"
     ]
    }
   ],
   "source": [
    "tens1 = tf.constant([1,2,3])    # 定义计算图\n",
    "sess = tf.Session()    # 创建一个会话\n",
    "\n",
    "#使用这个创建好的会话来得到关心的运算的结果。比如可以调用 sess.run(tens1)\n",
    "print(sess.run(tens1))    # 输出结果应该为 [1 2 3]\n",
    "\n",
    "sess.close()    #关闭会话使得本次运行中使用到的资源可以被释放"
   ]
  },
  {
   "cell_type": "code",
   "execution_count": 7,
   "metadata": {},
   "outputs": [
    {
     "name": "stdout",
     "output_type": "stream",
     "text": [
      "[1 2 3]\n"
     ]
    }
   ],
   "source": [
    "tens1 = tf.constant([1,2,3]) \n",
    "\n",
    "sess = tf.Session()\n",
    "try:\n",
    "    print(sess.run(tens1))\n",
    "except:\n",
    "    print(\"Exception!\")\n",
    "finally:\n",
    "    sess.close()    #确保能关闭会话"
   ]
  },
  {
   "cell_type": "code",
   "execution_count": 8,
   "metadata": {},
   "outputs": [
    {
     "name": "stdout",
     "output_type": "stream",
     "text": [
      "[1 2 3]\n"
     ]
    }
   ],
   "source": [
    "tens1 = tf.constant([1,2,3]) \n",
    "\n",
    "#创建一个会话，并通过Python中的上下文管理器来管理这个会话\n",
    "with tf.Session() as sess:\n",
    "    print(sess.run(tens1))\n",
    "\n",
    "# 不需要再调用 Session.close() 函数来关闭会话\n",
    "# 当上下文退出时会话关闭和资源释放也自动完成了"
   ]
  },
  {
   "cell_type": "code",
   "execution_count": 11,
   "metadata": {},
   "outputs": [
    {
     "name": "stdout",
     "output_type": "stream",
     "text": [
      "[1 2 3]\n"
     ]
    }
   ],
   "source": [
    "tens1 = tf.constant([1,2,3]) \n",
    "\n",
    "sess = tf.Session()\n",
    "with sess.as_default():\n",
    "    print(tens1.eval())"
   ]
  },
  {
   "cell_type": "code",
   "execution_count": 12,
   "metadata": {},
   "outputs": [
    {
     "ename": "NameError",
     "evalue": "name 'result' is not defined",
     "output_type": "error",
     "traceback": [
      "\u001b[0;31m---------------------------------------------------------------------------\u001b[0m",
      "\u001b[0;31mNameError\u001b[0m                                 Traceback (most recent call last)",
      "Cell \u001b[0;32mIn[12], line 5\u001b[0m\n\u001b[1;32m      2\u001b[0m sess \u001b[39m=\u001b[39m tf\u001b[39m.\u001b[39mSession()\n\u001b[1;32m      4\u001b[0m \u001b[39m#下面两个命令有相同的功能\u001b[39;00m\n\u001b[0;32m----> 5\u001b[0m \u001b[39mprint\u001b[39m(sess\u001b[39m.\u001b[39mrun(result))\n\u001b[1;32m      6\u001b[0m \u001b[39mprint\u001b[39m(result\u001b[39m.\u001b[39meval(session\u001b[39m=\u001b[39msess))\n",
      "\u001b[0;31mNameError\u001b[0m: name 'result' is not defined"
     ]
    }
   ],
   "source": [
    "tens1 = tf.constant([1,2,3]) \n",
    "sess = tf.Session()\n",
    "\n",
    "#下面两个命令有相同的功能\n",
    "print(sess.run(tens1))\n",
    "print(tens1.eval(session=sess))"
   ]
  },
  {
   "cell_type": "code",
   "execution_count": 10,
   "metadata": {},
   "outputs": [
    {
     "name": "stdout",
     "output_type": "stream",
     "text": [
      "[1 2 3]\n"
     ]
    }
   ],
   "source": [
    "tens1 = tf.constant([1,2,3]) \n",
    "\n",
    "sess = tf.InteractiveSession()\n",
    "\n",
    "print(tens1.eval())"
   ]
  },
  {
   "cell_type": "code",
   "execution_count": null,
   "metadata": {},
   "outputs": [
    {
     "name": "stdout",
     "output_type": "stream",
     "text": [
      "7.0\n"
     ]
    }
   ],
   "source": [
    "node1 = tf.Variable(3.0,tf.float32,name=\"node1\")\n",
    "node2 = tf.Variable(4.0,tf.float32,name=\"node2\")\n",
    "result = tf.add(node1, node2)\n",
    "\n",
    "sess = tf.Session()\n",
    "\n",
    "node1_init = node1.initializer    # 定义单个变量初始化操作\n",
    "node2_init = node2.initializer\n",
    "\n",
    "sess.run(node1_init)    # 运行单个变量初始化操作\n",
    "sess.run(node2_init)\n",
    "\n",
    "print(sess.run(result))"
   ]
  },
  {
   "cell_type": "code",
   "execution_count": null,
   "metadata": {},
   "outputs": [
    {
     "name": "stdout",
     "output_type": "stream",
     "text": [
      "7.0\n"
     ]
    }
   ],
   "source": [
    "node1 = tf.Variable(3.0,tf.float32,name=\"node1\")\n",
    "node2 = tf.Variable(4.0,tf.float32,name=\"node2\")\n",
    "result = tf.add(node1, node2)\n",
    "\n",
    "sess = tf.Session()\n",
    "\n",
    "init = tf.global_variables_initializer()    #定义变量初始化操作\n",
    "sess.run(init)    #必须先运行这个初始化操作\n",
    "\n",
    "print(sess.run(result))\n"
   ]
  },
  {
   "cell_type": "code",
   "execution_count": null,
   "metadata": {},
   "outputs": [
    {
     "name": "stdout",
     "output_type": "stream",
     "text": [
      "a = 5.0\n",
      "b = 3.5\n",
      "8.5\n"
     ]
    }
   ],
   "source": [
    "# 在TensorFlow 2下执行TensorFlow 1.x版本代码\n",
    "import tensorflow.compat.v1 as tf\n",
    "tf.disable_eager_execution()     # 改为图执行模式运行\n",
    "\n",
    "a = tf.placeholder(tf.float32, name='a')\n",
    "b = tf.placeholder(tf.float32, name='b')\n",
    "c = a+b    # 作用和tf.add(a,b)一样，TensorFlow重载了运算符\n",
    "\n",
    "a_value = float(input(\"a = \"))  # 从终端读入一个浮点数并放入变量a_\n",
    "b_value = float(input(\"b = \"))\n",
    "\n",
    "with tf.Session() as sess:\n",
    "    # 通过feed_dict的参数传值，按字典格式\n",
    "    result = sess.run(c, feed_dict={a:a_value, b:b_value})  \n",
    "    print(result)"
   ]
  },
  {
   "cell_type": "code",
   "execution_count": null,
   "metadata": {},
   "outputs": [
    {
     "name": "stdout",
     "output_type": "stream",
     "text": [
      "value of c= [12.  4. 14.] value of d= [ 6.5  0.  -0.5]\n"
     ]
    }
   ],
   "source": [
    "# 在TensorFlow 2下执行TensorFlow 1.x版本代码\n",
    "import tensorflow.compat.v1 as tf\n",
    "tf.disable_eager_execution()     # 改为图执行模式运行\n",
    "\n",
    "a = tf.placeholder(tf.float32, name='a')\n",
    "b = tf.placeholder(tf.float32, name='b')\n",
    "c = tf.multiply(a, b, name='c')\n",
    "d = tf.subtract(a, b, name='d')\n",
    "\n",
    "with tf.Session() as sess:\n",
    "    #两个操作涉及的占位符一次性Feed，返回的两个值分别赋给两个变量\n",
    "    rc,rd = sess.run([c,d], feed_dict={a:[8.0,2.0,3.5], b:[1.5,2.0,4.]})\n",
    "    print(\"value of c=\",rc,\"value of d=\",rd)"
   ]
  },
  {
   "cell_type": "code",
   "execution_count": null,
   "metadata": {},
   "outputs": [
    {
     "name": "stdout",
     "output_type": "stream",
     "text": [
      "(array([12.,  4., 14.], dtype=float32), array([ 6.5,  0. , -0.5], dtype=float32)) <class 'tuple'>\n"
     ]
    }
   ],
   "source": [
    "# 在TensorFlow 2下执行TensorFlow 1.x版本代码\n",
    "import tensorflow.compat.v1 as tf\n",
    "tf.disable_eager_execution()     # 改为图执行模式运行\n",
    "\n",
    "a = tf.placeholder(tf.float32, name='a')\n",
    "b = tf.placeholder(tf.float32, name='b')\n",
    "c = tf.multiply(a, b, name='c')\n",
    "d = tf.subtract(a, b, name='d')\n",
    "\n",
    "with tf.Session() as sess:\n",
    "    #两个操作涉及的占位符一次性Feed，返回的两个值分别赋给两个变量\n",
    "    x = sess.run([c,d], feed_dict={a:[8.0,2.0,3.5], b:[1.5,2.0,4.]})\n",
    "    print(x,type(x))"
   ]
  },
  {
   "cell_type": "code",
   "execution_count": 6,
   "metadata": {},
   "outputs": [
    {
     "name": "stdout",
     "output_type": "stream",
     "text": [
      "55\n"
     ]
    }
   ],
   "source": [
    "import tensorflow.compat.v1 as tf\n",
    "tf.disable_eager_execution()\n",
    "# tf.reset_default_graph()\n",
    "value = tf.Variable(0,name='value')\n",
    "res = tf.Variable(0,name='res')\n",
    "one = tf.constant(1)\n",
    "new_value = tf.add(value,one)\n",
    "update_value = tf.assign(value,new_value)\n",
    "temp_value = tf.add(res,value)\n",
    "update_res_value = tf.assign(res,temp_value)\n",
    "# log_dir = 'log/'\n",
    "init = tf.global_variables_initializer()\n",
    "with tf.Session() as sess:\n",
    "    sess.run(init)\n",
    "    for _ in range(10):\n",
    "        sess.run(update_value)\n",
    "        sess.run(update_res_value)\n",
    "    print(sess.run(res))\n",
    "\n",
    "# writer = tf.summary.FileWriter(log_dir,sess.graph)\n"
   ]
  }
 ],
 "metadata": {
  "kernelspec": {
   "display_name": "base",
   "language": "python",
   "name": "python3"
  },
  "language_info": {
   "codemirror_mode": {
    "name": "ipython",
    "version": 3
   },
   "file_extension": ".py",
   "mimetype": "text/x-python",
   "name": "python",
   "nbconvert_exporter": "python",
   "pygments_lexer": "ipython3",
   "version": "3.9.10"
  }
 },
 "nbformat": 4,
 "nbformat_minor": 4
}
