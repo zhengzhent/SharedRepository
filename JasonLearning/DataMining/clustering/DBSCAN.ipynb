{
 "cells": [
  {
   "cell_type": "code",
   "execution_count": 18,
   "metadata": {},
   "outputs": [],
   "source": [
    "import pandas as pd\n",
    "import numpy as np\n",
    "import matplotlib.pyplot as plt\n",
    "\n",
    "from sklearn.preprocessing import StandardScaler\n",
    "from sklearn.cluster import DBSCAN\n",
    "from sklearn import metrics\n",
    "import pandas as pd\n",
    "import numpy as np\n",
    "import matplotlib.pyplot as plt\n",
    "from sklearn.cluster import DBSCAN\n",
    "from sklearn.metrics import pairwise_distances\n",
    "from sklearn.metrics import silhouette_score\n",
    "from sklearn.metrics import davies_bouldin_score\n"
   ]
  },
  {
   "cell_type": "code",
   "execution_count": 19,
   "metadata": {},
   "outputs": [
    {
     "data": {
      "text/html": [
       "<div>\n",
       "<style scoped>\n",
       "    .dataframe tbody tr th:only-of-type {\n",
       "        vertical-align: middle;\n",
       "    }\n",
       "\n",
       "    .dataframe tbody tr th {\n",
       "        vertical-align: top;\n",
       "    }\n",
       "\n",
       "    .dataframe thead th {\n",
       "        text-align: right;\n",
       "    }\n",
       "</style>\n",
       "<table border=\"1\" class=\"dataframe\">\n",
       "  <thead>\n",
       "    <tr style=\"text-align: right;\">\n",
       "      <th></th>\n",
       "      <th>Age</th>\n",
       "      <th>Sex</th>\n",
       "      <th>BP</th>\n",
       "      <th>Cholesterol</th>\n",
       "      <th>Na</th>\n",
       "      <th>K</th>\n",
       "      <th>Drug</th>\n",
       "    </tr>\n",
       "  </thead>\n",
       "  <tbody>\n",
       "    <tr>\n",
       "      <th>0</th>\n",
       "      <td>23</td>\n",
       "      <td>F</td>\n",
       "      <td>HIGH</td>\n",
       "      <td>HIGH</td>\n",
       "      <td>0.792535</td>\n",
       "      <td>0.031258</td>\n",
       "      <td>drugY</td>\n",
       "    </tr>\n",
       "    <tr>\n",
       "      <th>1</th>\n",
       "      <td>47</td>\n",
       "      <td>M</td>\n",
       "      <td>LOW</td>\n",
       "      <td>HIGH</td>\n",
       "      <td>0.739309</td>\n",
       "      <td>0.056468</td>\n",
       "      <td>drugC</td>\n",
       "    </tr>\n",
       "    <tr>\n",
       "      <th>2</th>\n",
       "      <td>47</td>\n",
       "      <td>M</td>\n",
       "      <td>LOW</td>\n",
       "      <td>HIGH</td>\n",
       "      <td>0.697269</td>\n",
       "      <td>0.068944</td>\n",
       "      <td>drugC</td>\n",
       "    </tr>\n",
       "    <tr>\n",
       "      <th>3</th>\n",
       "      <td>28</td>\n",
       "      <td>F</td>\n",
       "      <td>NORMAL</td>\n",
       "      <td>HIGH</td>\n",
       "      <td>0.563682</td>\n",
       "      <td>0.072289</td>\n",
       "      <td>drugX</td>\n",
       "    </tr>\n",
       "    <tr>\n",
       "      <th>4</th>\n",
       "      <td>61</td>\n",
       "      <td>F</td>\n",
       "      <td>LOW</td>\n",
       "      <td>HIGH</td>\n",
       "      <td>0.559294</td>\n",
       "      <td>0.030998</td>\n",
       "      <td>drugY</td>\n",
       "    </tr>\n",
       "  </tbody>\n",
       "</table>\n",
       "</div>"
      ],
      "text/plain": [
       "   Age Sex      BP Cholesterol        Na         K   Drug\n",
       "0   23   F    HIGH        HIGH  0.792535  0.031258  drugY\n",
       "1   47   M     LOW        HIGH  0.739309  0.056468  drugC\n",
       "2   47   M     LOW        HIGH  0.697269  0.068944  drugC\n",
       "3   28   F  NORMAL        HIGH  0.563682  0.072289  drugX\n",
       "4   61   F     LOW        HIGH  0.559294  0.030998  drugY"
      ]
     },
     "execution_count": 19,
     "metadata": {},
     "output_type": "execute_result"
    }
   ],
   "source": [
    "df = pd.read_csv('data/DRUG1n.csv') \n",
    "df.head()"
   ]
  },
  {
   "cell_type": "code",
   "execution_count": 20,
   "metadata": {},
   "outputs": [
    {
     "data": {
      "text/plain": [
       "(200, 7)"
      ]
     },
     "execution_count": 20,
     "metadata": {},
     "output_type": "execute_result"
    }
   ],
   "source": [
    "df.shape"
   ]
  },
  {
   "cell_type": "code",
   "execution_count": 21,
   "metadata": {},
   "outputs": [
    {
     "data": {
      "text/plain": [
       "Age            0\n",
       "Sex            0\n",
       "BP             0\n",
       "Cholesterol    0\n",
       "Na             0\n",
       "K              0\n",
       "Drug           0\n",
       "dtype: int64"
      ]
     },
     "execution_count": 21,
     "metadata": {},
     "output_type": "execute_result"
    }
   ],
   "source": [
    "#查找缺失值\n",
    "df.isnull().sum()"
   ]
  },
  {
   "cell_type": "markdown",
   "metadata": {},
   "source": [
    "分类特征数值化以及one-hot编码"
   ]
  },
  {
   "cell_type": "code",
   "execution_count": 22,
   "metadata": {},
   "outputs": [
    {
     "data": {
      "text/plain": [
       "array([0, 1], dtype=int64)"
      ]
     },
     "execution_count": 22,
     "metadata": {},
     "output_type": "execute_result"
    }
   ],
   "source": [
    "# F : 0, M: 1\n",
    "df['Sex'] = df['Sex'].map({'F':0,'M':1})\n",
    "df['Sex'].unique()"
   ]
  },
  {
   "cell_type": "code",
   "execution_count": 23,
   "metadata": {},
   "outputs": [
    {
     "data": {
      "text/plain": [
       "array([0, 1], dtype=int64)"
      ]
     },
     "execution_count": 23,
     "metadata": {},
     "output_type": "execute_result"
    }
   ],
   "source": [
    "# HIGH : 0 , NORMAL: 1\n",
    "df['Cholesterol'] = df['Cholesterol'].map({'HIGH':0,'NORMAL':1})\n",
    "df['Cholesterol'].unique()"
   ]
  },
  {
   "cell_type": "code",
   "execution_count": 24,
   "metadata": {},
   "outputs": [
    {
     "data": {
      "text/html": [
       "<div>\n",
       "<style scoped>\n",
       "    .dataframe tbody tr th:only-of-type {\n",
       "        vertical-align: middle;\n",
       "    }\n",
       "\n",
       "    .dataframe tbody tr th {\n",
       "        vertical-align: top;\n",
       "    }\n",
       "\n",
       "    .dataframe thead th {\n",
       "        text-align: right;\n",
       "    }\n",
       "</style>\n",
       "<table border=\"1\" class=\"dataframe\">\n",
       "  <thead>\n",
       "    <tr style=\"text-align: right;\">\n",
       "      <th></th>\n",
       "      <th>Age</th>\n",
       "      <th>Sex</th>\n",
       "      <th>Cholesterol</th>\n",
       "      <th>Na</th>\n",
       "      <th>K</th>\n",
       "      <th>BP_HIGH</th>\n",
       "      <th>BP_LOW</th>\n",
       "      <th>BP_NORMAL</th>\n",
       "      <th>drugA</th>\n",
       "      <th>drugB</th>\n",
       "      <th>drugC</th>\n",
       "      <th>drugX</th>\n",
       "      <th>drugY</th>\n",
       "    </tr>\n",
       "  </thead>\n",
       "  <tbody>\n",
       "    <tr>\n",
       "      <th>0</th>\n",
       "      <td>23</td>\n",
       "      <td>0</td>\n",
       "      <td>0</td>\n",
       "      <td>0.792535</td>\n",
       "      <td>0.031258</td>\n",
       "      <td>1</td>\n",
       "      <td>0</td>\n",
       "      <td>0</td>\n",
       "      <td>0</td>\n",
       "      <td>0</td>\n",
       "      <td>0</td>\n",
       "      <td>0</td>\n",
       "      <td>1</td>\n",
       "    </tr>\n",
       "    <tr>\n",
       "      <th>1</th>\n",
       "      <td>47</td>\n",
       "      <td>1</td>\n",
       "      <td>0</td>\n",
       "      <td>0.739309</td>\n",
       "      <td>0.056468</td>\n",
       "      <td>0</td>\n",
       "      <td>1</td>\n",
       "      <td>0</td>\n",
       "      <td>0</td>\n",
       "      <td>0</td>\n",
       "      <td>1</td>\n",
       "      <td>0</td>\n",
       "      <td>0</td>\n",
       "    </tr>\n",
       "    <tr>\n",
       "      <th>2</th>\n",
       "      <td>47</td>\n",
       "      <td>1</td>\n",
       "      <td>0</td>\n",
       "      <td>0.697269</td>\n",
       "      <td>0.068944</td>\n",
       "      <td>0</td>\n",
       "      <td>1</td>\n",
       "      <td>0</td>\n",
       "      <td>0</td>\n",
       "      <td>0</td>\n",
       "      <td>1</td>\n",
       "      <td>0</td>\n",
       "      <td>0</td>\n",
       "    </tr>\n",
       "    <tr>\n",
       "      <th>3</th>\n",
       "      <td>28</td>\n",
       "      <td>0</td>\n",
       "      <td>0</td>\n",
       "      <td>0.563682</td>\n",
       "      <td>0.072289</td>\n",
       "      <td>0</td>\n",
       "      <td>0</td>\n",
       "      <td>1</td>\n",
       "      <td>0</td>\n",
       "      <td>0</td>\n",
       "      <td>0</td>\n",
       "      <td>1</td>\n",
       "      <td>0</td>\n",
       "    </tr>\n",
       "    <tr>\n",
       "      <th>4</th>\n",
       "      <td>61</td>\n",
       "      <td>0</td>\n",
       "      <td>0</td>\n",
       "      <td>0.559294</td>\n",
       "      <td>0.030998</td>\n",
       "      <td>0</td>\n",
       "      <td>1</td>\n",
       "      <td>0</td>\n",
       "      <td>0</td>\n",
       "      <td>0</td>\n",
       "      <td>0</td>\n",
       "      <td>0</td>\n",
       "      <td>1</td>\n",
       "    </tr>\n",
       "  </tbody>\n",
       "</table>\n",
       "</div>"
      ],
      "text/plain": [
       "   Age  Sex  Cholesterol        Na         K  BP_HIGH  BP_LOW  BP_NORMAL  \\\n",
       "0   23    0            0  0.792535  0.031258        1       0          0   \n",
       "1   47    1            0  0.739309  0.056468        0       1          0   \n",
       "2   47    1            0  0.697269  0.068944        0       1          0   \n",
       "3   28    0            0  0.563682  0.072289        0       0          1   \n",
       "4   61    0            0  0.559294  0.030998        0       1          0   \n",
       "\n",
       "   drugA  drugB  drugC  drugX  drugY  \n",
       "0      0      0      0      0      1  \n",
       "1      0      0      1      0      0  \n",
       "2      0      0      1      0      0  \n",
       "3      0      0      0      1      0  \n",
       "4      0      0      0      0      1  "
      ]
     },
     "execution_count": 24,
     "metadata": {},
     "output_type": "execute_result"
    }
   ],
   "source": [
    "for i in ['BP','Drug']:\n",
    "    dummies = pd.get_dummies(df[i])\n",
    "    df = pd.concat([df,dummies],axis =1)\n",
    "    df.drop(i,axis = 1,inplace = True)\n",
    "df = df.rename(columns={'HIGH': 'BP_HIGH'})\n",
    "df = df.rename(columns={'LOW': 'BP_LOW'})\n",
    "df = df.rename(columns={'NORMAL': 'BP_NORMAL'})\n",
    "df.head()"
   ]
  },
  {
   "cell_type": "code",
   "execution_count": 25,
   "metadata": {},
   "outputs": [
    {
     "data": {
      "text/plain": [
       "(200, 13)"
      ]
     },
     "execution_count": 25,
     "metadata": {},
     "output_type": "execute_result"
    }
   ],
   "source": [
    "df.shape"
   ]
  },
  {
   "cell_type": "code",
   "execution_count": 26,
   "metadata": {},
   "outputs": [
    {
     "data": {
      "text/html": [
       "<div>\n",
       "<style scoped>\n",
       "    .dataframe tbody tr th:only-of-type {\n",
       "        vertical-align: middle;\n",
       "    }\n",
       "\n",
       "    .dataframe tbody tr th {\n",
       "        vertical-align: top;\n",
       "    }\n",
       "\n",
       "    .dataframe thead th {\n",
       "        text-align: right;\n",
       "    }\n",
       "</style>\n",
       "<table border=\"1\" class=\"dataframe\">\n",
       "  <thead>\n",
       "    <tr style=\"text-align: right;\">\n",
       "      <th></th>\n",
       "      <th>Age</th>\n",
       "      <th>Sex</th>\n",
       "      <th>Cholesterol</th>\n",
       "      <th>Na</th>\n",
       "      <th>K</th>\n",
       "      <th>BP_HIGH</th>\n",
       "      <th>BP_LOW</th>\n",
       "      <th>BP_NORMAL</th>\n",
       "      <th>drugA</th>\n",
       "      <th>drugB</th>\n",
       "      <th>drugC</th>\n",
       "      <th>drugX</th>\n",
       "      <th>drugY</th>\n",
       "    </tr>\n",
       "  </thead>\n",
       "  <tbody>\n",
       "    <tr>\n",
       "      <th>0</th>\n",
       "      <td>23</td>\n",
       "      <td>0</td>\n",
       "      <td>0</td>\n",
       "      <td>0.792535</td>\n",
       "      <td>0.031258</td>\n",
       "      <td>1</td>\n",
       "      <td>0</td>\n",
       "      <td>0</td>\n",
       "      <td>0</td>\n",
       "      <td>0</td>\n",
       "      <td>0</td>\n",
       "      <td>0</td>\n",
       "      <td>1</td>\n",
       "    </tr>\n",
       "    <tr>\n",
       "      <th>1</th>\n",
       "      <td>47</td>\n",
       "      <td>1</td>\n",
       "      <td>0</td>\n",
       "      <td>0.739309</td>\n",
       "      <td>0.056468</td>\n",
       "      <td>0</td>\n",
       "      <td>1</td>\n",
       "      <td>0</td>\n",
       "      <td>0</td>\n",
       "      <td>0</td>\n",
       "      <td>1</td>\n",
       "      <td>0</td>\n",
       "      <td>0</td>\n",
       "    </tr>\n",
       "    <tr>\n",
       "      <th>2</th>\n",
       "      <td>47</td>\n",
       "      <td>1</td>\n",
       "      <td>0</td>\n",
       "      <td>0.697269</td>\n",
       "      <td>0.068944</td>\n",
       "      <td>0</td>\n",
       "      <td>1</td>\n",
       "      <td>0</td>\n",
       "      <td>0</td>\n",
       "      <td>0</td>\n",
       "      <td>1</td>\n",
       "      <td>0</td>\n",
       "      <td>0</td>\n",
       "    </tr>\n",
       "    <tr>\n",
       "      <th>3</th>\n",
       "      <td>28</td>\n",
       "      <td>0</td>\n",
       "      <td>0</td>\n",
       "      <td>0.563682</td>\n",
       "      <td>0.072289</td>\n",
       "      <td>0</td>\n",
       "      <td>0</td>\n",
       "      <td>1</td>\n",
       "      <td>0</td>\n",
       "      <td>0</td>\n",
       "      <td>0</td>\n",
       "      <td>1</td>\n",
       "      <td>0</td>\n",
       "    </tr>\n",
       "    <tr>\n",
       "      <th>4</th>\n",
       "      <td>61</td>\n",
       "      <td>0</td>\n",
       "      <td>0</td>\n",
       "      <td>0.559294</td>\n",
       "      <td>0.030998</td>\n",
       "      <td>0</td>\n",
       "      <td>1</td>\n",
       "      <td>0</td>\n",
       "      <td>0</td>\n",
       "      <td>0</td>\n",
       "      <td>0</td>\n",
       "      <td>0</td>\n",
       "      <td>1</td>\n",
       "    </tr>\n",
       "  </tbody>\n",
       "</table>\n",
       "</div>"
      ],
      "text/plain": [
       "   Age  Sex  Cholesterol        Na         K  BP_HIGH  BP_LOW  BP_NORMAL  \\\n",
       "0   23    0            0  0.792535  0.031258        1       0          0   \n",
       "1   47    1            0  0.739309  0.056468        0       1          0   \n",
       "2   47    1            0  0.697269  0.068944        0       1          0   \n",
       "3   28    0            0  0.563682  0.072289        0       0          1   \n",
       "4   61    0            0  0.559294  0.030998        0       1          0   \n",
       "\n",
       "   drugA  drugB  drugC  drugX  drugY  \n",
       "0      0      0      0      0      1  \n",
       "1      0      0      1      0      0  \n",
       "2      0      0      1      0      0  \n",
       "3      0      0      0      1      0  \n",
       "4      0      0      0      0      1  "
      ]
     },
     "execution_count": 26,
     "metadata": {},
     "output_type": "execute_result"
    }
   ],
   "source": [
    "# # 设置标签 用来标记聚类结果\n",
    "# df['class'] = np.zeros([df.shape[0]])\n",
    "# # 设置列表 用来确定 哪些坐标是聚类中心\n",
    "# k_center = {}\n",
    "# #准备可视化的列 三个数值列\n",
    "# # temp = df[['Age','K','class']]\n",
    "df.head()"
   ]
  },
  {
   "cell_type": "code",
   "execution_count": 27,
   "metadata": {},
   "outputs": [
    {
     "data": {
      "text/plain": [
       "(200, 13)"
      ]
     },
     "execution_count": 27,
     "metadata": {},
     "output_type": "execute_result"
    }
   ],
   "source": [
    "std = StandardScaler()\n",
    "data = std.fit_transform(df)\n",
    "data.shape"
   ]
  },
  {
   "cell_type": "code",
   "execution_count": 36,
   "metadata": {},
   "outputs": [
    {
     "name": "stdout",
     "output_type": "stream",
     "text": [
      "   Age  Sex  Cholesterol        Na         K  BP_HIGH  BP_LOW  BP_NORMAL  \\\n",
      "0   23    0            0  0.792535  0.031258        1       0          0   \n",
      "1   47    1            0  0.739309  0.056468        0       1          0   \n",
      "2   47    1            0  0.697269  0.068944        0       1          0   \n",
      "3   28    0            0  0.563682  0.072289        0       0          1   \n",
      "4   61    0            0  0.559294  0.030998        0       1          0   \n",
      "\n",
      "   drugA  drugB  drugC  drugX  drugY  Cluster  AvgDistance  \n",
      "0      0      0      0      0      1       -1     3.600746  \n",
      "1      0      0      1      0      0       -1     3.600746  \n",
      "2      0      0      1      0      0       -1     3.600746  \n",
      "3      0      0      0      1      0       -1     3.600746  \n",
      "4      0      0      0      0      1       -1     3.600746  \n",
      "Cluster                    -1          0          1\n",
      "Age         count  183.000000  12.000000   5.000000\n",
      "            mean    45.573770  26.000000  42.200000\n",
      "            std     16.472880   7.410067   5.932959\n",
      "            min     15.000000  15.000000  35.000000\n",
      "            25%     32.000000  20.500000  37.000000\n",
      "...                       ...        ...        ...\n",
      "AvgDistance min      3.600746   0.907668   0.693318\n",
      "            25%      3.600746   0.907668   0.693318\n",
      "            50%      3.600746   0.907668   0.693318\n",
      "            75%      3.600746   0.907668   0.693318\n",
      "            max      3.600746   0.907668   0.693318\n",
      "\n",
      "[112 rows x 3 columns]\n"
     ]
    }
   ],
   "source": [
    "# DBSCAN模型\n",
    "dbscan = DBSCAN(eps=1.2, min_samples=2)\n",
    "labels = dbscan.fit_predict(data)\n",
    "\n",
    "# 计算每个簇的簇内平方和（WCSS）\n",
    "unique_labels = np.unique(labels)\n",
    "wcss_values = []\n",
    "\n",
    "for label in unique_labels:\n",
    "    if label == -1:\n",
    "        continue  # 跳过噪声点\n",
    "    cluster_points = data[labels == label]\n",
    "    wcss = np.sum(pairwise_distances(cluster_points, metric='euclidean')**2) / (2 * len(cluster_points))\n",
    "    wcss_values.append(wcss)\n",
    "\n",
    "# 输出簇标签和簇内平方和\n",
    "print(\"Cluster Labels:\", labels)\n",
    "print(\"WCSS Values for Each Cluster:\", wcss_values[-1])"
   ]
  },
  {
   "cell_type": "code",
   "execution_count": null,
   "metadata": {},
   "outputs": [],
   "source": []
  }
 ],
 "metadata": {
  "kernelspec": {
   "display_name": "Python 3",
   "language": "python",
   "name": "python3"
  },
  "language_info": {
   "codemirror_mode": {
    "name": "ipython",
    "version": 3
   },
   "file_extension": ".py",
   "mimetype": "text/x-python",
   "name": "python",
   "nbconvert_exporter": "python",
   "pygments_lexer": "ipython3",
   "version": "3.9.10"
  }
 },
 "nbformat": 4,
 "nbformat_minor": 2
}
