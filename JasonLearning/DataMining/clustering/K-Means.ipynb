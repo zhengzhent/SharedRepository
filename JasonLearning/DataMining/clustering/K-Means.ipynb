{
 "cells": [
  {
   "cell_type": "code",
   "execution_count": 17,
   "metadata": {},
   "outputs": [],
   "source": [
    "import pandas as pd\n",
    "import numpy as np\n",
    "import matplotlib.pyplot as plt\n",
    "from sklearn.model_selection import train_test_split\n",
    "from sklearn.preprocessing import StandardScaler"
   ]
  },
  {
   "cell_type": "code",
   "execution_count": 18,
   "metadata": {},
   "outputs": [
    {
     "data": {
      "text/html": [
       "<div>\n",
       "<style scoped>\n",
       "    .dataframe tbody tr th:only-of-type {\n",
       "        vertical-align: middle;\n",
       "    }\n",
       "\n",
       "    .dataframe tbody tr th {\n",
       "        vertical-align: top;\n",
       "    }\n",
       "\n",
       "    .dataframe thead th {\n",
       "        text-align: right;\n",
       "    }\n",
       "</style>\n",
       "<table border=\"1\" class=\"dataframe\">\n",
       "  <thead>\n",
       "    <tr style=\"text-align: right;\">\n",
       "      <th></th>\n",
       "      <th>Age</th>\n",
       "      <th>Sex</th>\n",
       "      <th>BP</th>\n",
       "      <th>Cholesterol</th>\n",
       "      <th>Na</th>\n",
       "      <th>K</th>\n",
       "      <th>Drug</th>\n",
       "    </tr>\n",
       "  </thead>\n",
       "  <tbody>\n",
       "    <tr>\n",
       "      <th>0</th>\n",
       "      <td>23</td>\n",
       "      <td>F</td>\n",
       "      <td>HIGH</td>\n",
       "      <td>HIGH</td>\n",
       "      <td>0.792535</td>\n",
       "      <td>0.031258</td>\n",
       "      <td>drugY</td>\n",
       "    </tr>\n",
       "    <tr>\n",
       "      <th>1</th>\n",
       "      <td>47</td>\n",
       "      <td>M</td>\n",
       "      <td>LOW</td>\n",
       "      <td>HIGH</td>\n",
       "      <td>0.739309</td>\n",
       "      <td>0.056468</td>\n",
       "      <td>drugC</td>\n",
       "    </tr>\n",
       "    <tr>\n",
       "      <th>2</th>\n",
       "      <td>47</td>\n",
       "      <td>M</td>\n",
       "      <td>LOW</td>\n",
       "      <td>HIGH</td>\n",
       "      <td>0.697269</td>\n",
       "      <td>0.068944</td>\n",
       "      <td>drugC</td>\n",
       "    </tr>\n",
       "    <tr>\n",
       "      <th>3</th>\n",
       "      <td>28</td>\n",
       "      <td>F</td>\n",
       "      <td>NORMAL</td>\n",
       "      <td>HIGH</td>\n",
       "      <td>0.563682</td>\n",
       "      <td>0.072289</td>\n",
       "      <td>drugX</td>\n",
       "    </tr>\n",
       "    <tr>\n",
       "      <th>4</th>\n",
       "      <td>61</td>\n",
       "      <td>F</td>\n",
       "      <td>LOW</td>\n",
       "      <td>HIGH</td>\n",
       "      <td>0.559294</td>\n",
       "      <td>0.030998</td>\n",
       "      <td>drugY</td>\n",
       "    </tr>\n",
       "  </tbody>\n",
       "</table>\n",
       "</div>"
      ],
      "text/plain": [
       "   Age Sex      BP Cholesterol        Na         K   Drug\n",
       "0   23   F    HIGH        HIGH  0.792535  0.031258  drugY\n",
       "1   47   M     LOW        HIGH  0.739309  0.056468  drugC\n",
       "2   47   M     LOW        HIGH  0.697269  0.068944  drugC\n",
       "3   28   F  NORMAL        HIGH  0.563682  0.072289  drugX\n",
       "4   61   F     LOW        HIGH  0.559294  0.030998  drugY"
      ]
     },
     "execution_count": 18,
     "metadata": {},
     "output_type": "execute_result"
    }
   ],
   "source": [
    "df = pd.read_csv('data/DRUG1n.csv') \n",
    "df.head()"
   ]
  },
  {
   "cell_type": "code",
   "execution_count": 19,
   "metadata": {},
   "outputs": [
    {
     "data": {
      "text/plain": [
       "(200, 7)"
      ]
     },
     "execution_count": 19,
     "metadata": {},
     "output_type": "execute_result"
    }
   ],
   "source": [
    "df.shape"
   ]
  },
  {
   "cell_type": "code",
   "execution_count": 20,
   "metadata": {},
   "outputs": [
    {
     "data": {
      "text/plain": [
       "Age            0\n",
       "Sex            0\n",
       "BP             0\n",
       "Cholesterol    0\n",
       "Na             0\n",
       "K              0\n",
       "Drug           0\n",
       "dtype: int64"
      ]
     },
     "execution_count": 20,
     "metadata": {},
     "output_type": "execute_result"
    }
   ],
   "source": [
    "#查找缺失值\n",
    "df.isnull().sum()"
   ]
  },
  {
   "cell_type": "markdown",
   "metadata": {},
   "source": [
    "分类特征数值化以及one-hot编码"
   ]
  },
  {
   "cell_type": "code",
   "execution_count": 21,
   "metadata": {},
   "outputs": [
    {
     "data": {
      "text/plain": [
       "array([0, 1], dtype=int64)"
      ]
     },
     "execution_count": 21,
     "metadata": {},
     "output_type": "execute_result"
    }
   ],
   "source": [
    "# F : 0, M: 1\n",
    "df['Sex'] = df['Sex'].map({'F':0,'M':1})\n",
    "df['Sex'].unique()"
   ]
  },
  {
   "cell_type": "code",
   "execution_count": 22,
   "metadata": {},
   "outputs": [
    {
     "data": {
      "text/plain": [
       "array([0, 1], dtype=int64)"
      ]
     },
     "execution_count": 22,
     "metadata": {},
     "output_type": "execute_result"
    }
   ],
   "source": [
    "# HIGH : 0 , NORMAL: 1\n",
    "df['Cholesterol'] = df['Cholesterol'].map({'HIGH':0,'NORMAL':1})\n",
    "df['Cholesterol'].unique()"
   ]
  },
  {
   "cell_type": "code",
   "execution_count": 23,
   "metadata": {},
   "outputs": [
    {
     "data": {
      "text/html": [
       "<div>\n",
       "<style scoped>\n",
       "    .dataframe tbody tr th:only-of-type {\n",
       "        vertical-align: middle;\n",
       "    }\n",
       "\n",
       "    .dataframe tbody tr th {\n",
       "        vertical-align: top;\n",
       "    }\n",
       "\n",
       "    .dataframe thead th {\n",
       "        text-align: right;\n",
       "    }\n",
       "</style>\n",
       "<table border=\"1\" class=\"dataframe\">\n",
       "  <thead>\n",
       "    <tr style=\"text-align: right;\">\n",
       "      <th></th>\n",
       "      <th>Age</th>\n",
       "      <th>Sex</th>\n",
       "      <th>Cholesterol</th>\n",
       "      <th>Na</th>\n",
       "      <th>K</th>\n",
       "      <th>BP_HIGH</th>\n",
       "      <th>BP_LOW</th>\n",
       "      <th>BP_NORMAL</th>\n",
       "      <th>drugA</th>\n",
       "      <th>drugB</th>\n",
       "      <th>drugC</th>\n",
       "      <th>drugX</th>\n",
       "      <th>drugY</th>\n",
       "    </tr>\n",
       "  </thead>\n",
       "  <tbody>\n",
       "    <tr>\n",
       "      <th>0</th>\n",
       "      <td>23</td>\n",
       "      <td>0</td>\n",
       "      <td>0</td>\n",
       "      <td>0.792535</td>\n",
       "      <td>0.031258</td>\n",
       "      <td>1</td>\n",
       "      <td>0</td>\n",
       "      <td>0</td>\n",
       "      <td>0</td>\n",
       "      <td>0</td>\n",
       "      <td>0</td>\n",
       "      <td>0</td>\n",
       "      <td>1</td>\n",
       "    </tr>\n",
       "    <tr>\n",
       "      <th>1</th>\n",
       "      <td>47</td>\n",
       "      <td>1</td>\n",
       "      <td>0</td>\n",
       "      <td>0.739309</td>\n",
       "      <td>0.056468</td>\n",
       "      <td>0</td>\n",
       "      <td>1</td>\n",
       "      <td>0</td>\n",
       "      <td>0</td>\n",
       "      <td>0</td>\n",
       "      <td>1</td>\n",
       "      <td>0</td>\n",
       "      <td>0</td>\n",
       "    </tr>\n",
       "    <tr>\n",
       "      <th>2</th>\n",
       "      <td>47</td>\n",
       "      <td>1</td>\n",
       "      <td>0</td>\n",
       "      <td>0.697269</td>\n",
       "      <td>0.068944</td>\n",
       "      <td>0</td>\n",
       "      <td>1</td>\n",
       "      <td>0</td>\n",
       "      <td>0</td>\n",
       "      <td>0</td>\n",
       "      <td>1</td>\n",
       "      <td>0</td>\n",
       "      <td>0</td>\n",
       "    </tr>\n",
       "    <tr>\n",
       "      <th>3</th>\n",
       "      <td>28</td>\n",
       "      <td>0</td>\n",
       "      <td>0</td>\n",
       "      <td>0.563682</td>\n",
       "      <td>0.072289</td>\n",
       "      <td>0</td>\n",
       "      <td>0</td>\n",
       "      <td>1</td>\n",
       "      <td>0</td>\n",
       "      <td>0</td>\n",
       "      <td>0</td>\n",
       "      <td>1</td>\n",
       "      <td>0</td>\n",
       "    </tr>\n",
       "    <tr>\n",
       "      <th>4</th>\n",
       "      <td>61</td>\n",
       "      <td>0</td>\n",
       "      <td>0</td>\n",
       "      <td>0.559294</td>\n",
       "      <td>0.030998</td>\n",
       "      <td>0</td>\n",
       "      <td>1</td>\n",
       "      <td>0</td>\n",
       "      <td>0</td>\n",
       "      <td>0</td>\n",
       "      <td>0</td>\n",
       "      <td>0</td>\n",
       "      <td>1</td>\n",
       "    </tr>\n",
       "  </tbody>\n",
       "</table>\n",
       "</div>"
      ],
      "text/plain": [
       "   Age  Sex  Cholesterol        Na         K  BP_HIGH  BP_LOW  BP_NORMAL  \\\n",
       "0   23    0            0  0.792535  0.031258        1       0          0   \n",
       "1   47    1            0  0.739309  0.056468        0       1          0   \n",
       "2   47    1            0  0.697269  0.068944        0       1          0   \n",
       "3   28    0            0  0.563682  0.072289        0       0          1   \n",
       "4   61    0            0  0.559294  0.030998        0       1          0   \n",
       "\n",
       "   drugA  drugB  drugC  drugX  drugY  \n",
       "0      0      0      0      0      1  \n",
       "1      0      0      1      0      0  \n",
       "2      0      0      1      0      0  \n",
       "3      0      0      0      1      0  \n",
       "4      0      0      0      0      1  "
      ]
     },
     "execution_count": 23,
     "metadata": {},
     "output_type": "execute_result"
    }
   ],
   "source": [
    "for i in ['BP','Drug']:\n",
    "    dummies = pd.get_dummies(df[i])\n",
    "    df = pd.concat([df,dummies],axis =1)\n",
    "    df.drop(i,axis = 1,inplace = True)\n",
    "df = df.rename(columns={'HIGH': 'BP_HIGH'})\n",
    "df = df.rename(columns={'LOW': 'BP_LOW'})\n",
    "df = df.rename(columns={'NORMAL': 'BP_NORMAL'})\n",
    "df.head()"
   ]
  },
  {
   "cell_type": "code",
   "execution_count": 24,
   "metadata": {},
   "outputs": [
    {
     "data": {
      "text/plain": [
       "(200, 13)"
      ]
     },
     "execution_count": 24,
     "metadata": {},
     "output_type": "execute_result"
    }
   ],
   "source": [
    "df.shape"
   ]
  },
  {
   "cell_type": "code",
   "execution_count": 25,
   "metadata": {},
   "outputs": [
    {
     "data": {
      "text/html": [
       "<div>\n",
       "<style scoped>\n",
       "    .dataframe tbody tr th:only-of-type {\n",
       "        vertical-align: middle;\n",
       "    }\n",
       "\n",
       "    .dataframe tbody tr th {\n",
       "        vertical-align: top;\n",
       "    }\n",
       "\n",
       "    .dataframe thead th {\n",
       "        text-align: right;\n",
       "    }\n",
       "</style>\n",
       "<table border=\"1\" class=\"dataframe\">\n",
       "  <thead>\n",
       "    <tr style=\"text-align: right;\">\n",
       "      <th></th>\n",
       "      <th>Age</th>\n",
       "      <th>Sex</th>\n",
       "      <th>Cholesterol</th>\n",
       "      <th>Na</th>\n",
       "      <th>K</th>\n",
       "      <th>BP_HIGH</th>\n",
       "      <th>BP_LOW</th>\n",
       "      <th>BP_NORMAL</th>\n",
       "      <th>drugA</th>\n",
       "      <th>drugB</th>\n",
       "      <th>drugC</th>\n",
       "      <th>drugX</th>\n",
       "      <th>drugY</th>\n",
       "    </tr>\n",
       "  </thead>\n",
       "  <tbody>\n",
       "    <tr>\n",
       "      <th>0</th>\n",
       "      <td>23</td>\n",
       "      <td>0</td>\n",
       "      <td>0</td>\n",
       "      <td>0.792535</td>\n",
       "      <td>0.031258</td>\n",
       "      <td>1</td>\n",
       "      <td>0</td>\n",
       "      <td>0</td>\n",
       "      <td>0</td>\n",
       "      <td>0</td>\n",
       "      <td>0</td>\n",
       "      <td>0</td>\n",
       "      <td>1</td>\n",
       "    </tr>\n",
       "    <tr>\n",
       "      <th>1</th>\n",
       "      <td>47</td>\n",
       "      <td>1</td>\n",
       "      <td>0</td>\n",
       "      <td>0.739309</td>\n",
       "      <td>0.056468</td>\n",
       "      <td>0</td>\n",
       "      <td>1</td>\n",
       "      <td>0</td>\n",
       "      <td>0</td>\n",
       "      <td>0</td>\n",
       "      <td>1</td>\n",
       "      <td>0</td>\n",
       "      <td>0</td>\n",
       "    </tr>\n",
       "    <tr>\n",
       "      <th>2</th>\n",
       "      <td>47</td>\n",
       "      <td>1</td>\n",
       "      <td>0</td>\n",
       "      <td>0.697269</td>\n",
       "      <td>0.068944</td>\n",
       "      <td>0</td>\n",
       "      <td>1</td>\n",
       "      <td>0</td>\n",
       "      <td>0</td>\n",
       "      <td>0</td>\n",
       "      <td>1</td>\n",
       "      <td>0</td>\n",
       "      <td>0</td>\n",
       "    </tr>\n",
       "    <tr>\n",
       "      <th>3</th>\n",
       "      <td>28</td>\n",
       "      <td>0</td>\n",
       "      <td>0</td>\n",
       "      <td>0.563682</td>\n",
       "      <td>0.072289</td>\n",
       "      <td>0</td>\n",
       "      <td>0</td>\n",
       "      <td>1</td>\n",
       "      <td>0</td>\n",
       "      <td>0</td>\n",
       "      <td>0</td>\n",
       "      <td>1</td>\n",
       "      <td>0</td>\n",
       "    </tr>\n",
       "    <tr>\n",
       "      <th>4</th>\n",
       "      <td>61</td>\n",
       "      <td>0</td>\n",
       "      <td>0</td>\n",
       "      <td>0.559294</td>\n",
       "      <td>0.030998</td>\n",
       "      <td>0</td>\n",
       "      <td>1</td>\n",
       "      <td>0</td>\n",
       "      <td>0</td>\n",
       "      <td>0</td>\n",
       "      <td>0</td>\n",
       "      <td>0</td>\n",
       "      <td>1</td>\n",
       "    </tr>\n",
       "  </tbody>\n",
       "</table>\n",
       "</div>"
      ],
      "text/plain": [
       "   Age  Sex  Cholesterol        Na         K  BP_HIGH  BP_LOW  BP_NORMAL  \\\n",
       "0   23    0            0  0.792535  0.031258        1       0          0   \n",
       "1   47    1            0  0.739309  0.056468        0       1          0   \n",
       "2   47    1            0  0.697269  0.068944        0       1          0   \n",
       "3   28    0            0  0.563682  0.072289        0       0          1   \n",
       "4   61    0            0  0.559294  0.030998        0       1          0   \n",
       "\n",
       "   drugA  drugB  drugC  drugX  drugY  \n",
       "0      0      0      0      0      1  \n",
       "1      0      0      1      0      0  \n",
       "2      0      0      1      0      0  \n",
       "3      0      0      0      1      0  \n",
       "4      0      0      0      0      1  "
      ]
     },
     "execution_count": 25,
     "metadata": {},
     "output_type": "execute_result"
    }
   ],
   "source": [
    "# # 设置标签 用来标记聚类结果\n",
    "# df['class'] = np.zeros([df.shape[0]])\n",
    "# # 设置列表 用来确定 哪些坐标是聚类中心\n",
    "# k_center = {}\n",
    "# #准备可视化的列 三个数值列\n",
    "# # temp = df[['Age','K','class']]\n",
    "df.head()"
   ]
  },
  {
   "cell_type": "code",
   "execution_count": 26,
   "metadata": {},
   "outputs": [
    {
     "data": {
      "text/plain": [
       "(200, 13)"
      ]
     },
     "execution_count": 26,
     "metadata": {},
     "output_type": "execute_result"
    }
   ],
   "source": [
    "std = StandardScaler()\n",
    "data = std.fit_transform(df)\n",
    "data.shape"
   ]
  },
  {
   "cell_type": "code",
   "execution_count": 27,
   "metadata": {},
   "outputs": [],
   "source": [
    "# 计算两个向量的欧氏距离\n",
    "def distance_euclidean(vector_a, vector_b):\n",
    "    return np.sqrt(np.sum(np.power(vector_a - vector_b, 2)))\n",
    "\n",
    "\n",
    "# 构建k个初始簇质心\n",
    "def rand_centroids(data_set, k):\n",
    "    m = np.shape(data_set)[0]  # 总样本数\n",
    "    centroids_idx = set()  # 随机样本索引\n",
    "    while len(centroids_idx) < k:\n",
    "        rand_j = np.random.randint(m)\n",
    "        centroids_idx.add(rand_j)\n",
    "    centroids = data_set[list(centroids_idx)]  # 初始簇质心\n",
    "    return centroids\n",
    "\n",
    "\n",
    "# K-均值聚类方法\n",
    "def k_means(data_set, k):\n",
    "    m = np.shape(data_set)[0]  # 样本总数\n",
    "    cluster_result = np.mat(np.zeros((m, 2)))  # 簇分配结果矩阵\n",
    "    centroids = rand_centroids(data_set, k)  # 构建k个初始随机质心\n",
    "\n",
    "    cluster_changed = True  # 簇变化标志\n",
    "    while cluster_changed:\n",
    "        cluster_changed = False\n",
    "        for i in range(m):\n",
    "            min_dist = np.inf  # 样本点离最近质心的距离\n",
    "            min_idx = -1  # 样本的簇标记\n",
    "            for j in range(k):\n",
    "                dist_ij = distance_euclidean(centroids[j, :], data_set[i, :])  # 样本点I到质心J的距离\n",
    "                if dist_ij < min_dist:\n",
    "                    min_dist = dist_ij\n",
    "                    min_idx = j\n",
    "            if cluster_result[i, 0] != min_idx:\n",
    "                cluster_changed = True  # 样本点的簇标记发生变化\n",
    "            cluster_result[i, :] = min_idx, min_dist ** 2  # 簇分配结果矩阵的两列分别为簇标记和误差\n",
    "        for cent in range(k):  # 更新质心的位置\n",
    "            centroids[cent, :] = np.mean(data_set[np.nonzero(cluster_result[:, 0].A == cent)[0]], axis=0)\n",
    "    return centroids, cluster_result"
   ]
  },
  {
   "cell_type": "code",
   "execution_count": 28,
   "metadata": {},
   "outputs": [
    {
     "name": "stdout",
     "output_type": "stream",
     "text": [
      "MSELoss:  1736.315140756837\n"
     ]
    },
    {
     "data": {
      "text/plain": [
       "matrix([[ 1.        ,  6.00127966],\n",
       "        [ 2.        , 16.14627666],\n",
       "        [ 2.        , 15.74051579],\n",
       "        [ 2.        ,  6.9911226 ],\n",
       "        [ 1.        ,  8.21069233],\n",
       "        [ 2.        ,  7.71868796],\n",
       "        [ 1.        ,  6.7590189 ],\n",
       "        [ 2.        , 16.48001043],\n",
       "        [ 1.        ,  7.93346596],\n",
       "        [ 1.        ,  8.41134146],\n",
       "        [ 2.        , 20.22183417],\n",
       "        [ 1.        ,  4.87556039],\n",
       "        [ 1.        ,  6.00742215],\n",
       "        [ 1.        ,  8.64563037],\n",
       "        [ 2.        ,  7.41729383],\n",
       "        [ 1.        ,  8.99957016],\n",
       "        [ 2.        , 10.80997707],\n",
       "        [ 0.        ,  6.42875776],\n",
       "        [ 2.        , 18.31974481],\n",
       "        [ 1.        ,  5.61287464],\n",
       "        [ 1.        ,  8.71121288],\n",
       "        [ 1.        ,  8.60920039],\n",
       "        [ 1.        ,  5.93990693],\n",
       "        [ 1.        ,  8.29570662],\n",
       "        [ 1.        ,  6.82790943],\n",
       "        [ 1.        ,  7.39109676],\n",
       "        [ 1.        ,  5.19165454],\n",
       "        [ 2.        ,  5.89397718],\n",
       "        [ 1.        ,  5.79177512],\n",
       "        [ 1.        ,  5.32707779],\n",
       "        [ 2.        ,  8.50000213],\n",
       "        [ 0.        , 12.91275106],\n",
       "        [ 2.        ,  5.77454742],\n",
       "        [ 1.        ,  6.83075625],\n",
       "        [ 2.        ,  6.41775904],\n",
       "        [ 2.        ,  6.70538004],\n",
       "        [ 0.        ,  8.34837001],\n",
       "        [ 2.        ,  7.01667692],\n",
       "        [ 2.        ,  7.10514118],\n",
       "        [ 2.        ,  8.29908384],\n",
       "        [ 1.        ,  9.91337015],\n",
       "        [ 0.        , 13.47658192],\n",
       "        [ 1.        ,  6.74079604],\n",
       "        [ 2.        ,  7.65391342],\n",
       "        [ 2.        ,  6.33925117],\n",
       "        [ 2.        ,  7.77496145],\n",
       "        [ 0.        ,  9.27755039],\n",
       "        [ 2.        , 18.17168452],\n",
       "        [ 1.        ,  9.41908929],\n",
       "        [ 1.        ,  7.03621898],\n",
       "        [ 1.        ,  7.0215433 ],\n",
       "        [ 2.        , 10.42411114],\n",
       "        [ 1.        ,  6.93560709],\n",
       "        [ 1.        ,  6.15669856],\n",
       "        [ 0.        , 13.46016117],\n",
       "        [ 2.        , 18.82028725],\n",
       "        [ 0.        , 11.36076687],\n",
       "        [ 1.        ,  7.13881504],\n",
       "        [ 2.        ,  6.18855781],\n",
       "        [ 1.        ,  6.88113584],\n",
       "        [ 1.        ,  7.1711706 ],\n",
       "        [ 0.        ,  7.91718028],\n",
       "        [ 1.        ,  7.88326473],\n",
       "        [ 2.        ,  6.58196734],\n",
       "        [ 0.        , 12.15316778],\n",
       "        [ 1.        ,  8.73103424],\n",
       "        [ 0.        ,  7.59166874],\n",
       "        [ 2.        ,  8.14619248],\n",
       "        [ 1.        , 10.59274241],\n",
       "        [ 1.        ,  9.06135677],\n",
       "        [ 0.        , 12.52740559],\n",
       "        [ 1.        ,  8.1691824 ],\n",
       "        [ 2.        ,  8.7007097 ],\n",
       "        [ 1.        ,  6.8813997 ],\n",
       "        [ 1.        ,  7.6499026 ],\n",
       "        [ 1.        ,  6.68753718],\n",
       "        [ 0.        ,  7.00223058],\n",
       "        [ 1.        ,  6.23724889],\n",
       "        [ 0.        , 13.22452081],\n",
       "        [ 2.        ,  6.44092286],\n",
       "        [ 0.        , 11.36889227],\n",
       "        [ 2.        ,  8.11915632],\n",
       "        [ 2.        , 16.94715197],\n",
       "        [ 0.        ,  6.94772207],\n",
       "        [ 2.        , 16.9219579 ],\n",
       "        [ 0.        , 11.43781961],\n",
       "        [ 2.        ,  6.00169708],\n",
       "        [ 1.        ,  9.91014812],\n",
       "        [ 1.        ,  4.70661462],\n",
       "        [ 1.        ,  6.29611575],\n",
       "        [ 1.        ,  7.57480431],\n",
       "        [ 1.        ,  5.02441125],\n",
       "        [ 1.        ,  6.15890457],\n",
       "        [ 1.        ,  5.44053011],\n",
       "        [ 1.        ,  7.36266188],\n",
       "        [ 2.        ,  7.82264957],\n",
       "        [ 1.        ,  7.88678731],\n",
       "        [ 1.        ,  4.77715422],\n",
       "        [ 1.        ,  7.09491457],\n",
       "        [ 1.        ,  7.51717431],\n",
       "        [ 0.        ,  6.56392721],\n",
       "        [ 0.        ,  9.16861993],\n",
       "        [ 2.        , 17.06584878],\n",
       "        [ 2.        ,  5.85331375],\n",
       "        [ 1.        ,  7.36900982],\n",
       "        [ 2.        ,  5.84734195],\n",
       "        [ 2.        ,  8.94424983],\n",
       "        [ 1.        ,  5.2005709 ],\n",
       "        [ 0.        , 12.63868942],\n",
       "        [ 1.        , 10.02442333],\n",
       "        [ 0.        ,  7.7323103 ],\n",
       "        [ 2.        ,  7.35482183],\n",
       "        [ 2.        ,  6.22391906],\n",
       "        [ 2.        ,  8.20908655],\n",
       "        [ 2.        ,  7.78034424],\n",
       "        [ 1.        ,  5.66209749],\n",
       "        [ 2.        ,  7.99698313],\n",
       "        [ 2.        ,  7.24827284],\n",
       "        [ 0.        ,  7.58596609],\n",
       "        [ 1.        ,  6.22876406],\n",
       "        [ 1.        ,  8.92261025],\n",
       "        [ 1.        ,  8.96614741],\n",
       "        [ 1.        ,  7.64491827],\n",
       "        [ 1.        ,  8.01510868],\n",
       "        [ 0.        , 11.22951813],\n",
       "        [ 1.        ,  6.62312192],\n",
       "        [ 1.        ,  8.03712444],\n",
       "        [ 2.        ,  6.7880701 ],\n",
       "        [ 1.        ,  6.54314246],\n",
       "        [ 2.        ,  6.8690467 ],\n",
       "        [ 1.        ,  8.32777617],\n",
       "        [ 1.        ,  6.50794807],\n",
       "        [ 2.        ,  9.24669361],\n",
       "        [ 1.        ,  8.45360288],\n",
       "        [ 1.        ,  7.18264294],\n",
       "        [ 2.        , 10.0748062 ],\n",
       "        [ 0.        , 11.12481925],\n",
       "        [ 0.        ,  9.30378665],\n",
       "        [ 0.        , 11.66992761],\n",
       "        [ 2.        ,  9.11792893],\n",
       "        [ 0.        ,  9.07903621],\n",
       "        [ 1.        ,  9.40010334],\n",
       "        [ 0.        , 11.01817551],\n",
       "        [ 1.        ,  9.38063193],\n",
       "        [ 0.        ,  6.36233523],\n",
       "        [ 2.        ,  7.5271851 ],\n",
       "        [ 2.        ,  7.31798803],\n",
       "        [ 0.        ,  8.70914523],\n",
       "        [ 2.        ,  8.17934284],\n",
       "        [ 2.        , 18.42958789],\n",
       "        [ 0.        ,  7.23160461],\n",
       "        [ 0.        , 11.5828031 ],\n",
       "        [ 2.        ,  7.38693732],\n",
       "        [ 2.        ,  9.67636457],\n",
       "        [ 1.        ,  5.67744786],\n",
       "        [ 2.        , 15.59006599],\n",
       "        [ 0.        ,  6.81144808],\n",
       "        [ 1.        ,  6.51850713],\n",
       "        [ 2.        , 16.49162598],\n",
       "        [ 2.        ,  7.93219083],\n",
       "        [ 2.        ,  8.34945655],\n",
       "        [ 0.        , 11.94090048],\n",
       "        [ 2.        ,  7.67410231],\n",
       "        [ 1.        ,  6.40224058],\n",
       "        [ 1.        ,  9.34023459],\n",
       "        [ 1.        ,  6.71340871],\n",
       "        [ 1.        ,  7.48710559],\n",
       "        [ 2.        ,  7.58845405],\n",
       "        [ 1.        ,  6.85892926],\n",
       "        [ 0.        , 12.65812076],\n",
       "        [ 2.        ,  6.73692708],\n",
       "        [ 2.        ,  5.92080339],\n",
       "        [ 1.        ,  6.93288401],\n",
       "        [ 1.        ,  5.2583727 ],\n",
       "        [ 0.        ,  7.75238171],\n",
       "        [ 1.        ,  7.95972611],\n",
       "        [ 0.        ,  6.42207717],\n",
       "        [ 1.        ,  7.479658  ],\n",
       "        [ 1.        ,  7.09291148],\n",
       "        [ 1.        ,  8.69075294],\n",
       "        [ 1.        ,  6.51980544],\n",
       "        [ 2.        ,  9.65808093],\n",
       "        [ 2.        ,  9.43633122],\n",
       "        [ 1.        ,  6.2085532 ],\n",
       "        [ 1.        ,  8.62322998],\n",
       "        [ 1.        ,  9.42533312],\n",
       "        [ 0.        , 12.4006891 ],\n",
       "        [ 0.        ,  6.85733752],\n",
       "        [ 1.        ,  7.62805325],\n",
       "        [ 1.        ,  5.88923521],\n",
       "        [ 1.        ,  5.20266349],\n",
       "        [ 0.        ,  9.32421819],\n",
       "        [ 1.        , 10.44204578],\n",
       "        [ 2.        , 20.5027115 ],\n",
       "        [ 1.        ,  4.75836574],\n",
       "        [ 2.        , 19.08801544],\n",
       "        [ 2.        , 18.81885827],\n",
       "        [ 2.        ,  6.35021452],\n",
       "        [ 2.        ,  8.0844121 ],\n",
       "        [ 2.        ,  5.70747379]])"
      ]
     },
     "execution_count": 28,
     "metadata": {},
     "output_type": "execute_result"
    }
   ],
   "source": [
    "center ,result = k_means(data, 3)\n",
    "print(\"MSELoss: \", np.sum(result, axis=0)[0, 1])\n",
    "result"
   ]
  },
  {
   "cell_type": "code",
   "execution_count": 29,
   "metadata": {},
   "outputs": [
    {
     "data": {
      "text/plain": [
       "array([[-1.29159102, -1.040833  , -0.97043679, ..., -0.60816364,\n",
       "         1.0944415 ,  1.        ],\n",
       "       [ 0.16269866,  0.96076892, -0.97043679, ..., -0.60816364,\n",
       "        -0.91370804,  2.        ],\n",
       "       [ 0.16269866,  0.96076892, -0.97043679, ..., -0.60816364,\n",
       "        -0.91370804,  2.        ],\n",
       "       ...,\n",
       "       [ 0.46567567,  0.96076892, -0.97043679, ...,  1.64429429,\n",
       "        -0.91370804,  2.        ],\n",
       "       [-1.29159102,  0.96076892,  1.03046381, ...,  1.64429429,\n",
       "        -0.91370804,  2.        ],\n",
       "       [-0.26146916, -1.040833  ,  1.03046381, ...,  1.64429429,\n",
       "        -0.91370804,  2.        ]])"
      ]
     },
     "execution_count": 29,
     "metadata": {},
     "output_type": "execute_result"
    }
   ],
   "source": [
    "temp = result[:,0]\n",
    "temp = temp.reshape(1,-1)\n",
    "data = np.insert(data,13,temp,axis=1)\n",
    "data"
   ]
  },
  {
   "cell_type": "code",
   "execution_count": 30,
   "metadata": {},
   "outputs": [
    {
     "data": {
      "text/plain": [
       "[<matplotlib.lines.Line2D at 0x202ffe009d0>]"
      ]
     },
     "execution_count": 30,
     "metadata": {},
     "output_type": "execute_result"
    },
    {
     "data": {
      "image/png": "[encoded data removed]",
      "text/plain": [
       "<Figure size 640x480 with 1 Axes>"
      ]
     },
     "metadata": {},
     "output_type": "display_data"
    }
   ],
   "source": [
    "loss_list = []\n",
    "\n",
    "for k in range(2, 20,1):\n",
    "    center, result = k_means(data, k)\n",
    "    loss = np.sum(result, axis=0)[0, 1]\n",
    "    loss_list.append(loss)\n",
    "plt.xlabel('classes')\n",
    "plt.ylabel('loss')\n",
    "my_x_ticks = np.arange(2, 20, 1)\n",
    "plt.xticks(my_x_ticks)\n",
    "plt.plot(range(2, 20 , 1), loss_list)"
   ]
  },
  {
   "cell_type": "code",
   "execution_count": 32,
   "metadata": {},
   "outputs": [
    {
     "name": "stdout",
     "output_type": "stream",
     "text": [
      "MSELoss:  1433.8835213823502\n"
     ]
    }
   ],
   "source": [
    "center ,result = k_means(data, 4)\n",
    "print(\"MSELoss: \", np.sum(result, axis=0)[0, 1])"
   ]
  }
 ],
 "metadata": {
  "kernelspec": {
   "display_name": "Python 3",
   "language": "python",
   "name": "python3"
  },
  "language_info": {
   "codemirror_mode": {
    "name": "ipython",
    "version": 3
   },
   "file_extension": ".py",
   "mimetype": "text/x-python",
   "name": "python",
   "nbconvert_exporter": "python",
   "pygments_lexer": "ipython3",
   "version": "3.9.10"
  }
 },
 "nbformat": 4,
 "nbformat_minor": 2
}
