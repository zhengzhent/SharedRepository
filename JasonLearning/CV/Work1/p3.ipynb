{
 "cells": [
  {
   "cell_type": "code",
   "execution_count": 4,
   "metadata": {},
   "outputs": [],
   "source": [
    "import cv2\n",
    "import matplotlib.pyplot as plt\n",
    "import numpy as np\n",
    "\n",
    "catpath = 'image\\cat.jpg'\n",
    "dogpath = 'image\\dog.jpg'\n",
    "\n",
    "catimage =  cv2.imread(catpath)\n",
    "dogimage = cv2.imread(dogpath)\n",
    "\n",
    "def cv_show(name,img):\n",
    "    cv2.imshow(name,img)\n",
    "    cv2.waitKey(0)\n",
    "    cv2.destroyAllWindows()"
   ]
  },
  {
   "cell_type": "code",
   "execution_count": 6,
   "metadata": {},
   "outputs": [
    {
     "data": {
      "text/plain": [
       "True"
      ]
     },
     "execution_count": 6,
     "metadata": {},
     "output_type": "execute_result"
    }
   ],
   "source": [
    "height, width = dogimage.shape[:2]\n",
    "center_x, center_y = width // 2, height // 2\n",
    "\n",
    "# 定义邻域大小\n",
    "neighborhood_size = 31\n",
    "\n",
    "# 设置邻域的值为红色 (BGR格式)\n",
    "dogimage[center_y - neighborhood_size // 2:center_y + neighborhood_size // 2 + 1,\n",
    "      center_x - neighborhood_size // 2:center_x + neighborhood_size // 2 + 1] = [0, 0, 255]\n",
    "\n",
    "# 保存新的图片\n",
    "cv2.imwrite('processedImg/P3image.jpg', dogimage)"
   ]
  }
 ],
 "metadata": {
  "kernelspec": {
   "display_name": "Python 3",
   "language": "python",
   "name": "python3"
  },
  "language_info": {
   "codemirror_mode": {
    "name": "ipython",
    "version": 3
   },
   "file_extension": ".py",
   "mimetype": "text/x-python",
   "name": "python",
   "nbconvert_exporter": "python",
   "pygments_lexer": "ipython3",
   "version": "3.9.10"
  }
 },
 "nbformat": 4,
 "nbformat_minor": 2
}
