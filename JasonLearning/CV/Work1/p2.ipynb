{
 "cells": [
  {
   "cell_type": "code",
   "execution_count": 8,
   "metadata": {},
   "outputs": [],
   "source": [
    "import cv2\n",
    "import matplotlib.pyplot as plt\n",
    "import numpy as np\n",
    "\n",
    "catpath = 'image\\cat.jpg'\n",
    "dogpath = 'image\\dog.jpg'\n",
    "\n",
    "catimage =  cv2.imread(catpath)\n",
    "dogimage = cv2.imread(dogpath)\n",
    "\n",
    "def cv_show(name,img):\n",
    "    cv2.imshow(name,img)\n",
    "    cv2.waitKey(0)\n",
    "    cv2.destroyAllWindows()"
   ]
  },
  {
   "cell_type": "markdown",
   "metadata": {},
   "source": [
    "### resize"
   ]
  },
  {
   "cell_type": "code",
   "execution_count": 9,
   "metadata": {},
   "outputs": [
    {
     "data": {
      "text/plain": [
       "True"
      ]
     },
     "execution_count": 9,
     "metadata": {},
     "output_type": "execute_result"
    }
   ],
   "source": [
    "resizedimage = cv2.resize(dogimage,(400,300))\n",
    "cv_show('resizeimage',resizedimage)\n",
    "cv2.imwrite('processedImg/resized_dog.jpg', resizedimage)"
   ]
  },
  {
   "cell_type": "markdown",
   "metadata": {},
   "source": [
    "### rotate"
   ]
  },
  {
   "cell_type": "code",
   "execution_count": 13,
   "metadata": {},
   "outputs": [
    {
     "data": {
      "text/plain": [
       "True"
      ]
     },
     "execution_count": 13,
     "metadata": {},
     "output_type": "execute_result"
    }
   ],
   "source": [
    "height, width = dogimage.shape[:2]\n",
    "angle = 45\n",
    "# 定义旋转中心\n",
    "center = (width // 2, height // 2)\n",
    "# 通过指定旋转中心、角度和比例因子来构造旋转矩阵\n",
    "rotation_matrix = cv2.getRotationMatrix2D(center, angle, 1.0)\n",
    "# 应用仿射变换\n",
    "rotated_image = cv2.warpAffine(dogimage, rotation_matrix, (width, height))\n",
    "cv_show('rotateimage',rotated_image)\n",
    "cv2.imwrite('processedImg/rotated_dog.jpg', rotated_image)"
   ]
  },
  {
   "cell_type": "markdown",
   "metadata": {},
   "source": [
    "### flip"
   ]
  },
  {
   "cell_type": "code",
   "execution_count": 14,
   "metadata": {},
   "outputs": [
    {
     "data": {
      "text/plain": [
       "True"
      ]
     },
     "execution_count": 14,
     "metadata": {},
     "output_type": "execute_result"
    }
   ],
   "source": [
    "flipped_image = cv2.flip(dogimage, 1)\n",
    "cv_show('flipped_image',flipped_image)\n",
    "cv2.imwrite('processedImg/flipped_dog.jpg', flipped_image)"
   ]
  },
  {
   "cell_type": "code",
   "execution_count": null,
   "metadata": {},
   "outputs": [],
   "source": []
  }
 ],
 "metadata": {
  "kernelspec": {
   "display_name": "Python 3",
   "language": "python",
   "name": "python3"
  },
  "language_info": {
   "codemirror_mode": {
    "name": "ipython",
    "version": 3
   },
   "file_extension": ".py",
   "mimetype": "text/x-python",
   "name": "python",
   "nbconvert_exporter": "python",
   "pygments_lexer": "ipython3",
   "version": "3.9.10"
  }
 },
 "nbformat": 4,
 "nbformat_minor": 2
}
