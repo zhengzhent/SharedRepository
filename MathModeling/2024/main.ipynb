{
 "cells": [
  {
   "cell_type": "code",
   "execution_count": 4,
   "metadata": {},
   "outputs": [
    {
     "name": "stdout",
     "output_type": "stream",
     "text": [
      "Number of simulations with p < 0.05: 93018\n",
      "Number of simulations with p > 0.05: 6982\n"
     ]
    }
   ],
   "source": [
    "import numpy as np\n",
    "import pandas as pd\n",
    "from statsmodels.tsa.arima_process import ArmaProcess\n",
    "from scipy import stats\n",
    "\n",
    "# Number of simulations\n",
    "num_simulations = 100000\n",
    "n_post_intervention = 60 \n",
    "\n",
    "# Initialize counters for p<0.05 and p>0.05\n",
    "p_less_than_0_05_count = 0\n",
    "p_greater_than_0_05_count = 0\n",
    "\n",
    "for _ in range(num_simulations):\n",
    "    # Generate ARIMA(1,0,1) model parameters\n",
    "    ar = np.array([1, -0.9])\n",
    "    ma = np.array([1, 0.9])\n",
    "    ARIMA_object = ArmaProcess(ar, ma)\n",
    "\n",
    "    # Generate pre-intervention synthetic data\n",
    "    synthetic_data_pre_intervention = ARIMA_object.generate_sample(nsample=348)\n",
    "    df1 = synthetic_data_pre_intervention[0:288]\n",
    "    df2 = synthetic_data_pre_intervention[288:]\n",
    "    a = min(df1)\n",
    "    b = min(df2)\n",
    "\n",
    "    df1 = df1 - a\n",
    "    df2 = df2 - a\n",
    "\n",
    "    # Apply intervention effects\n",
    "    intervention_effects = np.linspace(0.9, 0.4, n_post_intervention)\n",
    "    random_noise = np.random.normal(0, 0.7, n_post_intervention)  # 随机扰动，均值为0，标准差为0.1（可根据需要调整）\n",
    "    df3 = df2 * intervention_effects + random_noise\n",
    "\n",
    "    # Calculate mean of df1 and df3\n",
    "    mean_df1 = np.mean(df1)\n",
    "    mean_df3 = np.mean(df3)\n",
    "\n",
    "    # Perform t-test\n",
    "    t_stat, p_value = stats.ttest_ind(df1, df3)\n",
    "\n",
    "    # Check if p-value is less than 0.05 or greater than 0.05\n",
    "    if p_value < 0.05:\n",
    "        p_less_than_0_05_count += 1\n",
    "    else:\n",
    "        p_greater_than_0_05_count += 1\n",
    "\n",
    "# Print the results\n",
    "print(f'Number of simulations with p < 0.05: {p_less_than_0_05_count}')\n",
    "print(f'Number of simulations with p > 0.05: {p_greater_than_0_05_count}')"
   ]
  },
  {
   "cell_type": "code",
   "execution_count": null,
   "metadata": {},
   "outputs": [],
   "source": []
  }
 ],
 "metadata": {
  "kernelspec": {
   "display_name": "Python 3",
   "language": "python",
   "name": "python3"
  },
  "language_info": {
   "codemirror_mode": {
    "name": "ipython",
    "version": 3
   },
   "file_extension": ".py",
   "mimetype": "text/x-python",
   "name": "python",
   "nbconvert_exporter": "python",
   "pygments_lexer": "ipython3",
   "version": "3.9.10"
  }
 },
 "nbformat": 4,
 "nbformat_minor": 2
}
