{
 "cells": [
  {
   "cell_type": "code",
   "execution_count": 11,
   "metadata": {},
   "outputs": [
    {
     "data": {
      "text/plain": [
       "<bound method NDFrame.head of           Date  Contest number   Word  Number of  reported results  \\\n",
       "0   2022-01-07             202  slump                        80630   \n",
       "1   2022-01-08             203  crank                       101503   \n",
       "2   2022-01-09             204  gorge                        91477   \n",
       "3   2022-01-10             205  query                       107134   \n",
       "4   2022-01-11             206  drink                       153880   \n",
       "..         ...             ...    ...                          ...   \n",
       "354 2022-12-27             556  condo                        20879   \n",
       "355 2022-12-28             557  impel                        20160   \n",
       "356 2022-12-29             558  havoc                        20001   \n",
       "357 2022-12-30             559  molar                        21204   \n",
       "358 2022-12-31             560  manly                        20380   \n",
       "\n",
       "     Number in hard mode  1 try  2 tries  3 tries  4 tries  5 tries  6 tries  \\\n",
       "0                   1362      1        3       23       39       24        9   \n",
       "1                   1763      1        5       23       31       24       14   \n",
       "2                   1913      1        3       13       27       30       22   \n",
       "3                   2242      1        4       16       30       30       17   \n",
       "4                   3017      1        9       35       34       16        5   \n",
       "..                   ...    ...      ...      ...      ...      ...      ...   \n",
       "354                 2012      0        2       17       35       29       14   \n",
       "355                 1937      0        3       21       40       25        9   \n",
       "356                 1919      0        2       16       38       30       12   \n",
       "357                 1973      0        4       21       38       26        9   \n",
       "358                 1899      0        2       17       37       29       12   \n",
       "\n",
       "     7 or more tries (X)  \n",
       "0                      1  \n",
       "1                      2  \n",
       "2                      4  \n",
       "3                      2  \n",
       "4                      1  \n",
       "..                   ...  \n",
       "354                    3  \n",
       "355                    1  \n",
       "356                    2  \n",
       "357                    1  \n",
       "358                    2  \n",
       "\n",
       "[359 rows x 12 columns]>"
      ]
     },
     "execution_count": 11,
     "metadata": {},
     "output_type": "execute_result"
    }
   ],
   "source": [
    "import pandas as pd\n",
    "\n",
    "path = 'D:\\\\MyWork\\\\Program\\\\MathModeling\\\\2023_C\\\\data\\\\data.xls'\n",
    "data = pd.read_excel(path)\n",
    "data.head"
   ]
  },
  {
   "cell_type": "code",
   "execution_count": 14,
   "metadata": {},
   "outputs": [
    {
     "name": "stdout",
     "output_type": "stream",
     "text": [
      "<class 'pandas.core.frame.DataFrame'>\n",
      "RangeIndex: 359 entries, 0 to 358\n",
      "Data columns (total 12 columns):\n",
      " #   Column                       Non-Null Count  Dtype         \n",
      "---  ------                       --------------  -----         \n",
      " 0   Date                         359 non-null    datetime64[ns]\n",
      " 1   Contest number               359 non-null    int64         \n",
      " 2   Word                         359 non-null    object        \n",
      " 3   Number of  reported results  359 non-null    int64         \n",
      " 4   Number in hard mode          359 non-null    int64         \n",
      " 5   1 try                        359 non-null    int64         \n",
      " 6   2 tries                      359 non-null    int64         \n",
      " 7   3 tries                      359 non-null    int64         \n",
      " 8   4 tries                      359 non-null    int64         \n",
      " 9   5 tries                      359 non-null    int64         \n",
      " 10  6 tries                      359 non-null    int64         \n",
      " 11  7 or more tries (X)          359 non-null    int64         \n",
      "dtypes: datetime64[ns](1), int64(10), object(1)\n",
      "memory usage: 33.8+ KB\n",
      "None\n"
     ]
    }
   ],
   "source": [
    "print(data.info())"
   ]
  },
  {
   "cell_type": "code",
   "execution_count": null,
   "metadata": {},
   "outputs": [],
   "source": []
  }
 ],
 "metadata": {
  "kernelspec": {
   "display_name": "Python 3",
   "language": "python",
   "name": "python3"
  },
  "language_info": {
   "codemirror_mode": {
    "name": "ipython",
    "version": 3
   },
   "file_extension": ".py",
   "mimetype": "text/x-python",
   "name": "python",
   "nbconvert_exporter": "python",
   "pygments_lexer": "ipython3",
   "version": "3.9.10"
  }
 },
 "nbformat": 4,
 "nbformat_minor": 2
}
